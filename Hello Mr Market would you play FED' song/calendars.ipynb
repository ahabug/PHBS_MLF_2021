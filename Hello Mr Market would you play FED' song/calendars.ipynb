{
 "cells": [
  {
   "cell_type": "markdown",
   "id": "46e4346b",
   "metadata": {
    "toc": true
   },
   "source": [
    "<h1>Table of Contents<span class=\"tocSkip\"></span></h1>\n",
    "<div class=\"toc\"><ul class=\"toc-item\"><li><span><a href=\"#Meeting-Calendars\" data-toc-modified-id=\"Meeting-Calendars-1\"><span class=\"toc-item-num\">1&nbsp;&nbsp;</span>Meeting Calendars</a></span></li><li><span><a href=\"#Minutes-and-Statements\" data-toc-modified-id=\"Minutes-and-Statements-2\"><span class=\"toc-item-num\">2&nbsp;&nbsp;</span>Minutes and Statements</a></span></li></ul></div>"
   ]
  },
  {
   "cell_type": "code",
   "execution_count": 1,
   "id": "14228de5",
   "metadata": {
    "ExecuteTime": {
     "end_time": "2021-10-29T15:21:16.307533Z",
     "start_time": "2021-10-29T15:21:15.726959Z"
    }
   },
   "outputs": [],
   "source": [
    "import numpy as np\n",
    "import requests\n",
    "from lxml import etree\n",
    "import calendar\n",
    "import functools\n",
    "import re\n",
    "import json\n",
    "import os"
   ]
  },
  {
   "cell_type": "code",
   "execution_count": 129,
   "id": "f34c035d",
   "metadata": {},
   "outputs": [],
   "source": [
    "header = {\n",
    "    'Accept': 'text/html,application/xhtml+xml,application/xml;q=0.9,image/avif,image/webp,image/apng,*/*;q=0.8,application/signed-exchange;v=b3;q=0.9',\n",
    "    'Accept-Encoding': 'gzip, deflate, br',\n",
    "    'Accept-Language': 'en,zh-CN;q=0.9,zh;q=0.8,zh-TW;q=0.7',\n",
    "    'DNT': '1',\n",
    "    'Host': 'www.federalreserve.gov',\n",
    "    'Referer': 'https://www.federalreserve.gov/monetarypolicy/fomc_historical_year.htm',\n",
    "    'sec-ch-ua': '\"Google Chrome\";v=\"95\", \"Chromium\";v=\"95\", \";Not A Brand\";v=\"99\"',\n",
    "    'sec-ch-ua-mobile': '?0',\n",
    "    'sec-ch-ua-platform': \"Windows\",\n",
    "    'Sec-Fetch-Dest': 'document',\n",
    "    'Sec-Fetch-Mode': 'navigate',\n",
    "    'Sec-Fetch-Site': 'same-origin',\n",
    "    'Sec-Fetch-User': '?1',\n",
    "    'Upgrade-Insecure-Requests': '1'\n",
    "}"
   ]
  },
  {
   "cell_type": "markdown",
   "id": "6e620381",
   "metadata": {},
   "source": [
    "### Meeting Calendars"
   ]
  },
  {
   "cell_type": "code",
   "execution_count": 155,
   "id": "c65a174b",
   "metadata": {},
   "outputs": [],
   "source": [
    "monthdict = {month: index for index, month in enumerate(calendar.month_name) if month}\n",
    "days = []"
   ]
  },
  {
   "cell_type": "code",
   "execution_count": 156,
   "id": "4bd9f3e8",
   "metadata": {},
   "outputs": [],
   "source": [
    "for year in range(1994,2011):\n",
    "    base_url = \"https://www.federalreserve.gov/monetarypolicy/fomchistorical{}.htm\".format(year)\n",
    "    res = requests.get(url=base_url, headers=header).text\n",
    "    tree = etree.HTML(res)\n",
    "    historical_meeting = tree.xpath('//div[@class=\"panel-heading\"]/h5/text()')\n",
    "    for meeting in historical_meeting:\n",
    "        if 'Conference Call' in meeting:\n",
    "            continue\n",
    "        meeting = meeting.replace('Meeting ','').replace('-',' ') \n",
    "        year = meeting.split()[-1]\n",
    "        date = meeting.split()[-2]\n",
    "        if len(date) < 2:\n",
    "            date = '0' + date\n",
    "        if len(meeting.split()) < 5:\n",
    "            month = meeting.split()[0]\n",
    "        else:\n",
    "            month = meeting.split()[2]\n",
    "        if month in monthdict:\n",
    "            month = monthdict[month]\n",
    "            if month < 10:\n",
    "                month = '0' + str(month)\n",
    "            else:\n",
    "                month = str(month)\n",
    "        day = year + month + date\n",
    "#         print(day)\n",
    "        days.append(day)"
   ]
  },
  {
   "cell_type": "code",
   "execution_count": 159,
   "id": "b17121d8",
   "metadata": {},
   "outputs": [],
   "source": [
    "for year in range(2011,2016):\n",
    "    base_url = \"https://www.federalreserve.gov/monetarypolicy/fomchistorical{}.htm\".format(year)\n",
    "    res = requests.get(url=base_url, headers=header).text\n",
    "    tree = etree.HTML(res)\n",
    "    historical_meeting = tree.xpath('//h5[@class=\"panel-heading panel-heading--shaded\"]/text()')\n",
    "    for meeting in historical_meeting:\n",
    "        if 'Conference Call' in meeting:\n",
    "            continue\n",
    "        meeting = meeting.replace('Meeting ','').replace('-',' ') \n",
    "        year = meeting.split()[-1]\n",
    "        date = meeting.split()[-2]\n",
    "        if len(date) < 2:\n",
    "            date = '0' + date\n",
    "        if len(meeting.split()) < 5:\n",
    "            month = meeting.split()[0]\n",
    "        else:\n",
    "            month = meeting.split()[2]\n",
    "        if month in monthdict:\n",
    "            month = monthdict[month]\n",
    "            if month < 10:\n",
    "                month = '0' + str(month)\n",
    "            else:\n",
    "                month = str(month)\n",
    "        day = year + month + date\n",
    "#         print(day)\n",
    "        days.append(day)"
   ]
  },
  {
   "cell_type": "code",
   "execution_count": 161,
   "id": "aa341bdf",
   "metadata": {},
   "outputs": [],
   "source": [
    "base_url = \"https://www.federalreserve.gov/monetarypolicy/fomccalendars.htm\"\n",
    "res = requests.get(url=base_url, headers=header).text\n",
    "tree = etree.HTML(res)\n",
    "historical_meeting = tree.xpath('//div[@class=\"col-xs-12 col-md-4 col-lg-4 fomc-meeting__minutes\"]/a[2]/@href')\n",
    "for meeting in historical_meeting:\n",
    "    day = meeting[27:35]\n",
    "    days.append(day)"
   ]
  },
  {
   "cell_type": "code",
   "execution_count": 165,
   "id": "230f3756",
   "metadata": {},
   "outputs": [],
   "source": [
    "with open('./data/calendars_minutes.txt', 'w') as f:\n",
    "    for i in range(len(days)):\n",
    "        s = (re.sub(r\"['{ },]*\", '', str(days[i])) + '\\n').replace(':', ',')\n",
    "        f.write(s)"
   ]
  },
  {
   "cell_type": "code",
   "execution_count": null,
   "id": "57021447",
   "metadata": {},
   "outputs": [],
   "source": []
  }
 ],
 "metadata": {
  "kernelspec": {
   "display_name": "Python 3 (ipykernel)",
   "language": "python",
   "name": "python3"
  },
  "language_info": {
   "codemirror_mode": {
    "name": "ipython",
    "version": 3
   },
   "file_extension": ".py",
   "mimetype": "text/x-python",
   "name": "python",
   "nbconvert_exporter": "python",
   "pygments_lexer": "ipython3",
   "version": "3.9.5"
  },
  "toc": {
   "base_numbering": 1,
   "nav_menu": {},
   "number_sections": true,
   "sideBar": true,
   "skip_h1_title": true,
   "title_cell": "Table of Contents",
   "title_sidebar": "Contents",
   "toc_cell": true,
   "toc_position": {},
   "toc_section_display": true,
   "toc_window_display": true
  }
 },
 "nbformat": 4,
 "nbformat_minor": 5
}
