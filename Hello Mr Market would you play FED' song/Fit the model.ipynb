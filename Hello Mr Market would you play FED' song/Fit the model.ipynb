{
 "cells": [
  {
   "cell_type": "markdown",
   "id": "373f4da1",
   "metadata": {
    "toc": true
   },
   "source": [
    "<h1>Table of Contents<span class=\"tocSkip\"></span></h1>\n",
    "<div class=\"toc\"><ul class=\"toc-item\"><li><span><a href=\"#Train-/-Dev-/-Test-Split\" data-toc-modified-id=\"Train-/-Dev-/-Test-Split-1\"><span class=\"toc-item-num\">1&nbsp;&nbsp;</span>Train / Dev / Test Split</a></span><ul class=\"toc-item\"><li><span><a href=\"#SPY\" data-toc-modified-id=\"SPY-1.1\"><span class=\"toc-item-num\">1.1&nbsp;&nbsp;</span>SPY</a></span></li><li><span><a href=\"#TNX\" data-toc-modified-id=\"TNX-1.2\"><span class=\"toc-item-num\">1.2&nbsp;&nbsp;</span>TNX</a></span></li><li><span><a href=\"#VIX\" data-toc-modified-id=\"VIX-1.3\"><span class=\"toc-item-num\">1.3&nbsp;&nbsp;</span>VIX</a></span></li></ul></li></ul></div>"
   ]
  },
  {
   "cell_type": "markdown",
   "id": "df62142b",
   "metadata": {},
   "source": [
    "# Fit the model"
   ]
  },
  {
   "cell_type": "markdown",
   "id": "f3e00f12",
   "metadata": {},
   "source": [
    "We select three indexes to skecth the effect of the FOMC's documents on the market: S&P 500 Index(SPY), Treasury Yield 10 Years (TNX), CBOE Volatility Index (VIX). The data is from [Yahoo Finance](https://finance.yahoo.com/)"
   ]
  },
  {
   "cell_type": "code",
   "execution_count": 102,
   "id": "9a5106dc",
   "metadata": {
    "ExecuteTime": {
     "end_time": "2021-11-09T03:48:16.756245Z",
     "start_time": "2021-11-09T03:48:16.739252Z"
    }
   },
   "outputs": [],
   "source": [
    "import pandas as pd\n",
    "import datetime\n",
    "from sklearn.model_selection import train_test_split\n",
    "import numpy as np\n",
    "from textblob import TextBlob\n",
    "from sklearn.metrics import accuracy_score\n",
    "from sklearn.metrics import classification_report, confusion_matrix"
   ]
  },
  {
   "cell_type": "code",
   "execution_count": 6,
   "id": "95d313bd",
   "metadata": {
    "ExecuteTime": {
     "end_time": "2021-11-09T02:53:28.432404Z",
     "start_time": "2021-11-09T02:53:28.374449Z"
    }
   },
   "outputs": [],
   "source": [
    "spy_df = pd.read_csv('./data/SPY.csv')\n",
    "spy_df.fillna(method='pad')\n",
    "spy_df[\"SPY\"] = spy_df[\"Adj Close\"].pct_change() * 100\n",
    "spy_df.drop(columns=[\"Open\", 'High', 'Low', 'Close', \"Adj Close\", 'Volume'], inplace=True)\n",
    "spy_df.drop(0, inplace=True)\n",
    "vix_df = pd.read_csv('./data/^VIX.csv')\n",
    "vix_df.fillna(method='pad')\n",
    "vix_df[\"VIX\"] = vix_df[\"Adj Close\"].pct_change() * 100\n",
    "vix_df.drop(columns=[\"Open\", 'High', 'Low', 'Close', \"Adj Close\", 'Volume'], inplace=True)\n",
    "vix_df.drop(0, inplace=True)\n",
    "tnx_df = pd.read_csv('./data/^TNX.csv')\n",
    "tnx_df.fillna(method='pad')\n",
    "tnx_df[\"TNX\"] = tnx_df[\"Adj Close\"].pct_change() * 100\n",
    "tnx_df.drop(columns=[\"Open\", 'High', 'Low', 'Close', \"Adj Close\", 'Volume'], inplace=True)\n",
    "tnx_df.drop(0, inplace=True)"
   ]
  },
  {
   "cell_type": "code",
   "execution_count": 81,
   "id": "45d3d5fc",
   "metadata": {
    "ExecuteTime": {
     "end_time": "2021-11-09T03:37:39.924318Z",
     "start_time": "2021-11-09T03:37:39.907322Z"
    },
    "scrolled": false
   },
   "outputs": [],
   "source": [
    "mkt_df = pd.merge(spy_df, vix_df, how='left', on='Date')\n",
    "mkt_df = pd.merge(mkt_df, tnx_df, how='left', on='Date')\n",
    "mkt_df.rename(columns={'Date':'date'},inplace=True)\n",
    "mkt_df['date'] = pd.to_datetime(mkt_df['date'])"
   ]
  },
  {
   "cell_type": "code",
   "execution_count": 82,
   "id": "e5eacf16",
   "metadata": {
    "ExecuteTime": {
     "end_time": "2021-11-09T03:37:40.274562Z",
     "start_time": "2021-11-09T03:37:40.250572Z"
    }
   },
   "outputs": [],
   "source": [
    "data_1 = pd.read_feather(\"./data_1.feather\")\n",
    "data_2 = pd.read_feather(\"./data_2.feather\")\n",
    "data_2 = pd.concat([data_2['minutes'],data_1['date']],axis=1)"
   ]
  },
  {
   "cell_type": "code",
   "execution_count": 83,
   "id": "eeb9a695",
   "metadata": {
    "ExecuteTime": {
     "end_time": "2021-11-09T03:37:40.687422Z",
     "start_time": "2021-11-09T03:37:40.663399Z"
    }
   },
   "outputs": [],
   "source": [
    "df_statements = pd.merge(data_1, mkt_df, how='left', on='date')\n",
    "mkt_df['date'] = mkt_df['date'] - datetime.timedelta(days=21)\n",
    "df_minutes = pd.merge(data_2, mkt_df, how='left', on='date')"
   ]
  },
  {
   "cell_type": "code",
   "execution_count": 84,
   "id": "cb70cccd",
   "metadata": {
    "ExecuteTime": {
     "end_time": "2021-11-09T03:37:42.876899Z",
     "start_time": "2021-11-09T03:37:42.859901Z"
    }
   },
   "outputs": [],
   "source": [
    "for var in df_statements.columns[-3:]:\n",
    "    df_statements[var] =  df_statements[var].apply(lambda x: 1 if x > 0 else 0)\n",
    "    df_minutes[var] =  df_minutes[var].apply(lambda x: 1 if x > 0 else 0)"
   ]
  },
  {
   "cell_type": "markdown",
   "id": "0d46824d",
   "metadata": {
    "ExecuteTime": {
     "end_time": "2021-11-09T03:20:03.848391Z",
     "start_time": "2021-11-09T03:20:03.832382Z"
    }
   },
   "source": [
    "## Train / Dev / Test Split"
   ]
  },
  {
   "cell_type": "markdown",
   "id": "afbeeab3",
   "metadata": {},
   "source": [
    "Before we can train any model, we first consider how to split the data. Here I chose to split the data into three chunks: train, development, test. I referenced Andrew Ng's \"deeplearning.ai\" course on how to split the data.\n",
    "\n",
    "- Train set: The sample of data used for learning\n",
    "- Development set (Hold-out cross-validation set): The sample of data used to tune the parameters of a classifier, and provide an unbiased evaluation of a model.\n",
    "- Test set: The sample of data used only to assess the performance of a final model."
   ]
  },
  {
   "cell_type": "markdown",
   "id": "2e8181ce",
   "metadata": {},
   "source": [
    "The ratio I decided to split my data is 98/1/1, 98% of data as the training set, and 1% for the dev set, and the final 1% for the test set. The rationale behind this ratio comes from the size of my whole data set. The dataset has more than 1.5 million entries. In this case, only 1% of the whole data gives me more than 15,000 entries. This is more than enough to evaluate the model and refine the parameters."
   ]
  },
  {
   "cell_type": "markdown",
   "id": "dbe4c804",
   "metadata": {},
   "source": [
    "Another approach is splitting the data into only train and test set, and run k-fold cross-validation on the training set, so that you can have an unbiased evaluation of a model. But considering the size of the data, I have decided to use the train set only to train a model, and evaluate on the dev set, so that I can quickly test different algorithms and run this process iteratively."
   ]
  },
  {
   "cell_type": "markdown",
   "id": "c56f8193",
   "metadata": {
    "ExecuteTime": {
     "end_time": "2021-11-09T03:38:49.198032Z",
     "start_time": "2021-11-09T03:38:49.183014Z"
    }
   },
   "source": [
    "### SPY"
   ]
  },
  {
   "cell_type": "code",
   "execution_count": 86,
   "id": "75428fda",
   "metadata": {
    "ExecuteTime": {
     "end_time": "2021-11-09T03:39:20.276637Z",
     "start_time": "2021-11-09T03:39:20.261642Z"
    }
   },
   "outputs": [],
   "source": [
    "x = df_minutes['minutes']\n",
    "y = df_minutes['SPY']"
   ]
  },
  {
   "cell_type": "code",
   "execution_count": 89,
   "id": "bc8bf8a0",
   "metadata": {
    "ExecuteTime": {
     "end_time": "2021-11-09T03:39:28.097929Z",
     "start_time": "2021-11-09T03:39:28.081925Z"
    }
   },
   "outputs": [],
   "source": [
    "SEED = 2000\n",
    "x_train, x_test, y_train, y_test = train_test_split(x, y, test_size=.2,random_state=SEED)"
   ]
  },
  {
   "cell_type": "code",
   "execution_count": 90,
   "id": "c165d1cb",
   "metadata": {
    "ExecuteTime": {
     "end_time": "2021-11-09T03:39:29.919719Z",
     "start_time": "2021-11-09T03:39:29.900709Z"
    }
   },
   "outputs": [
    {
     "name": "stdout",
     "output_type": "stream",
     "text": [
      "Train set has total 153 entries with 49.02% negative, 50.98% positive\n",
      "Test set has total 39 entries with 38.46% negative, 61.54% positive\n"
     ]
    }
   ],
   "source": [
    "print(\"Train set has total {0} entries with {1:.2f}% negative, {2:.2f}% positive\".format(\n",
    "    len(x_train),(len(x_train[y_train == 0]) / (len(x_train) * 1.)) * 100,(\n",
    "        len(x_train[y_train == 1]) / (len(x_train) * 1.)) * 100))\n",
    "print(\"Test set has total {0} entries with {1:.2f}% negative, {2:.2f}% positive\".format(\n",
    "    len(x_test),(len(x_test[y_test == 0]) / (len(x_test) * 1.)) * 100,(\n",
    "        len(x_test[y_test == 1]) / (len(x_test) * 1.)) * 100))"
   ]
  },
  {
   "cell_type": "code",
   "execution_count": 93,
   "id": "69d3208d",
   "metadata": {
    "ExecuteTime": {
     "end_time": "2021-11-09T03:40:13.947627Z",
     "start_time": "2021-11-09T03:40:13.258477Z"
    }
   },
   "outputs": [
    {
     "name": "stdout",
     "output_type": "stream",
     "text": [
      "Wall time: 680 ms\n"
     ]
    }
   ],
   "source": [
    "%%time\n",
    "tbresult = [TextBlob(i).sentiment.polarity for i in x_test]\n",
    "tbpred = [0 if n < 0 else 1 for n in tbresult]"
   ]
  },
  {
   "cell_type": "code",
   "execution_count": 96,
   "id": "1227c648",
   "metadata": {
    "ExecuteTime": {
     "end_time": "2021-11-09T03:40:40.128067Z",
     "start_time": "2021-11-09T03:40:40.097053Z"
    }
   },
   "outputs": [
    {
     "name": "stdout",
     "output_type": "stream",
     "text": [
      "Accuracy Score: 61.54%\n",
      "--------------------------------------------------------------------------------\n",
      "Confusion Matrix\n",
      "\n",
      "          predicted_positive  predicted_negative\n",
      "positive                  24                   0\n",
      "negative                  15                   0\n",
      "--------------------------------------------------------------------------------\n",
      "Classification Report\n",
      "\n",
      "              precision    recall  f1-score   support\n",
      "\n",
      "           0       0.00      0.00      0.00        15\n",
      "           1       0.62      1.00      0.76        24\n",
      "\n",
      "    accuracy                           0.62        39\n",
      "   macro avg       0.31      0.50      0.38        39\n",
      "weighted avg       0.38      0.62      0.47        39\n",
      "\n"
     ]
    },
    {
     "name": "stderr",
     "output_type": "stream",
     "text": [
      "d:\\software\\python\\lib\\site-packages\\sklearn\\metrics\\_classification.py:1308: UndefinedMetricWarning: Precision and F-score are ill-defined and being set to 0.0 in labels with no predicted samples. Use `zero_division` parameter to control this behavior.\n",
      "  _warn_prf(average, modifier, msg_start, len(result))\n",
      "d:\\software\\python\\lib\\site-packages\\sklearn\\metrics\\_classification.py:1308: UndefinedMetricWarning: Precision and F-score are ill-defined and being set to 0.0 in labels with no predicted samples. Use `zero_division` parameter to control this behavior.\n",
      "  _warn_prf(average, modifier, msg_start, len(result))\n",
      "d:\\software\\python\\lib\\site-packages\\sklearn\\metrics\\_classification.py:1308: UndefinedMetricWarning: Precision and F-score are ill-defined and being set to 0.0 in labels with no predicted samples. Use `zero_division` parameter to control this behavior.\n",
      "  _warn_prf(average, modifier, msg_start, len(result))\n"
     ]
    }
   ],
   "source": [
    "conmat = np.array(confusion_matrix(y_test, tbpred, labels=[1, 0]))\n",
    "\n",
    "confusion = pd.DataFrame(conmat, index=['positive', 'negative'],\n",
    "                         columns=['predicted_positive', 'predicted_negative'])\n",
    "print(\"Accuracy Score: {0:.2f}%\".format(accuracy_score(y_test, tbpred) * 100))\n",
    "print(\"-\" * 80)\n",
    "print(\"Confusion Matrix\\n\")\n",
    "print(confusion)\n",
    "print(\"-\" * 80)\n",
    "print(\"Classification Report\\n\")\n",
    "print(classification_report(y_test, tbpred))"
   ]
  },
  {
   "cell_type": "markdown",
   "id": "c3421791",
   "metadata": {
    "ExecuteTime": {
     "end_time": "2021-11-09T03:44:12.407309Z",
     "start_time": "2021-11-09T03:44:12.396312Z"
    }
   },
   "source": [
    "### TNX"
   ]
  },
  {
   "cell_type": "code",
   "execution_count": 97,
   "id": "130e52c4",
   "metadata": {
    "ExecuteTime": {
     "end_time": "2021-11-09T03:43:57.335199Z",
     "start_time": "2021-11-09T03:43:57.330191Z"
    }
   },
   "outputs": [],
   "source": [
    "x = df_minutes['minutes']\n",
    "y = df_minutes['TNX']"
   ]
  },
  {
   "cell_type": "code",
   "execution_count": 100,
   "id": "055363b1",
   "metadata": {
    "ExecuteTime": {
     "end_time": "2021-11-09T03:47:57.486249Z",
     "start_time": "2021-11-09T03:47:57.479248Z"
    }
   },
   "outputs": [],
   "source": [
    "SEED = 2000\n",
    "x_train, x_test, y_train, y_test = train_test_split(x, y, test_size=.2,random_state=SEED)"
   ]
  },
  {
   "cell_type": "code",
   "execution_count": 101,
   "id": "d9ad83c7",
   "metadata": {
    "ExecuteTime": {
     "end_time": "2021-11-09T03:48:06.837924Z",
     "start_time": "2021-11-09T03:48:06.826921Z"
    }
   },
   "outputs": [
    {
     "name": "stdout",
     "output_type": "stream",
     "text": [
      "Train set has total 153 entries with 60.13% negative, 39.87% positive\n",
      "Test set has total 39 entries with 58.97% negative, 41.03% positive\n"
     ]
    }
   ],
   "source": [
    "print(\"Train set has total {0} entries with {1:.2f}% negative, {2:.2f}% positive\".format(\n",
    "    len(x_train),(len(x_train[y_train == 0]) / (len(x_train) * 1.)) * 100,(\n",
    "        len(x_train[y_train == 1]) / (len(x_train) * 1.)) * 100))\n",
    "print(\"Test set has total {0} entries with {1:.2f}% negative, {2:.2f}% positive\".format(\n",
    "    len(x_test),(len(x_test[y_test == 0]) / (len(x_test) * 1.)) * 100,(\n",
    "        len(x_test[y_test == 1]) / (len(x_test) * 1.)) * 100))"
   ]
  },
  {
   "cell_type": "code",
   "execution_count": 103,
   "id": "32b26ecd",
   "metadata": {
    "ExecuteTime": {
     "end_time": "2021-11-09T03:48:27.143681Z",
     "start_time": "2021-11-09T03:48:26.787496Z"
    }
   },
   "outputs": [
    {
     "name": "stdout",
     "output_type": "stream",
     "text": [
      "Wall time: 342 ms\n"
     ]
    }
   ],
   "source": [
    "%%time\n",
    "tbresult = [TextBlob(i).sentiment.polarity for i in x_test]\n",
    "tbpred = [0 if n < 0 else 1 for n in tbresult]"
   ]
  },
  {
   "cell_type": "code",
   "execution_count": 104,
   "id": "8d362983",
   "metadata": {
    "ExecuteTime": {
     "end_time": "2021-11-09T03:48:33.763948Z",
     "start_time": "2021-11-09T03:48:33.743950Z"
    }
   },
   "outputs": [
    {
     "name": "stdout",
     "output_type": "stream",
     "text": [
      "Accuracy Score: 41.03%\n",
      "--------------------------------------------------------------------------------\n",
      "Confusion Matrix\n",
      "\n",
      "          predicted_positive  predicted_negative\n",
      "positive                  16                   0\n",
      "negative                  23                   0\n",
      "--------------------------------------------------------------------------------\n",
      "Classification Report\n",
      "\n",
      "              precision    recall  f1-score   support\n",
      "\n",
      "           0       0.00      0.00      0.00        23\n",
      "           1       0.41      1.00      0.58        16\n",
      "\n",
      "    accuracy                           0.41        39\n",
      "   macro avg       0.21      0.50      0.29        39\n",
      "weighted avg       0.17      0.41      0.24        39\n",
      "\n"
     ]
    },
    {
     "name": "stderr",
     "output_type": "stream",
     "text": [
      "d:\\software\\python\\lib\\site-packages\\sklearn\\metrics\\_classification.py:1308: UndefinedMetricWarning: Precision and F-score are ill-defined and being set to 0.0 in labels with no predicted samples. Use `zero_division` parameter to control this behavior.\n",
      "  _warn_prf(average, modifier, msg_start, len(result))\n",
      "d:\\software\\python\\lib\\site-packages\\sklearn\\metrics\\_classification.py:1308: UndefinedMetricWarning: Precision and F-score are ill-defined and being set to 0.0 in labels with no predicted samples. Use `zero_division` parameter to control this behavior.\n",
      "  _warn_prf(average, modifier, msg_start, len(result))\n",
      "d:\\software\\python\\lib\\site-packages\\sklearn\\metrics\\_classification.py:1308: UndefinedMetricWarning: Precision and F-score are ill-defined and being set to 0.0 in labels with no predicted samples. Use `zero_division` parameter to control this behavior.\n",
      "  _warn_prf(average, modifier, msg_start, len(result))\n"
     ]
    }
   ],
   "source": [
    "conmat = np.array(confusion_matrix(y_test, tbpred, labels=[1, 0]))\n",
    "\n",
    "confusion = pd.DataFrame(conmat, index=['positive', 'negative'],\n",
    "                         columns=['predicted_positive', 'predicted_negative'])\n",
    "print(\"Accuracy Score: {0:.2f}%\".format(accuracy_score(y_test, tbpred) * 100))\n",
    "print(\"-\" * 80)\n",
    "print(\"Confusion Matrix\\n\")\n",
    "print(confusion)\n",
    "print(\"-\" * 80)\n",
    "print(\"Classification Report\\n\")\n",
    "print(classification_report(y_test, tbpred))"
   ]
  },
  {
   "cell_type": "code",
   "execution_count": null,
   "id": "eb8f3d9b",
   "metadata": {},
   "outputs": [],
   "source": []
  },
  {
   "cell_type": "code",
   "execution_count": null,
   "id": "1eb7af2c",
   "metadata": {},
   "outputs": [],
   "source": []
  },
  {
   "cell_type": "markdown",
   "id": "573611ff",
   "metadata": {},
   "source": [
    "### VIX"
   ]
  },
  {
   "cell_type": "code",
   "execution_count": 99,
   "id": "14e0950a",
   "metadata": {
    "ExecuteTime": {
     "end_time": "2021-11-09T03:47:50.655720Z",
     "start_time": "2021-11-09T03:47:50.647725Z"
    }
   },
   "outputs": [],
   "source": [
    "x = df_minutes['minutes']\n",
    "y = df_minutes['VIX']"
   ]
  },
  {
   "cell_type": "code",
   "execution_count": null,
   "id": "2ffc9d2c",
   "metadata": {},
   "outputs": [],
   "source": [
    "### "
   ]
  },
  {
   "cell_type": "code",
   "execution_count": null,
   "id": "de639296",
   "metadata": {},
   "outputs": [],
   "source": []
  },
  {
   "cell_type": "markdown",
   "id": "6f063e8c",
   "metadata": {},
   "source": [
    "## "
   ]
  },
  {
   "cell_type": "code",
   "execution_count": null,
   "id": "112b609e",
   "metadata": {},
   "outputs": [],
   "source": []
  },
  {
   "cell_type": "code",
   "execution_count": null,
   "id": "9b97d07f",
   "metadata": {},
   "outputs": [],
   "source": []
  },
  {
   "cell_type": "code",
   "execution_count": null,
   "id": "13fc8fa4",
   "metadata": {},
   "outputs": [],
   "source": []
  },
  {
   "cell_type": "code",
   "execution_count": null,
   "id": "d77b7938",
   "metadata": {},
   "outputs": [],
   "source": []
  },
  {
   "cell_type": "code",
   "execution_count": null,
   "id": "87fa29ec",
   "metadata": {},
   "outputs": [],
   "source": []
  },
  {
   "cell_type": "code",
   "execution_count": null,
   "id": "dab580fe",
   "metadata": {},
   "outputs": [],
   "source": []
  },
  {
   "cell_type": "code",
   "execution_count": null,
   "id": "9a0a74a8",
   "metadata": {},
   "outputs": [],
   "source": []
  },
  {
   "cell_type": "code",
   "execution_count": null,
   "id": "4b7762e2",
   "metadata": {},
   "outputs": [],
   "source": []
  },
  {
   "cell_type": "code",
   "execution_count": null,
   "id": "f68a55db",
   "metadata": {},
   "outputs": [],
   "source": []
  },
  {
   "cell_type": "code",
   "execution_count": null,
   "id": "709f5423",
   "metadata": {},
   "outputs": [],
   "source": []
  },
  {
   "cell_type": "code",
   "execution_count": null,
   "id": "e9b6038d",
   "metadata": {},
   "outputs": [],
   "source": []
  },
  {
   "cell_type": "code",
   "execution_count": null,
   "id": "0720bd01",
   "metadata": {},
   "outputs": [],
   "source": []
  },
  {
   "cell_type": "code",
   "execution_count": null,
   "id": "775104ae",
   "metadata": {},
   "outputs": [],
   "source": []
  },
  {
   "cell_type": "code",
   "execution_count": null,
   "id": "2ae38acd",
   "metadata": {},
   "outputs": [],
   "source": []
  },
  {
   "cell_type": "code",
   "execution_count": null,
   "id": "0eae1572",
   "metadata": {},
   "outputs": [],
   "source": []
  },
  {
   "cell_type": "code",
   "execution_count": null,
   "id": "d8158c44",
   "metadata": {},
   "outputs": [],
   "source": []
  },
  {
   "cell_type": "code",
   "execution_count": null,
   "id": "c1a07db1",
   "metadata": {},
   "outputs": [],
   "source": []
  },
  {
   "cell_type": "code",
   "execution_count": null,
   "id": "f30d0ad4",
   "metadata": {},
   "outputs": [],
   "source": []
  },
  {
   "cell_type": "code",
   "execution_count": null,
   "id": "e58c2595",
   "metadata": {},
   "outputs": [],
   "source": []
  },
  {
   "cell_type": "code",
   "execution_count": null,
   "id": "e02c6d82",
   "metadata": {},
   "outputs": [],
   "source": []
  },
  {
   "cell_type": "code",
   "execution_count": null,
   "id": "1bfe483a",
   "metadata": {},
   "outputs": [],
   "source": []
  },
  {
   "cell_type": "code",
   "execution_count": null,
   "id": "c7f2912d",
   "metadata": {},
   "outputs": [],
   "source": []
  },
  {
   "cell_type": "code",
   "execution_count": null,
   "id": "27fc218c",
   "metadata": {},
   "outputs": [],
   "source": []
  },
  {
   "cell_type": "code",
   "execution_count": null,
   "id": "863cd5be",
   "metadata": {},
   "outputs": [],
   "source": []
  },
  {
   "cell_type": "code",
   "execution_count": null,
   "id": "bd0b04bb",
   "metadata": {},
   "outputs": [],
   "source": []
  },
  {
   "cell_type": "code",
   "execution_count": null,
   "id": "8477f489",
   "metadata": {},
   "outputs": [],
   "source": []
  },
  {
   "cell_type": "code",
   "execution_count": null,
   "id": "0a593628",
   "metadata": {},
   "outputs": [],
   "source": []
  },
  {
   "cell_type": "code",
   "execution_count": null,
   "id": "369beaca",
   "metadata": {},
   "outputs": [],
   "source": []
  },
  {
   "cell_type": "code",
   "execution_count": null,
   "id": "ed78abec",
   "metadata": {},
   "outputs": [],
   "source": []
  },
  {
   "cell_type": "code",
   "execution_count": null,
   "id": "51767959",
   "metadata": {},
   "outputs": [],
   "source": []
  },
  {
   "cell_type": "code",
   "execution_count": null,
   "id": "27021eb3",
   "metadata": {},
   "outputs": [],
   "source": []
  },
  {
   "cell_type": "code",
   "execution_count": null,
   "id": "002224fc",
   "metadata": {},
   "outputs": [],
   "source": []
  },
  {
   "cell_type": "code",
   "execution_count": null,
   "id": "d0afe21e",
   "metadata": {},
   "outputs": [],
   "source": []
  },
  {
   "cell_type": "code",
   "execution_count": null,
   "id": "c4ebbdc5",
   "metadata": {},
   "outputs": [],
   "source": []
  },
  {
   "cell_type": "code",
   "execution_count": null,
   "id": "4223ecfa",
   "metadata": {},
   "outputs": [],
   "source": []
  },
  {
   "cell_type": "code",
   "execution_count": null,
   "id": "7737223d",
   "metadata": {},
   "outputs": [],
   "source": []
  },
  {
   "cell_type": "code",
   "execution_count": null,
   "id": "6a733e52",
   "metadata": {},
   "outputs": [],
   "source": []
  },
  {
   "cell_type": "code",
   "execution_count": null,
   "id": "46cf44f7",
   "metadata": {},
   "outputs": [],
   "source": []
  },
  {
   "cell_type": "code",
   "execution_count": null,
   "id": "bca4e620",
   "metadata": {},
   "outputs": [],
   "source": []
  },
  {
   "cell_type": "code",
   "execution_count": null,
   "id": "f4ac56eb",
   "metadata": {},
   "outputs": [],
   "source": []
  },
  {
   "cell_type": "code",
   "execution_count": null,
   "id": "8ec48230",
   "metadata": {},
   "outputs": [],
   "source": []
  },
  {
   "cell_type": "code",
   "execution_count": null,
   "id": "9771f53d",
   "metadata": {},
   "outputs": [],
   "source": []
  },
  {
   "cell_type": "code",
   "execution_count": null,
   "id": "009a3b0d",
   "metadata": {},
   "outputs": [],
   "source": []
  },
  {
   "cell_type": "code",
   "execution_count": null,
   "id": "4080658e",
   "metadata": {},
   "outputs": [],
   "source": []
  },
  {
   "cell_type": "code",
   "execution_count": null,
   "id": "31f671f8",
   "metadata": {},
   "outputs": [],
   "source": []
  },
  {
   "cell_type": "code",
   "execution_count": null,
   "id": "a2aab8ef",
   "metadata": {},
   "outputs": [],
   "source": []
  },
  {
   "cell_type": "code",
   "execution_count": null,
   "id": "d437ea03",
   "metadata": {},
   "outputs": [],
   "source": []
  },
  {
   "cell_type": "code",
   "execution_count": null,
   "id": "ee7d91c7",
   "metadata": {},
   "outputs": [],
   "source": []
  },
  {
   "cell_type": "code",
   "execution_count": null,
   "id": "6a943448",
   "metadata": {},
   "outputs": [],
   "source": []
  },
  {
   "cell_type": "code",
   "execution_count": null,
   "id": "da334ef5",
   "metadata": {},
   "outputs": [],
   "source": []
  },
  {
   "cell_type": "code",
   "execution_count": null,
   "id": "db435889",
   "metadata": {},
   "outputs": [],
   "source": []
  },
  {
   "cell_type": "code",
   "execution_count": null,
   "id": "51c2bc7c",
   "metadata": {},
   "outputs": [],
   "source": []
  },
  {
   "cell_type": "code",
   "execution_count": null,
   "id": "24dd2f15",
   "metadata": {},
   "outputs": [],
   "source": []
  },
  {
   "cell_type": "code",
   "execution_count": null,
   "id": "a9dd2b76",
   "metadata": {},
   "outputs": [],
   "source": []
  },
  {
   "cell_type": "code",
   "execution_count": null,
   "id": "5d1a2cd1",
   "metadata": {},
   "outputs": [],
   "source": []
  },
  {
   "cell_type": "code",
   "execution_count": null,
   "id": "226d5062",
   "metadata": {},
   "outputs": [],
   "source": []
  },
  {
   "cell_type": "code",
   "execution_count": null,
   "id": "11bcdbe4",
   "metadata": {},
   "outputs": [],
   "source": []
  },
  {
   "cell_type": "code",
   "execution_count": null,
   "id": "4face168",
   "metadata": {},
   "outputs": [],
   "source": []
  },
  {
   "cell_type": "code",
   "execution_count": null,
   "id": "f0ad7985",
   "metadata": {},
   "outputs": [],
   "source": []
  },
  {
   "cell_type": "code",
   "execution_count": null,
   "id": "2a83f381",
   "metadata": {},
   "outputs": [],
   "source": []
  },
  {
   "cell_type": "code",
   "execution_count": null,
   "id": "17d4d4d5",
   "metadata": {},
   "outputs": [],
   "source": []
  },
  {
   "cell_type": "code",
   "execution_count": null,
   "id": "0b4ed34b",
   "metadata": {},
   "outputs": [],
   "source": []
  },
  {
   "cell_type": "code",
   "execution_count": null,
   "id": "125b50b6",
   "metadata": {},
   "outputs": [],
   "source": []
  },
  {
   "cell_type": "code",
   "execution_count": null,
   "id": "7ab2d000",
   "metadata": {},
   "outputs": [],
   "source": []
  },
  {
   "cell_type": "code",
   "execution_count": null,
   "id": "afe81130",
   "metadata": {},
   "outputs": [],
   "source": []
  },
  {
   "cell_type": "code",
   "execution_count": null,
   "id": "9faac0da",
   "metadata": {},
   "outputs": [],
   "source": []
  },
  {
   "cell_type": "code",
   "execution_count": null,
   "id": "446f6130",
   "metadata": {},
   "outputs": [],
   "source": []
  },
  {
   "cell_type": "code",
   "execution_count": null,
   "id": "62b5f7a2",
   "metadata": {},
   "outputs": [],
   "source": []
  },
  {
   "cell_type": "code",
   "execution_count": null,
   "id": "b9f7e1f2",
   "metadata": {},
   "outputs": [],
   "source": []
  },
  {
   "cell_type": "code",
   "execution_count": null,
   "id": "981ea894",
   "metadata": {},
   "outputs": [],
   "source": []
  },
  {
   "cell_type": "code",
   "execution_count": null,
   "id": "16b3e34f",
   "metadata": {},
   "outputs": [],
   "source": []
  },
  {
   "cell_type": "code",
   "execution_count": null,
   "id": "d5ab3461",
   "metadata": {},
   "outputs": [],
   "source": []
  },
  {
   "cell_type": "code",
   "execution_count": null,
   "id": "dad3ed49",
   "metadata": {},
   "outputs": [],
   "source": []
  },
  {
   "cell_type": "code",
   "execution_count": null,
   "id": "d8b7b6b5",
   "metadata": {},
   "outputs": [],
   "source": []
  },
  {
   "cell_type": "code",
   "execution_count": null,
   "id": "a854c9a7",
   "metadata": {},
   "outputs": [],
   "source": []
  },
  {
   "cell_type": "code",
   "execution_count": null,
   "id": "8e9c4925",
   "metadata": {},
   "outputs": [],
   "source": []
  },
  {
   "cell_type": "code",
   "execution_count": null,
   "id": "ea341c4b",
   "metadata": {},
   "outputs": [],
   "source": []
  },
  {
   "cell_type": "code",
   "execution_count": null,
   "id": "88ec4bff",
   "metadata": {},
   "outputs": [],
   "source": []
  },
  {
   "cell_type": "code",
   "execution_count": null,
   "id": "3a627eaa",
   "metadata": {},
   "outputs": [],
   "source": []
  },
  {
   "cell_type": "code",
   "execution_count": null,
   "id": "aae2fbda",
   "metadata": {},
   "outputs": [],
   "source": []
  },
  {
   "cell_type": "code",
   "execution_count": null,
   "id": "7fde18a7",
   "metadata": {},
   "outputs": [],
   "source": []
  },
  {
   "cell_type": "code",
   "execution_count": null,
   "id": "bf2edd40",
   "metadata": {},
   "outputs": [],
   "source": []
  },
  {
   "cell_type": "code",
   "execution_count": null,
   "id": "e169c5e7",
   "metadata": {},
   "outputs": [],
   "source": []
  },
  {
   "cell_type": "code",
   "execution_count": null,
   "id": "180861e6",
   "metadata": {},
   "outputs": [],
   "source": []
  },
  {
   "cell_type": "code",
   "execution_count": null,
   "id": "2652a7b6",
   "metadata": {},
   "outputs": [],
   "source": []
  },
  {
   "cell_type": "code",
   "execution_count": null,
   "id": "b1b06d15",
   "metadata": {},
   "outputs": [],
   "source": []
  },
  {
   "cell_type": "code",
   "execution_count": null,
   "id": "a477a6b7",
   "metadata": {},
   "outputs": [],
   "source": []
  },
  {
   "cell_type": "code",
   "execution_count": null,
   "id": "6b431649",
   "metadata": {},
   "outputs": [],
   "source": []
  }
 ],
 "metadata": {
  "kernelspec": {
   "display_name": "Python 3 (ipykernel)",
   "language": "python",
   "name": "python3"
  },
  "language_info": {
   "codemirror_mode": {
    "name": "ipython",
    "version": 3
   },
   "file_extension": ".py",
   "mimetype": "text/x-python",
   "name": "python",
   "nbconvert_exporter": "python",
   "pygments_lexer": "ipython3",
   "version": "3.9.5"
  },
  "toc": {
   "base_numbering": 1,
   "nav_menu": {},
   "number_sections": true,
   "sideBar": true,
   "skip_h1_title": true,
   "title_cell": "Table of Contents",
   "title_sidebar": "Contents",
   "toc_cell": true,
   "toc_position": {},
   "toc_section_display": true,
   "toc_window_display": true
  }
 },
 "nbformat": 4,
 "nbformat_minor": 5
}
