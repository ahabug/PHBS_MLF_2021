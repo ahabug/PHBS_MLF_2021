{
 "cells": [
  {
   "cell_type": "markdown",
   "id": "d48e829b",
   "metadata": {
    "toc": true
   },
   "source": [
    "<h1>Table of Contents<span class=\"tocSkip\"></span></h1>\n",
    "<div class=\"toc\"><ul class=\"toc-item\"><li><span><a href=\"#Train/Test-Split\" data-toc-modified-id=\"Train/Test-Split-1\"><span class=\"toc-item-num\">1&nbsp;&nbsp;</span>Train/Test Split</a></span><ul class=\"toc-item\"><li><span><a href=\"#SPY\" data-toc-modified-id=\"SPY-1.1\"><span class=\"toc-item-num\">1.1&nbsp;&nbsp;</span>SPY</a></span></li><li><span><a href=\"#TNX\" data-toc-modified-id=\"TNX-1.2\"><span class=\"toc-item-num\">1.2&nbsp;&nbsp;</span>TNX</a></span></li><li><span><a href=\"#VIX\" data-toc-modified-id=\"VIX-1.3\"><span class=\"toc-item-num\">1.3&nbsp;&nbsp;</span>VIX</a></span></li><li><span><a href=\"#IRX\" data-toc-modified-id=\"IRX-1.4\"><span class=\"toc-item-num\">1.4&nbsp;&nbsp;</span>IRX</a></span></li></ul></li><li><span><a href=\"#Methodology\" data-toc-modified-id=\"Methodology-2\"><span class=\"toc-item-num\">2&nbsp;&nbsp;</span>Methodology</a></span><ul class=\"toc-item\"><li><span><a href=\"#VIX:-I\" data-toc-modified-id=\"VIX:-I-2.1\"><span class=\"toc-item-num\">2.1&nbsp;&nbsp;</span>VIX: I</a></span></li><li><span><a href=\"#VIX:-II\" data-toc-modified-id=\"VIX:-II-2.2\"><span class=\"toc-item-num\">2.2&nbsp;&nbsp;</span>VIX: II</a></span></li><li><span><a href=\"#SPY:-I\" data-toc-modified-id=\"SPY:-I-2.3\"><span class=\"toc-item-num\">2.3&nbsp;&nbsp;</span>SPY: I</a></span></li><li><span><a href=\"#SPY:-II\" data-toc-modified-id=\"SPY:-II-2.4\"><span class=\"toc-item-num\">2.4&nbsp;&nbsp;</span>SPY: II</a></span></li><li><span><a href=\"#TNX:-I\" data-toc-modified-id=\"TNX:-I-2.5\"><span class=\"toc-item-num\">2.5&nbsp;&nbsp;</span>TNX: I</a></span></li><li><span><a href=\"#TNX:-II\" data-toc-modified-id=\"TNX:-II-2.6\"><span class=\"toc-item-num\">2.6&nbsp;&nbsp;</span>TNX: II</a></span></li><li><span><a href=\"#IRX:-I\" data-toc-modified-id=\"IRX:-I-2.7\"><span class=\"toc-item-num\">2.7&nbsp;&nbsp;</span>IRX: I</a></span></li><li><span><a href=\"#IRX:-II\" data-toc-modified-id=\"IRX:-II-2.8\"><span class=\"toc-item-num\">2.8&nbsp;&nbsp;</span>IRX: II</a></span></li></ul></li></ul></div>"
   ]
  },
  {
   "cell_type": "markdown",
   "id": "de5c7868",
   "metadata": {},
   "source": [
    "# Fit the model"
   ]
  },
  {
   "cell_type": "markdown",
   "id": "84af94f0",
   "metadata": {},
   "source": [
    "We explore the minutes and statements while we find them are not suitable for training and testing models. The sample size is too small, and the variance, or the principle generating documents, varies with time. Then we throw our sight on the speeches of federal reserve officials, whose length is much more consistent and quantity is higher.\n",
    "\n",
    "We select three indexes to sketch the effect of the FOMC's documents on the market: S&P 500 Index(SPY), Treasury Yield 3 months (IRX), Treasury Yield 10 Years (TNX), CBOE Volatility Index (VIX). The data is from [Yahoo Finance](https://finance.yahoo.com/)"
   ]
  },
  {
   "cell_type": "code",
   "execution_count": 24,
   "id": "262af523",
   "metadata": {
    "ExecuteTime": {
     "end_time": "2021-11-11T02:41:30.847172Z",
     "start_time": "2021-11-11T02:41:30.839175Z"
    },
    "pycharm": {
     "name": "#%%\n"
    }
   },
   "outputs": [],
   "source": [
    "import pandas as pd\n",
    "from gensim.models import KeyedVectors\n",
    "from gensim.models.doc2vec import TaggedDocument\n",
    "from gensim.models.word2vec import Word2Vec\n",
    "from keras.layers import Input, Dense, concatenate, Activation, Dropout, Flatten, Conv1D, GlobalMaxPooling1D\n",
    "from keras.layers.embeddings import Embedding\n",
    "from keras.models import Model, Sequential, load_model\n",
    "from keras.preprocessing.sequence import pad_sequences\n",
    "from keras.preprocessing.text import Tokenizer\n",
    "from sklearn import utils\n",
    "from sklearn.feature_extraction.text import TfidfVectorizer\n",
    "from sklearn.linear_model import LogisticRegression\n",
    "from sklearn.model_selection import train_test_split\n",
    "from tqdm import tqdm\n",
    "\n",
    "from frb_functions import *"
   ]
  },
  {
   "cell_type": "code",
   "execution_count": 4,
   "id": "4857a8b0",
   "metadata": {
    "ExecuteTime": {
     "end_time": "2021-11-11T02:36:42.339882Z",
     "start_time": "2021-11-11T02:36:42.276863Z"
    },
    "pycharm": {
     "name": "#%%\n"
    }
   },
   "outputs": [],
   "source": [
    "spy_df = pd.read_csv('./data/SPY.csv')\n",
    "spy_df.fillna(method='pad')\n",
    "spy_df[\"SPY\"] = spy_df[\"Adj Close\"].pct_change() * 100\n",
    "spy_df.drop(columns=[\"Open\", 'High', 'Low', 'Close', \"Adj Close\", 'Volume'], inplace=True)\n",
    "spy_df.drop(0, inplace=True)\n",
    "vix_df = pd.read_csv('./data/^VIX.csv')\n",
    "vix_df.fillna(method='pad')\n",
    "vix_df[\"VIX\"] = vix_df[\"Adj Close\"].pct_change() * 100\n",
    "vix_df.drop(columns=[\"Open\", 'High', 'Low', 'Close', \"Adj Close\", 'Volume'], inplace=True)\n",
    "vix_df.drop(0, inplace=True)\n",
    "tnx_df = pd.read_csv('./data/^TNX.csv')\n",
    "tnx_df.fillna(method='pad')\n",
    "tnx_df[\"TNX\"] = tnx_df[\"Adj Close\"].pct_change() * 100\n",
    "tnx_df.drop(columns=[\"Open\", 'High', 'Low', 'Close', \"Adj Close\", 'Volume'], inplace=True)\n",
    "tnx_df.drop(0, inplace=True)\n",
    "irx_df = pd.read_csv('./data/^IRX.csv')\n",
    "irx_df.fillna(method='pad')\n",
    "irx_df[\"IRX\"] = irx_df[\"Adj Close\"].pct_change() * 100\n",
    "irx_df.drop(columns=[\"Open\", 'High', 'Low', 'Close', \"Adj Close\", 'Volume'], inplace=True)\n",
    "irx_df.drop(0, inplace=True)"
   ]
  },
  {
   "cell_type": "code",
   "execution_count": 5,
   "id": "922cbcbb",
   "metadata": {
    "ExecuteTime": {
     "end_time": "2021-11-11T02:36:42.689897Z",
     "start_time": "2021-11-11T02:36:42.644881Z"
    },
    "pycharm": {
     "name": "#%%\n"
    }
   },
   "outputs": [],
   "source": [
    "mkt_df = pd.merge(spy_df, vix_df, how='left', on='Date')\n",
    "mkt_df = pd.merge(mkt_df, tnx_df, how='left', on='Date')\n",
    "mkt_df = pd.merge(mkt_df, irx_df, how='left', on='Date')\n",
    "mkt_df.rename(columns={'Date': 'date'}, inplace=True)\n",
    "mkt_df['date'] = pd.to_datetime(mkt_df['date'])"
   ]
  },
  {
   "cell_type": "code",
   "execution_count": 6,
   "id": "605a1dab",
   "metadata": {
    "ExecuteTime": {
     "end_time": "2021-11-11T02:36:43.639691Z",
     "start_time": "2021-11-11T02:36:43.632690Z"
    }
   },
   "outputs": [],
   "source": [
    "# speech_urls = navigate_frb_speeches()\n",
    "# speeches = get_frb_speech_text(speech_urls)\n",
    "# speeches_df = pd.DataFrame(frb_articles, columns=['url', 'speech_date', 'title', 'speaker', 'location', 'full_text'])\n",
    "# speech_urls, speakers, locations, dates_, titles = navigate_frb_archived_speeches()\n",
    "# speech_text = get_frb_speech_text_archived(speech_urls)\n",
    "# archived_speeches = list(zip(speech_urls, dates_, titles, speakers, locations, speech_text))\n",
    "# archived_speeches_df = pd.DataFrame(archived_speeches, columns=['url', 'speech_date', 'title', 'speaker', 'location', 'full_text'])\n",
    "# df_raw = pd.concat([speeches_df, archived_speeches_df])\n",
    "# df_raw.to_pickle('frb_speeches_all_raw.pkl')"
   ]
  },
  {
   "cell_type": "code",
   "execution_count": 41,
   "id": "0327e7b8",
   "metadata": {
    "ExecuteTime": {
     "end_time": "2021-11-11T02:48:22.886690Z",
     "start_time": "2021-11-11T02:48:22.844660Z"
    }
   },
   "outputs": [],
   "source": [
    "df_raw = pd.read_pickle('frb_speeches_all_raw.pkl')\n",
    "# df_raw.shape"
   ]
  },
  {
   "cell_type": "code",
   "execution_count": 42,
   "id": "179f0ad3",
   "metadata": {
    "ExecuteTime": {
     "end_time": "2021-11-11T02:48:24.054179Z",
     "start_time": "2021-11-11T02:48:23.658720Z"
    }
   },
   "outputs": [],
   "source": [
    "df_raw[\"number of words\"] = df_raw[\"full_text\"].apply(lambda x: sum(len(y.split()) for y in x.split('.')))\n",
    "df_raw[\"number of sentences\"] = df_raw[\"full_text\"].apply(lambda x: len(x.split('.')))"
   ]
  },
  {
   "cell_type": "code",
   "execution_count": 43,
   "id": "09ed0c1f",
   "metadata": {
    "ExecuteTime": {
     "end_time": "2021-11-11T02:48:24.689737Z",
     "start_time": "2021-11-11T02:48:24.507275Z"
    }
   },
   "outputs": [
    {
     "data": {
      "image/png": "[encoded data removed]",
      "text/plain": [
       "<Figure size 1296x648 with 2 Axes>"
      ]
     },
     "metadata": {},
     "output_type": "display_data"
    }
   ],
   "source": [
    "plt.rcParams[\"figure.figsize\"] = (18, 9)\n",
    "plt.style.use('fivethirtyeight')\n",
    "fig, ax = plt.subplots()\n",
    "ax2 = ax.twinx()\n",
    "ax.plot(df_raw.index, df_raw[\"number of sentences\"], 'b', label='number of sentences')\n",
    "ax2.plot(df_raw.index, df_raw[\"number of words\"], 'r', label='number of words')\n",
    "plt.title('FED speeches stats', size='medium')\n",
    "ax.legend(loc=2)\n",
    "ax2.legend(loc=1)\n",
    "ax.set_ylabel(\"number of sentences\", size='medium')\n",
    "ax2.set_ylabel(\"number of words\", size='medium')\n",
    "ax.set_xlabel(\"date\", size='medium')\n",
    "plt.show()"
   ]
  },
  {
   "cell_type": "code",
   "execution_count": 8,
   "id": "342802f0",
   "metadata": {
    "ExecuteTime": {
     "end_time": "2021-11-11T02:36:45.414883Z",
     "start_time": "2021-11-11T02:36:45.409890Z"
    }
   },
   "outputs": [],
   "source": [
    "# df_speech = clean_speech_text(df_raw)\n",
    "# df_speech.to_pickle(\"frb_speeches_all.pkl\")"
   ]
  },
  {
   "cell_type": "code",
   "execution_count": 19,
   "id": "ddd3a361",
   "metadata": {
    "ExecuteTime": {
     "end_time": "2021-11-11T02:40:18.251375Z",
     "start_time": "2021-11-11T02:40:18.098572Z"
    }
   },
   "outputs": [
    {
     "data": {
      "text/html": [
       "<div>\n",
       "<style scoped>\n",
       "    .dataframe tbody tr th:only-of-type {\n",
       "        vertical-align: middle;\n",
       "    }\n",
       "\n",
       "    .dataframe tbody tr th {\n",
       "        vertical-align: top;\n",
       "    }\n",
       "\n",
       "    .dataframe thead th {\n",
       "        text-align: right;\n",
       "    }\n",
       "</style>\n",
       "<table border=\"1\" class=\"dataframe\">\n",
       "  <thead>\n",
       "    <tr style=\"text-align: right;\">\n",
       "      <th></th>\n",
       "      <th>date</th>\n",
       "      <th>full_text</th>\n",
       "      <th>speech_year</th>\n",
       "      <th>SPY</th>\n",
       "      <th>VIX</th>\n",
       "      <th>TNX</th>\n",
       "      <th>IRX</th>\n",
       "    </tr>\n",
       "  </thead>\n",
       "  <tbody>\n",
       "    <tr>\n",
       "      <th>0</th>\n",
       "      <td>2021-11-09</td>\n",
       "      <td>Opening remarks by Chair Powell at the Confere...</td>\n",
       "      <td>2021</td>\n",
       "      <td>-0.330537</td>\n",
       "      <td>3.252044</td>\n",
       "      <td>-4.342017</td>\n",
       "      <td>14.285714</td>\n",
       "    </tr>\n",
       "    <tr>\n",
       "      <th>1</th>\n",
       "      <td>2021-11-08</td>\n",
       "      <td>Good afternoon everyone It is a pleasure to jo...</td>\n",
       "      <td>2021</td>\n",
       "      <td>0.085372</td>\n",
       "      <td>4.490285</td>\n",
       "      <td>3.028217</td>\n",
       "      <td>-12.500000</td>\n",
       "    </tr>\n",
       "    <tr>\n",
       "      <th>2</th>\n",
       "      <td>2021-11-08</td>\n",
       "      <td>Opening Remarks by Chair Powell at the Gender ...</td>\n",
       "      <td>2021</td>\n",
       "      <td>0.085372</td>\n",
       "      <td>4.490285</td>\n",
       "      <td>3.028217</td>\n",
       "      <td>-12.500000</td>\n",
       "    </tr>\n",
       "    <tr>\n",
       "      <th>3</th>\n",
       "      <td>2021-11-08</td>\n",
       "      <td>Outlooks and Outcomes for the US Economy The U...</td>\n",
       "      <td>2021</td>\n",
       "      <td>0.085372</td>\n",
       "      <td>4.490285</td>\n",
       "      <td>3.028217</td>\n",
       "      <td>-12.500000</td>\n",
       "    </tr>\n",
       "    <tr>\n",
       "      <th>4</th>\n",
       "      <td>2021-10-22</td>\n",
       "      <td>Good morning I appreciate the opportunity to b...</td>\n",
       "      <td>2021</td>\n",
       "      <td>-0.103618</td>\n",
       "      <td>2.798135</td>\n",
       "      <td>-1.252983</td>\n",
       "      <td>0.000000</td>\n",
       "    </tr>\n",
       "    <tr>\n",
       "      <th>...</th>\n",
       "      <td>...</td>\n",
       "      <td>...</td>\n",
       "      <td>...</td>\n",
       "      <td>...</td>\n",
       "      <td>...</td>\n",
       "      <td>...</td>\n",
       "      <td>...</td>\n",
       "    </tr>\n",
       "    <tr>\n",
       "      <th>1474</th>\n",
       "      <td>1996-10-07</td>\n",
       "      <td>Remarks by Chairman Alan Greenspan US Treasur...</td>\n",
       "      <td>1996</td>\n",
       "      <td>0.111014</td>\n",
       "      <td>2.094595</td>\n",
       "      <td>0.804829</td>\n",
       "      <td>1.026694</td>\n",
       "    </tr>\n",
       "    <tr>\n",
       "      <th>1475</th>\n",
       "      <td>1996-10-02</td>\n",
       "      <td>Remarks by Governor Lawrence B Lindsey At the...</td>\n",
       "      <td>1996</td>\n",
       "      <td>0.679345</td>\n",
       "      <td>-1.583566</td>\n",
       "      <td>-0.588324</td>\n",
       "      <td>-1.408451</td>\n",
       "    </tr>\n",
       "    <tr>\n",
       "      <th>1476</th>\n",
       "      <td>1996-09-19</td>\n",
       "      <td>Remarks by Chairman Alan Greenspan Regulation...</td>\n",
       "      <td>1996</td>\n",
       "      <td>0.387862</td>\n",
       "      <td>1.071885</td>\n",
       "      <td>0.440335</td>\n",
       "      <td>-0.776699</td>\n",
       "    </tr>\n",
       "    <tr>\n",
       "      <th>1477</th>\n",
       "      <td>1996-06-18</td>\n",
       "      <td>Remarks by Governor Edward W Kelley Jr Develo...</td>\n",
       "      <td>1996</td>\n",
       "      <td>-0.817549</td>\n",
       "      <td>-0.057262</td>\n",
       "      <td>0.377523</td>\n",
       "      <td>0.396040</td>\n",
       "    </tr>\n",
       "    <tr>\n",
       "      <th>1478</th>\n",
       "      <td>1996-06-13</td>\n",
       "      <td>Remarks by Chairman Alan Greenspan Bank super...</td>\n",
       "      <td>1996</td>\n",
       "      <td>0.000000</td>\n",
       "      <td>0.705888</td>\n",
       "      <td>-0.185317</td>\n",
       "      <td>-0.585938</td>\n",
       "    </tr>\n",
       "  </tbody>\n",
       "</table>\n",
       "<p>1479 rows × 7 columns</p>\n",
       "</div>"
      ],
      "text/plain": [
       "           date                                          full_text  \\\n",
       "0    2021-11-09  Opening remarks by Chair Powell at the Confere...   \n",
       "1    2021-11-08  Good afternoon everyone It is a pleasure to jo...   \n",
       "2    2021-11-08  Opening Remarks by Chair Powell at the Gender ...   \n",
       "3    2021-11-08  Outlooks and Outcomes for the US Economy The U...   \n",
       "4    2021-10-22  Good morning I appreciate the opportunity to b...   \n",
       "...         ...                                                ...   \n",
       "1474 1996-10-07   Remarks by Chairman Alan Greenspan US Treasur...   \n",
       "1475 1996-10-02   Remarks by Governor Lawrence B Lindsey At the...   \n",
       "1476 1996-09-19   Remarks by Chairman Alan Greenspan Regulation...   \n",
       "1477 1996-06-18   Remarks by Governor Edward W Kelley Jr Develo...   \n",
       "1478 1996-06-13   Remarks by Chairman Alan Greenspan Bank super...   \n",
       "\n",
       "     speech_year       SPY       VIX       TNX        IRX  \n",
       "0           2021 -0.330537  3.252044 -4.342017  14.285714  \n",
       "1           2021  0.085372  4.490285  3.028217 -12.500000  \n",
       "2           2021  0.085372  4.490285  3.028217 -12.500000  \n",
       "3           2021  0.085372  4.490285  3.028217 -12.500000  \n",
       "4           2021 -0.103618  2.798135 -1.252983   0.000000  \n",
       "...          ...       ...       ...       ...        ...  \n",
       "1474        1996  0.111014  2.094595  0.804829   1.026694  \n",
       "1475        1996  0.679345 -1.583566 -0.588324  -1.408451  \n",
       "1476        1996  0.387862  1.071885  0.440335  -0.776699  \n",
       "1477        1996 -0.817549 -0.057262  0.377523   0.396040  \n",
       "1478        1996  0.000000  0.705888 -0.185317  -0.585938  \n",
       "\n",
       "[1479 rows x 7 columns]"
      ]
     },
     "execution_count": 19,
     "metadata": {},
     "output_type": "execute_result"
    }
   ],
   "source": [
    "df_speech = pd.read_pickle(\"frb_speeches_all.pkl\")\n",
    "df_speech['speech_year'] = df_speech['speech_date'].str[-4:]\n",
    "df_speech.drop(columns=['url', 'title', 'speaker', 'location'], inplace=True)\n",
    "df_speech[\"speech_date\"] = pd.to_datetime(df_speech[\"speech_date\"])\n",
    "df_speech.rename(columns={'speech_date': 'date'}, inplace=True)\n",
    "df_speech = pd.merge(df_speech, mkt_df, how='left', on='date')\n",
    "df_speech.dropna(inplace=True)\n",
    "df_speech.reset_index(inplace=True, drop=True)\n",
    "df_speech"
   ]
  },
  {
   "cell_type": "code",
   "execution_count": 29,
   "id": "147939f3",
   "metadata": {
    "ExecuteTime": {
     "end_time": "2021-11-11T02:42:53.975754Z",
     "start_time": "2021-11-11T02:42:53.748665Z"
    }
   },
   "outputs": [
    {
     "data": {
      "image/png": "[encoded data removed]",
      "text/plain": [
       "<Figure size 576x432 with 1 Axes>"
      ]
     },
     "metadata": {
      "needs_background": "light"
     },
     "output_type": "display_data"
    }
   ],
   "source": [
    "plot_speeches_per_year(df_speech)"
   ]
  },
  {
   "cell_type": "markdown",
   "id": "2661d775",
   "metadata": {},
   "source": [
    "Then we divide the market movement into two categories: 1 for upward and 0 for the rest."
   ]
  },
  {
   "cell_type": "code",
   "execution_count": 188,
   "id": "0f68155c",
   "metadata": {
    "ExecuteTime": {
     "end_time": "2021-11-10T08:03:48.039121Z",
     "start_time": "2021-11-10T08:03:48.023129Z"
    }
   },
   "outputs": [],
   "source": [
    "for var in df_speech.columns[-4:]:\n",
    "    df_speech[var] = df_speech[var].apply(lambda x: 1 if x > 0 else 0)"
   ]
  },
  {
   "cell_type": "markdown",
   "id": "53fa1178",
   "metadata": {},
   "source": [
    "## Train/Test Split"
   ]
  },
  {
   "cell_type": "markdown",
   "id": "e9dc4f36",
   "metadata": {},
   "source": [
    "The ratio I decided to split my data is 80/20, 80% of data as the training set, and 20% for the test set. The summary of the data split is given in the following cells."
   ]
  },
  {
   "cell_type": "code",
   "execution_count": 59,
   "id": "d721b33a",
   "metadata": {
    "ExecuteTime": {
     "end_time": "2021-11-10T07:20:54.733015Z",
     "start_time": "2021-11-10T07:20:54.725000Z"
    }
   },
   "outputs": [],
   "source": [
    "def set_des(x_train_set, x_test_set, y_train_set, y_test_set):\n",
    "    print(\"Train set has total {0} entries with {1:.2f}% negative, {2:.2f}% positive\".format(\n",
    "        len(x_train_set), (len(x_train_set[y_train_set == 0]) / (len(x_train_set) * 1.)) * 100, (\n",
    "                len(x_train_set[y_train_set == 1]) / (len(x_train_set) * 1.)) * 100))\n",
    "    print(\"Test set has total {0} entries with {1:.2f}% negative, {2:.2f}% positive\".format(\n",
    "        len(x_test_set), (len(x_test_set[y_test_set == 0]) / (len(x_test_set) * 1.)) * 100, (\n",
    "                len(x_test_set[y_test_set == 1]) / (len(x_test_set) * 1.)) * 100))"
   ]
  },
  {
   "cell_type": "markdown",
   "id": "493ba68b",
   "metadata": {},
   "source": [
    "### SPY"
   ]
  },
  {
   "cell_type": "code",
   "execution_count": 60,
   "id": "34385533",
   "metadata": {
    "ExecuteTime": {
     "end_time": "2021-11-10T07:21:06.128737Z",
     "start_time": "2021-11-10T07:21:06.110741Z"
    },
    "pycharm": {
     "name": "#%%\n"
    }
   },
   "outputs": [
    {
     "name": "stdout",
     "output_type": "stream",
     "text": [
      "Train set has total 1183 entries with 45.31% negative, 54.69% positive\n",
      "Test set has total 296 entries with 49.66% negative, 50.34% positive\n"
     ]
    }
   ],
   "source": [
    "x = df_speech['full_text']\n",
    "y = df_speech['SPY']\n",
    "SEED = 2000\n",
    "x_train, x_test, y_train, y_test = train_test_split(x, y, test_size=.2, random_state=SEED)\n",
    "set_des(x_train, x_test, y_train, y_test)"
   ]
  },
  {
   "cell_type": "markdown",
   "id": "c4c1cfa8",
   "metadata": {},
   "source": [
    "### TNX"
   ]
  },
  {
   "cell_type": "code",
   "execution_count": 61,
   "id": "a28d8c1e",
   "metadata": {
    "ExecuteTime": {
     "end_time": "2021-11-10T07:21:12.876776Z",
     "start_time": "2021-11-10T07:21:12.869766Z"
    },
    "pycharm": {
     "name": "#%%\n"
    }
   },
   "outputs": [
    {
     "name": "stdout",
     "output_type": "stream",
     "text": [
      "Train set has total 1183 entries with 51.56% negative, 48.44% positive\n",
      "Test set has total 296 entries with 52.36% negative, 47.64% positive\n"
     ]
    }
   ],
   "source": [
    "x = df_speech['full_text']\n",
    "y = df_speech['TNX']\n",
    "SEED = 2000\n",
    "x_train, x_test, y_train, y_test = train_test_split(x, y, test_size=.2, random_state=SEED)\n",
    "set_des(x_train, x_test, y_train, y_test)"
   ]
  },
  {
   "cell_type": "markdown",
   "id": "c123b8cd",
   "metadata": {},
   "source": [
    "### VIX"
   ]
  },
  {
   "cell_type": "code",
   "execution_count": 62,
   "id": "e7d8c61a",
   "metadata": {
    "ExecuteTime": {
     "end_time": "2021-11-10T07:21:20.424882Z",
     "start_time": "2021-11-10T07:21:20.403865Z"
    },
    "pycharm": {
     "name": "#%%\n"
    }
   },
   "outputs": [
    {
     "name": "stdout",
     "output_type": "stream",
     "text": [
      "Train set has total 1183 entries with 56.30% negative, 43.70% positive\n",
      "Test set has total 296 entries with 53.04% negative, 46.96% positive\n"
     ]
    }
   ],
   "source": [
    "x = df_speech['full_text']\n",
    "y = df_speech['VIX']\n",
    "SEED = 2000\n",
    "x_train, x_test, y_train, y_test = train_test_split(x, y, test_size=.2, random_state=SEED)\n",
    "set_des(x_train, x_test, y_train, y_test)"
   ]
  },
  {
   "cell_type": "markdown",
   "id": "5af9a2ea",
   "metadata": {},
   "source": [
    "### IRX"
   ]
  },
  {
   "cell_type": "code",
   "execution_count": null,
   "id": "42ce1919",
   "metadata": {},
   "outputs": [],
   "source": [
    "x = df_speech['full_text']\n",
    "y = df_speech['VIX']\n",
    "SEED = 2000\n",
    "x_train, x_test, y_train, y_test = train_test_split(x, y, test_size=.2, random_state=SEED)\n",
    "set_des(x_train, x_test, y_train, y_test)"
   ]
  },
  {
   "cell_type": "markdown",
   "id": "66ad208c",
   "metadata": {},
   "source": [
    "## Methodology"
   ]
  },
  {
   "cell_type": "markdown",
   "id": "d5147991",
   "metadata": {
    "ExecuteTime": {
     "end_time": "2021-11-11T02:33:49.424319Z",
     "start_time": "2021-11-11T02:33:49.410304Z"
    }
   },
   "source": [
    "We have four y variables, and we apply two typical models: `tf-idf` & `logit` model and `word2vec` & `CNN` model on them."
   ]
  },
  {
   "cell_type": "markdown",
   "id": "17dc9549",
   "metadata": {},
   "source": [
    "### VIX: I"
   ]
  },
  {
   "cell_type": "code",
   "execution_count": 63,
   "id": "29528508",
   "metadata": {
    "ExecuteTime": {
     "end_time": "2021-11-10T07:21:28.755283Z",
     "start_time": "2021-11-10T07:21:28.747234Z"
    }
   },
   "outputs": [
    {
     "name": "stdout",
     "output_type": "stream",
     "text": [
      "Train set has total 1183 entries with 56.30% negative, 43.70% positive\n",
      "Test set has total 296 entries with 53.04% negative, 46.96% positive\n"
     ]
    }
   ],
   "source": [
    "x = df_speech['full_text']\n",
    "y = df_speech['VIX']\n",
    "SEED = 2000\n",
    "x_train, x_test, y_train, y_test = train_test_split(x, y, test_size=.2, random_state=SEED)\n",
    "set_des(x_train, x_test, y_train, y_test)"
   ]
  },
  {
   "cell_type": "code",
   "execution_count": 64,
   "id": "24efe3eb",
   "metadata": {
    "ExecuteTime": {
     "end_time": "2021-11-10T07:21:35.249977Z",
     "start_time": "2021-11-10T07:21:35.231968Z"
    }
   },
   "outputs": [],
   "source": [
    "def labelize_ug(tweets, label):\n",
    "    result = []\n",
    "    prefix = label\n",
    "    for i, t in zip(tweets.index, tweets):\n",
    "        result.append(TaggedDocument(t.split(), [prefix + '_%s' % i]))\n",
    "    return result"
   ]
  },
  {
   "cell_type": "code",
   "execution_count": 65,
   "id": "e5aaae2d",
   "metadata": {
    "ExecuteTime": {
     "end_time": "2021-11-10T07:21:39.391420Z",
     "start_time": "2021-11-10T07:21:39.102362Z"
    }
   },
   "outputs": [],
   "source": [
    "all_x_w2v = labelize_ug(x, 'all')"
   ]
  },
  {
   "cell_type": "code",
   "execution_count": 66,
   "id": "7768ad71",
   "metadata": {
    "ExecuteTime": {
     "end_time": "2021-11-10T07:21:41.016012Z",
     "start_time": "2021-11-10T07:21:39.900773Z"
    }
   },
   "outputs": [
    {
     "name": "stderr",
     "output_type": "stream",
     "text": [
      "100%|█████████████████████████████████████████████████████████████████████████| 1479/1479 [00:00<00:00, 1467212.78it/s]\n"
     ]
    }
   ],
   "source": [
    "model_ug_cbow = Word2Vec(sg=0, negative=5, window=2, min_count=2, workers=16, alpha=0.065, min_alpha=0.065)\n",
    "model_ug_cbow.build_vocab([x.words for x in tqdm(all_x_w2v)])"
   ]
  },
  {
   "cell_type": "code",
   "execution_count": 67,
   "id": "e4b137d4",
   "metadata": {
    "ExecuteTime": {
     "end_time": "2021-11-10T07:22:31.169336Z",
     "start_time": "2021-11-10T07:21:41.017904Z"
    }
   },
   "outputs": [
    {
     "name": "stderr",
     "output_type": "stream",
     "text": [
      "100%|█████████████████████████████████████████████████████████████████████████| 1479/1479 [00:00<00:00, 1412426.14it/s]\n",
      "100%|██████████████████████████████████████████████████████████████████████████████████████| 1479/1479 [00:00<?, ?it/s]\n",
      "100%|█████████████████████████████████████████████████████████████████████████| 1479/1479 [00:00<00:00, 1475939.95it/s]\n",
      "100%|█████████████████████████████████████████████████████████████████████████| 1479/1479 [00:00<00:00, 1481933.97it/s]\n",
      "100%|█████████████████████████████████████████████████████████████████████████| 1479/1479 [00:00<00:00, 1478049.94it/s]\n",
      "100%|█████████████████████████████████████████████████████████████████████████| 1479/1479 [00:00<00:00, 1479812.89it/s]\n",
      "100%|█████████████████████████████████████████████████████████████████████████| 1479/1479 [00:00<00:00, 1474887.21it/s]\n",
      "100%|█████████████████████████████████████████████████████████████████████████| 1479/1479 [00:00<00:00, 1477345.94it/s]\n",
      "100%|█████████████████████████████████████████████████████████████████████████| 1479/1479 [00:00<00:00, 1480165.98it/s]\n",
      "100%|██████████████████████████████████████████████████████████████████████████████████████| 1479/1479 [00:00<?, ?it/s]\n",
      "100%|█████████████████████████████████████████████████████████████████████████| 1479/1479 [00:00<00:00, 1500211.76it/s]\n",
      "100%|█████████████████████████████████████████████████████████████████████████| 1479/1479 [00:00<00:00, 1480165.98it/s]\n",
      "100%|█████████████████████████████████████████████████████████████████████████| 1479/1479 [00:00<00:00, 1478754.62it/s]\n",
      "100%|█████████████████████████████████████████████████████████████████████████| 1479/1479 [00:00<00:00, 1477697.86it/s]\n",
      "100%|██████████████████████████████████████████████████████████████████████████████████████| 1479/1479 [00:00<?, ?it/s]\n",
      "100%|█████████████████████████████████████████████████████████████████████████| 1479/1479 [00:00<00:00, 1478754.62it/s]\n",
      "100%|█████████████████████████████████████████████████████████████████████████| 1479/1479 [00:00<00:00, 1475939.95it/s]\n",
      "100%|█████████████████████████████████████████████████████████████████████████| 1479/1479 [00:00<00:00, 1484771.57it/s]\n",
      "100%|█████████████████████████████████████████████████████████████████████████| 1479/1479 [00:00<00:00, 1479459.96it/s]\n",
      "100%|█████████████████████████████████████████████████████████████████████████| 1479/1479 [00:00<00:00, 1478049.94it/s]\n",
      "100%|█████████████████████████████████████████████████████████████████████████| 1479/1479 [00:00<00:00, 1479812.89it/s]\n",
      "100%|██████████████████████████████████████████████████████████████████████████████████████| 1479/1479 [00:00<?, ?it/s]\n",
      "100%|█████████████████████████████████████████████████████████████████████████| 1479/1479 [00:00<00:00, 1480165.98it/s]\n",
      "100%|██████████████████████████████████████████████████████████████████████████████████████| 1479/1479 [00:00<?, ?it/s]\n",
      "100%|█████████████████████████████████████████████████████████████████████████| 1479/1479 [00:00<00:00, 1494789.31it/s]\n",
      "100%|█████████████████████████████████████████████████████████████████████████| 1479/1479 [00:00<00:00, 1468602.18it/s]\n",
      "100%|██████████████████████████████████████████████████████████████████████████████████████| 1479/1479 [00:00<?, ?it/s]\n",
      "100%|█████████████████████████████████████████████████████████████████████████| 1479/1479 [00:00<00:00, 1478049.94it/s]\n",
      "100%|█████████████████████████████████████████████████████████████████████████| 1479/1479 [00:00<00:00, 1475237.96it/s]\n",
      "100%|█████████████████████████████████████████████████████████████████████████| 1479/1479 [00:00<00:00, 1487620.05it/s]\n"
     ]
    },
    {
     "name": "stdout",
     "output_type": "stream",
     "text": [
      "Wall time: 50.1 s\n"
     ]
    }
   ],
   "source": [
    "% % time\n",
    "for epoch in range(30):\n",
    "    model_ug_cbow.train(utils.shuffle([x.words for x in tqdm(all_x_w2v)]), total_examples=len(all_x_w2v), epochs=1)\n",
    "    model_ug_cbow.alpha -= 0.002\n",
    "    model_ug_cbow.min_alpha = model_ug_cbow.alpha"
   ]
  },
  {
   "cell_type": "code",
   "execution_count": 68,
   "id": "fca04c6e",
   "metadata": {
    "ExecuteTime": {
     "end_time": "2021-11-10T07:22:36.739895Z",
     "start_time": "2021-11-10T07:22:35.707896Z"
    }
   },
   "outputs": [
    {
     "name": "stderr",
     "output_type": "stream",
     "text": [
      "100%|█████████████████████████████████████████████████████████████████████████| 1479/1479 [00:00<00:00, 1498761.93it/s]\n"
     ]
    }
   ],
   "source": [
    "model_ug_sg = Word2Vec(sg=1, negative=5, window=2, min_count=2, workers=16, alpha=0.065, min_alpha=0.065)\n",
    "model_ug_sg.build_vocab([x.words for x in tqdm(all_x_w2v)])"
   ]
  },
  {
   "cell_type": "code",
   "execution_count": 69,
   "id": "87f97037",
   "metadata": {
    "ExecuteTime": {
     "end_time": "2021-11-10T07:23:32.827416Z",
     "start_time": "2021-11-10T07:22:37.506508Z"
    }
   },
   "outputs": [
    {
     "name": "stderr",
     "output_type": "stream",
     "text": [
      "100%|██████████████████████████████████████████████████████████████████████████████████████| 1479/1479 [00:00<?, ?it/s]\n",
      "100%|█████████████████████████████████████████████████████████████████████████| 1479/1479 [00:00<00:00, 1478049.94it/s]\n",
      "100%|██████████████████████████████████████████████████████████████████████████████████████| 1479/1479 [00:00<?, ?it/s]\n",
      "100%|█████████████████████████████████████████████████████████████████████████| 1479/1479 [00:00<00:00, 1482288.08it/s]\n",
      "100%|██████████████████████████████████████████████████████████████████████████████████████| 1479/1479 [00:00<?, ?it/s]\n",
      "100%|█████████████████████████████████████████████████████████████████████████| 1479/1479 [00:00<00:00, 1476994.19it/s]\n",
      "100%|█████████████████████████████████████████████████████████████████████████| 1479/1479 [00:00<00:00, 1479459.96it/s]\n",
      "100%|█████████████████████████████████████████████████████████████████████████| 1479/1479 [00:00<00:00, 1477345.94it/s]\n",
      "100%|██████████████████████████████████████████████████████████████████████████████████████| 1479/1479 [00:00<?, ?it/s]\n",
      "100%|█████████████████████████████████████████████████████████████████████████| 1479/1479 [00:00<00:00, 1475939.95it/s]\n",
      "100%|█████████████████████████████████████████████████████████████████████████| 1479/1479 [00:00<00:00, 1478402.20it/s]\n",
      "100%|█████████████████████████████████████████████████████████████████████████| 1479/1479 [00:00<00:00, 1480165.98it/s]\n",
      "100%|█████████████████████████████████████████████████████████████████████████| 1479/1479 [00:00<00:00, 1478049.94it/s]\n",
      "100%|██████████████████████████████████████████████████████████████████████████████████████| 1479/1479 [00:00<?, ?it/s]\n",
      "100%|██████████████████████████████████████████████████████████████████████████████████████| 1479/1479 [00:00<?, ?it/s]\n",
      "100%|██████████████████████████████████████████████████████████████████████████████████████| 1479/1479 [00:00<?, ?it/s]\n",
      "100%|█████████████████████████████████████████████████████████████████████████| 1479/1479 [00:00<00:00, 1476994.19it/s]\n",
      "100%|█████████████████████████████████████████████████████████████████████████| 1479/1479 [00:00<00:00, 1479459.96it/s]\n",
      "100%|██████████████████████████████████████████████████████████████████████████████████████| 1479/1479 [00:00<?, ?it/s]\n",
      "100%|█████████████████████████████████████████████████████████████████████████| 1479/1479 [00:00<00:00, 1479812.89it/s]\n",
      "100%|█████████████████████████████████████████████████████████████████████████| 1479/1479 [00:00<00:00, 1480519.24it/s]\n",
      "100%|█████████████████████████████████████████████████████████████████████████| 1479/1479 [00:00<00:00, 1478049.94it/s]\n",
      "100%|█████████████████████████████████████████████████████████████████████████| 1479/1479 [00:00<00:00, 1481226.27it/s]\n",
      "100%|█████████████████████████████████████████████████████████████████████████| 1479/1479 [00:00<00:00, 1480519.24it/s]\n",
      "100%|█████████████████████████████████████████████████████████████████████████| 1479/1479 [00:00<00:00, 1478754.62it/s]\n",
      "100%|█████████████████████████████████████████████████████████████████████████| 1479/1479 [00:00<00:00, 1476291.20it/s]\n",
      "100%|█████████████████████████████████████████████████████████████████████████| 1479/1479 [00:00<00:00, 1476994.19it/s]\n",
      "100%|██████████████████████████████████████████████████████████████████████████████████████| 1479/1479 [00:00<?, ?it/s]\n",
      "100%|██████████████████████████████████████████████████████████████████████████████████████| 1479/1479 [00:00<?, ?it/s]\n",
      "100%|█████████████████████████████████████████████████████████████████████████| 1479/1479 [00:00<00:00, 1478402.20it/s]\n"
     ]
    },
    {
     "name": "stdout",
     "output_type": "stream",
     "text": [
      "Wall time: 55.3 s\n"
     ]
    }
   ],
   "source": [
    "% % time\n",
    "for epoch in range(30):\n",
    "    model_ug_sg.train(utils.shuffle([x.words for x in tqdm(all_x_w2v)]), total_examples=len(all_x_w2v), epochs=1)\n",
    "    model_ug_sg.alpha -= 0.002\n",
    "    model_ug_sg.min_alpha = model_ug_sg.alpha"
   ]
  },
  {
   "cell_type": "code",
   "execution_count": 70,
   "id": "32bc93ea",
   "metadata": {
    "ExecuteTime": {
     "end_time": "2021-11-10T07:23:45.613669Z",
     "start_time": "2021-11-10T07:23:45.551107Z"
    }
   },
   "outputs": [],
   "source": [
    "model_ug_cbow.save('w2v_model_ug_cbow.word2vec')\n",
    "model_ug_sg.save('w2v_model_ug_sg.word2vec')"
   ]
  },
  {
   "cell_type": "code",
   "execution_count": 71,
   "id": "0478c406",
   "metadata": {
    "ExecuteTime": {
     "end_time": "2021-11-10T07:23:47.098635Z",
     "start_time": "2021-11-10T07:23:46.648861Z"
    }
   },
   "outputs": [],
   "source": [
    "model_ug_cbow = KeyedVectors.load('w2v_model_ug_cbow.word2vec')\n",
    "model_ug_sg = KeyedVectors.load('w2v_model_ug_sg.word2vec')"
   ]
  },
  {
   "cell_type": "code",
   "execution_count": 72,
   "id": "dc200690",
   "metadata": {
    "ExecuteTime": {
     "end_time": "2021-11-10T07:23:48.205988Z",
     "start_time": "2021-11-10T07:23:48.200994Z"
    }
   },
   "outputs": [
    {
     "data": {
      "text/plain": [
       "27847"
      ]
     },
     "execution_count": 72,
     "metadata": {},
     "output_type": "execute_result"
    }
   ],
   "source": [
    "len(model_ug_cbow.wv.index_to_key)"
   ]
  },
  {
   "cell_type": "code",
   "execution_count": 73,
   "id": "7caa1b57",
   "metadata": {
    "ExecuteTime": {
     "end_time": "2021-11-10T07:23:50.197998Z",
     "start_time": "2021-11-10T07:23:50.021956Z"
    }
   },
   "outputs": [
    {
     "name": "stdout",
     "output_type": "stream",
     "text": [
      "Found 27847 word vectors.\n"
     ]
    }
   ],
   "source": [
    "embeddings_index = {}\n",
    "for w in model_ug_cbow.wv.index_to_key:\n",
    "    embeddings_index[w] = np.append(model_ug_cbow.wv[w], model_ug_sg.wv[w])\n",
    "print('Found %s word vectors.' % len(embeddings_index))"
   ]
  },
  {
   "cell_type": "code",
   "execution_count": 74,
   "id": "8b9e8128",
   "metadata": {
    "ExecuteTime": {
     "end_time": "2021-11-10T07:24:00.270856Z",
     "start_time": "2021-11-10T07:23:56.712565Z"
    }
   },
   "outputs": [],
   "source": [
    "tokenizer = Tokenizer(num_words=100000)\n",
    "tokenizer.fit_on_texts(x_train)\n",
    "sequences = tokenizer.texts_to_sequences(x_train)"
   ]
  },
  {
   "cell_type": "code",
   "execution_count": 75,
   "id": "bc23f299",
   "metadata": {
    "ExecuteTime": {
     "end_time": "2021-11-10T07:24:02.562309Z",
     "start_time": "2021-11-10T07:24:02.548302Z"
    }
   },
   "outputs": [
    {
     "data": {
      "text/plain": [
       "27401"
      ]
     },
     "execution_count": 75,
     "metadata": {},
     "output_type": "execute_result"
    }
   ],
   "source": [
    "len(tokenizer.word_index)"
   ]
  },
  {
   "cell_type": "code",
   "execution_count": 79,
   "id": "e809a3cd",
   "metadata": {
    "ExecuteTime": {
     "end_time": "2021-11-10T07:24:17.792397Z",
     "start_time": "2021-11-10T07:24:17.605066Z"
    }
   },
   "outputs": [],
   "source": [
    "length = []\n",
    "for x in x_train:\n",
    "    length.append(len(x.split()))"
   ]
  },
  {
   "cell_type": "code",
   "execution_count": 80,
   "id": "5975bf5b",
   "metadata": {
    "ExecuteTime": {
     "end_time": "2021-11-10T07:24:18.726171Z",
     "start_time": "2021-11-10T07:24:18.653365Z"
    }
   },
   "outputs": [
    {
     "name": "stdout",
     "output_type": "stream",
     "text": [
      "Shape of data tensor: (1183, 1193)\n"
     ]
    }
   ],
   "source": [
    "x_train_seq = pad_sequences(sequences, maxlen=len(length) + 10)\n",
    "print('Shape of data tensor:', x_train_seq.shape)"
   ]
  },
  {
   "cell_type": "code",
   "execution_count": 81,
   "id": "bd7677c0",
   "metadata": {
    "ExecuteTime": {
     "end_time": "2021-11-10T07:24:27.881348Z",
     "start_time": "2021-11-10T07:24:27.466336Z"
    }
   },
   "outputs": [],
   "source": [
    "sequences_val = tokenizer.texts_to_sequences(x_test)\n",
    "x_test_seq = pad_sequences(sequences_val, maxlen=len(length) + 10)"
   ]
  },
  {
   "cell_type": "code",
   "execution_count": 82,
   "id": "89ad55d2",
   "metadata": {
    "ExecuteTime": {
     "end_time": "2021-11-10T07:24:28.549516Z",
     "start_time": "2021-11-10T07:24:28.505508Z"
    }
   },
   "outputs": [],
   "source": [
    "num_words = 100000\n",
    "embedding_matrix = np.zeros((num_words, 200))\n",
    "for word, i in tokenizer.word_index.items():\n",
    "    if i >= num_words:\n",
    "        continue\n",
    "    embedding_vector = embeddings_index.get(word)\n",
    "    if embedding_vector is not None:\n",
    "        embedding_matrix[i] = embedding_vector"
   ]
  },
  {
   "cell_type": "code",
   "execution_count": 83,
   "id": "429a8088",
   "metadata": {
    "ExecuteTime": {
     "end_time": "2021-11-10T07:25:01.399977Z",
     "start_time": "2021-11-10T07:24:29.353379Z"
    }
   },
   "outputs": [
    {
     "name": "stdout",
     "output_type": "stream",
     "text": [
      "Epoch 1/5\n",
      "37/37 - 7s - loss: 2.4759 - accuracy: 0.4505 - val_loss: 0.6938 - val_accuracy: 0.5304 - 7s/epoch - 182ms/step\n",
      "Epoch 2/5\n",
      "37/37 - 6s - loss: 0.6387 - accuracy: 0.5985 - val_loss: 0.6935 - val_accuracy: 0.5304 - 6s/epoch - 167ms/step\n",
      "Epoch 3/5\n",
      "37/37 - 6s - loss: 0.5864 - accuracy: 0.6044 - val_loss: 0.7012 - val_accuracy: 0.5304 - 6s/epoch - 168ms/step\n",
      "Epoch 4/5\n",
      "37/37 - 6s - loss: 0.5692 - accuracy: 0.6044 - val_loss: 0.7055 - val_accuracy: 0.5304 - 6s/epoch - 168ms/step\n",
      "Epoch 5/5\n",
      "37/37 - 6s - loss: 0.5319 - accuracy: 0.6052 - val_loss: 0.7090 - val_accuracy: 0.5304 - 6s/epoch - 168ms/step\n"
     ]
    },
    {
     "data": {
      "text/plain": [
       "<keras.callbacks.History at 0x21e44458c10>"
      ]
     },
     "execution_count": 83,
     "metadata": {},
     "output_type": "execute_result"
    }
   ],
   "source": [
    "model_ptw2v = Sequential()\n",
    "e = Embedding(100000, 200, weights=[embedding_matrix], input_length=len(length) + 10, trainable=False)\n",
    "model_ptw2v.add(e)\n",
    "model_ptw2v.add(Flatten())\n",
    "model_ptw2v.add(Dense(256, activation='relu'))\n",
    "model_ptw2v.add(Dense(1, activation='sigmoid'))\n",
    "model_ptw2v.compile(loss='binary_crossentropy', optimizer='adam', metrics=['accuracy'])\n",
    "model_ptw2v.fit(x_train_seq, y_train, validation_data=(x_test_seq, y_test), epochs=5, batch_size=32, verbose=2)"
   ]
  },
  {
   "cell_type": "code",
   "execution_count": 85,
   "id": "93c97c01",
   "metadata": {
    "ExecuteTime": {
     "end_time": "2021-11-10T07:26:29.175511Z",
     "start_time": "2021-11-10T07:25:30.424065Z"
    }
   },
   "outputs": [
    {
     "name": "stdout",
     "output_type": "stream",
     "text": [
      "Epoch 1/5\n",
      "37/37 - 12s - loss: 0.7251 - accuracy: 0.5495 - val_loss: 0.6900 - val_accuracy: 0.5642 - 12s/epoch - 327ms/step\n",
      "Epoch 2/5\n",
      "37/37 - 12s - loss: 0.2122 - accuracy: 0.9518 - val_loss: 0.9650 - val_accuracy: 0.5473 - 12s/epoch - 312ms/step\n",
      "Epoch 3/5\n",
      "37/37 - 12s - loss: 0.0659 - accuracy: 0.9865 - val_loss: 0.8324 - val_accuracy: 0.5405 - 12s/epoch - 316ms/step\n",
      "Epoch 4/5\n",
      "37/37 - 11s - loss: 0.0390 - accuracy: 0.9932 - val_loss: 0.8241 - val_accuracy: 0.5101 - 11s/epoch - 309ms/step\n",
      "Epoch 5/5\n",
      "37/37 - 12s - loss: 0.0099 - accuracy: 0.9941 - val_loss: 0.8962 - val_accuracy: 0.5372 - 12s/epoch - 314ms/step\n"
     ]
    },
    {
     "data": {
      "text/plain": [
       "<keras.callbacks.History at 0x21e8689dc70>"
      ]
     },
     "execution_count": 85,
     "metadata": {},
     "output_type": "execute_result"
    }
   ],
   "source": [
    "model_ptw2v = Sequential()\n",
    "e = Embedding(100000, 200, input_length=len(length) + 10)\n",
    "model_ptw2v.add(e)\n",
    "model_ptw2v.add(Flatten())\n",
    "model_ptw2v.add(Dense(256, activation='relu'))\n",
    "model_ptw2v.add(Dense(1, activation='sigmoid'))\n",
    "model_ptw2v.compile(loss='binary_crossentropy', optimizer='adam', metrics=['accuracy'])\n",
    "model_ptw2v.fit(x_train_seq, y_train, validation_data=(x_test_seq, y_test), epochs=5, batch_size=32, verbose=2)"
   ]
  },
  {
   "cell_type": "code",
   "execution_count": 86,
   "id": "ec41de36",
   "metadata": {
    "ExecuteTime": {
     "end_time": "2021-11-10T07:27:29.557250Z",
     "start_time": "2021-11-10T07:26:29.177513Z"
    }
   },
   "outputs": [
    {
     "name": "stdout",
     "output_type": "stream",
     "text": [
      "Epoch 1/5\n",
      "37/37 - 12s - loss: 2.9558 - accuracy: 0.5063 - val_loss: 0.6970 - val_accuracy: 0.5135 - 12s/epoch - 330ms/step\n",
      "Epoch 2/5\n",
      "37/37 - 12s - loss: 0.3422 - accuracy: 0.8943 - val_loss: 0.7877 - val_accuracy: 0.5068 - 12s/epoch - 317ms/step\n",
      "Epoch 3/5\n",
      "37/37 - 12s - loss: 0.1340 - accuracy: 0.9713 - val_loss: 0.7460 - val_accuracy: 0.5203 - 12s/epoch - 320ms/step\n",
      "Epoch 4/5\n",
      "37/37 - 12s - loss: 0.0243 - accuracy: 0.9958 - val_loss: 0.7963 - val_accuracy: 0.5372 - 12s/epoch - 332ms/step\n",
      "Epoch 5/5\n",
      "37/37 - 12s - loss: 0.0237 - accuracy: 0.9958 - val_loss: 0.8257 - val_accuracy: 0.5338 - 12s/epoch - 321ms/step\n"
     ]
    },
    {
     "data": {
      "text/plain": [
       "<keras.callbacks.History at 0x21e86a0f8e0>"
      ]
     },
     "execution_count": 86,
     "metadata": {},
     "output_type": "execute_result"
    }
   ],
   "source": [
    "model_ptw2v = Sequential()\n",
    "e = Embedding(100000, 200, weights=[embedding_matrix], input_length=len(length) + 10, trainable=True)\n",
    "model_ptw2v.add(e)\n",
    "model_ptw2v.add(Flatten())\n",
    "model_ptw2v.add(Dense(256, activation='relu'))\n",
    "model_ptw2v.add(Dense(1, activation='sigmoid'))\n",
    "model_ptw2v.compile(loss='binary_crossentropy', optimizer='adam', metrics=['accuracy'])\n",
    "model_ptw2v.fit(x_train_seq, y_train, validation_data=(x_test_seq, y_test), epochs=5, batch_size=32, verbose=2)"
   ]
  },
  {
   "cell_type": "markdown",
   "id": "b3b8bdb2",
   "metadata": {
    "ExecuteTime": {
     "end_time": "2021-11-10T07:33:40.547840Z",
     "start_time": "2021-11-10T07:33:40.536834Z"
    }
   },
   "source": [
    "### VIX: II"
   ]
  },
  {
   "cell_type": "code",
   "execution_count": 87,
   "id": "58993e86",
   "metadata": {
    "ExecuteTime": {
     "end_time": "2021-11-10T07:27:29.652783Z",
     "start_time": "2021-11-10T07:27:29.558249Z"
    }
   },
   "outputs": [
    {
     "name": "stdout",
     "output_type": "stream",
     "text": [
      "Model: \"sequential_4\"\n",
      "_________________________________________________________________\n",
      " Layer (type)                Output Shape              Param #   \n",
      "=================================================================\n",
      " embedding_4 (Embedding)     (None, 1193, 200)         20000000  \n",
      "                                                                 \n",
      " conv1d (Conv1D)             (None, 1192, 100)         40100     \n",
      "                                                                 \n",
      "=================================================================\n",
      "Total params: 20,040,100\n",
      "Trainable params: 20,040,100\n",
      "Non-trainable params: 0\n",
      "_________________________________________________________________\n"
     ]
    }
   ],
   "source": [
    "structure_test = Sequential()\n",
    "e = Embedding(100000, 200, input_length=len(length) + 10)\n",
    "structure_test.add(e)\n",
    "structure_test.add(Conv1D(filters=100, kernel_size=2, padding='valid', activation='relu', strides=1))\n",
    "structure_test.summary()"
   ]
  },
  {
   "cell_type": "code",
   "execution_count": 88,
   "id": "1f6aca16",
   "metadata": {
    "ExecuteTime": {
     "end_time": "2021-11-10T07:27:29.763362Z",
     "start_time": "2021-11-10T07:27:29.655785Z"
    }
   },
   "outputs": [
    {
     "name": "stdout",
     "output_type": "stream",
     "text": [
      "Model: \"sequential_5\"\n",
      "_________________________________________________________________\n",
      " Layer (type)                Output Shape              Param #   \n",
      "=================================================================\n",
      " embedding_5 (Embedding)     (None, 45, 200)           20000000  \n",
      "                                                                 \n",
      " conv1d_1 (Conv1D)           (None, 44, 100)           40100     \n",
      "                                                                 \n",
      " global_max_pooling1d (Globa  (None, 100)              0         \n",
      " lMaxPooling1D)                                                  \n",
      "                                                                 \n",
      "=================================================================\n",
      "Total params: 20,040,100\n",
      "Trainable params: 20,040,100\n",
      "Non-trainable params: 0\n",
      "_________________________________________________________________\n"
     ]
    }
   ],
   "source": [
    "structure_test = Sequential()\n",
    "e = Embedding(100000, 200, input_length=45)\n",
    "structure_test.add(e)\n",
    "structure_test.add(Conv1D(filters=100, kernel_size=2, padding='valid', activation='relu', strides=1))\n",
    "structure_test.add(GlobalMaxPooling1D())\n",
    "structure_test.summary()"
   ]
  },
  {
   "cell_type": "code",
   "execution_count": 89,
   "id": "d7f8f570",
   "metadata": {
    "ExecuteTime": {
     "end_time": "2021-11-10T07:27:40.587174Z",
     "start_time": "2021-11-10T07:27:29.765328Z"
    }
   },
   "outputs": [
    {
     "name": "stdout",
     "output_type": "stream",
     "text": [
      "Epoch 1/5\n",
      "37/37 - 2s - loss: 0.7834 - accuracy: 0.5351 - val_loss: 0.6901 - val_accuracy: 0.5338 - 2s/epoch - 67ms/step\n",
      "Epoch 2/5\n",
      "37/37 - 2s - loss: 0.6462 - accuracy: 0.6255 - val_loss: 0.6967 - val_accuracy: 0.5743 - 2s/epoch - 55ms/step\n",
      "Epoch 3/5\n",
      "37/37 - 2s - loss: 0.6004 - accuracy: 0.6923 - val_loss: 0.7258 - val_accuracy: 0.5372 - 2s/epoch - 54ms/step\n",
      "Epoch 4/5\n",
      "37/37 - 2s - loss: 0.5657 - accuracy: 0.6923 - val_loss: 0.8494 - val_accuracy: 0.5270 - 2s/epoch - 55ms/step\n",
      "Epoch 5/5\n",
      "37/37 - 2s - loss: 0.4631 - accuracy: 0.8360 - val_loss: 0.7336 - val_accuracy: 0.5034 - 2s/epoch - 56ms/step\n"
     ]
    },
    {
     "data": {
      "text/plain": [
       "<keras.callbacks.History at 0x21e86b9d490>"
      ]
     },
     "execution_count": 89,
     "metadata": {},
     "output_type": "execute_result"
    }
   ],
   "source": [
    "model_cnn_01 = Sequential()\n",
    "e = Embedding(100000, 200, weights=[embedding_matrix], input_length=len(length) + 10, trainable=False)\n",
    "model_cnn_01.add(e)\n",
    "model_cnn_01.add(Conv1D(filters=100, kernel_size=2, padding='valid', activation='relu', strides=1))\n",
    "model_cnn_01.add(GlobalMaxPooling1D())\n",
    "model_cnn_01.add(Dense(256, activation='relu'))\n",
    "model_cnn_01.add(Dense(1, activation='sigmoid'))\n",
    "model_cnn_01.compile(loss='binary_crossentropy', optimizer='adam', metrics=['accuracy'])\n",
    "model_cnn_01.fit(x_train_seq, y_train, validation_data=(x_test_seq, y_test), epochs=5, batch_size=32, verbose=2)"
   ]
  },
  {
   "cell_type": "code",
   "execution_count": 90,
   "id": "b89dc6f6",
   "metadata": {
    "ExecuteTime": {
     "end_time": "2021-11-10T07:28:19.788370Z",
     "start_time": "2021-11-10T07:27:40.588173Z"
    }
   },
   "outputs": [
    {
     "name": "stdout",
     "output_type": "stream",
     "text": [
      "Epoch 1/5\n",
      "37/37 - 8s - loss: 0.6883 - accuracy: 0.5630 - val_loss: 0.6926 - val_accuracy: 0.5304 - 8s/epoch - 220ms/step\n",
      "Epoch 2/5\n",
      "37/37 - 8s - loss: 0.6617 - accuracy: 0.5959 - val_loss: 0.7119 - val_accuracy: 0.5304 - 8s/epoch - 210ms/step\n",
      "Epoch 3/5\n",
      "37/37 - 8s - loss: 0.5525 - accuracy: 0.8081 - val_loss: 0.7059 - val_accuracy: 0.5000 - 8s/epoch - 209ms/step\n",
      "Epoch 4/5\n",
      "37/37 - 8s - loss: 0.2763 - accuracy: 0.9527 - val_loss: 0.8112 - val_accuracy: 0.5135 - 8s/epoch - 206ms/step\n",
      "Epoch 5/5\n",
      "37/37 - 8s - loss: 0.0784 - accuracy: 0.9899 - val_loss: 0.9927 - val_accuracy: 0.5338 - 8s/epoch - 209ms/step\n"
     ]
    },
    {
     "data": {
      "text/plain": [
       "<keras.callbacks.History at 0x21e86ca8ca0>"
      ]
     },
     "execution_count": 90,
     "metadata": {},
     "output_type": "execute_result"
    }
   ],
   "source": [
    "model_cnn_02 = Sequential()\n",
    "e = Embedding(100000, 200, input_length=len(length) + 10)\n",
    "model_cnn_02.add(e)\n",
    "model_cnn_02.add(Conv1D(filters=100, kernel_size=2, padding='valid', activation='relu', strides=1))\n",
    "model_cnn_02.add(GlobalMaxPooling1D())\n",
    "model_cnn_02.add(Dense(256, activation='relu'))\n",
    "model_cnn_02.add(Dense(1, activation='sigmoid'))\n",
    "model_cnn_02.compile(loss='binary_crossentropy', optimizer='adam', metrics=['accuracy'])\n",
    "model_cnn_02.fit(x_train_seq, y_train, validation_data=(x_test_seq, y_test), epochs=5, batch_size=32, verbose=2)"
   ]
  },
  {
   "cell_type": "code",
   "execution_count": 91,
   "id": "d5508ca8",
   "metadata": {
    "ExecuteTime": {
     "end_time": "2021-11-10T07:28:59.073631Z",
     "start_time": "2021-11-10T07:28:19.790375Z"
    }
   },
   "outputs": [
    {
     "name": "stdout",
     "output_type": "stream",
     "text": [
      "Epoch 1/5\n",
      "37/37 - 8s - loss: 0.7810 - accuracy: 0.4945 - val_loss: 0.7213 - val_accuracy: 0.4831 - 8s/epoch - 221ms/step\n",
      "Epoch 2/5\n",
      "37/37 - 8s - loss: 0.6270 - accuracy: 0.6450 - val_loss: 0.7396 - val_accuracy: 0.5270 - 8s/epoch - 210ms/step\n",
      "Epoch 3/5\n",
      "37/37 - 8s - loss: 0.5697 - accuracy: 0.6999 - val_loss: 0.7051 - val_accuracy: 0.5034 - 8s/epoch - 209ms/step\n",
      "Epoch 4/5\n",
      "37/37 - 8s - loss: 0.4952 - accuracy: 0.7861 - val_loss: 0.7137 - val_accuracy: 0.4932 - 8s/epoch - 210ms/step\n",
      "Epoch 5/5\n",
      "37/37 - 8s - loss: 0.3754 - accuracy: 0.9146 - val_loss: 0.7378 - val_accuracy: 0.4797 - 8s/epoch - 206ms/step\n"
     ]
    },
    {
     "data": {
      "text/plain": [
       "<keras.callbacks.History at 0x21e86eb0640>"
      ]
     },
     "execution_count": 91,
     "metadata": {},
     "output_type": "execute_result"
    }
   ],
   "source": [
    "model_cnn_03 = Sequential()\n",
    "e = Embedding(100000, 200, weights=[embedding_matrix], input_length=len(length) + 10, trainable=True)\n",
    "model_cnn_03.add(e)\n",
    "model_cnn_03.add(Conv1D(filters=100, kernel_size=2, padding='valid', activation='relu', strides=1))\n",
    "model_cnn_03.add(GlobalMaxPooling1D())\n",
    "model_cnn_03.add(Dense(256, activation='relu'))\n",
    "model_cnn_03.add(Dense(1, activation='sigmoid'))\n",
    "model_cnn_03.compile(loss='binary_crossentropy', optimizer='adam', metrics=['accuracy'])\n",
    "model_cnn_03.fit(x_train_seq, y_train, validation_data=(x_test_seq, y_test), epochs=5, batch_size=32, verbose=2)"
   ]
  },
  {
   "cell_type": "code",
   "execution_count": 92,
   "id": "843a6608",
   "metadata": {
    "ExecuteTime": {
     "end_time": "2021-11-10T07:28:59.263291Z",
     "start_time": "2021-11-10T07:28:59.075633Z"
    }
   },
   "outputs": [
    {
     "name": "stdout",
     "output_type": "stream",
     "text": [
      "Model: \"model\"\n",
      "__________________________________________________________________________________________________\n",
      " Layer (type)                   Output Shape         Param #     Connected to                     \n",
      "==================================================================================================\n",
      " input_1 (InputLayer)           [(None, 1193)]       0           []                               \n",
      "                                                                                                  \n",
      " embedding_9 (Embedding)        (None, 1193, 200)    20000000    ['input_1[0][0]']                \n",
      "                                                                                                  \n",
      " conv1d_5 (Conv1D)              (None, 1192, 100)    40100       ['embedding_9[0][0]']            \n",
      "                                                                                                  \n",
      " conv1d_6 (Conv1D)              (None, 1191, 100)    60100       ['embedding_9[0][0]']            \n",
      "                                                                                                  \n",
      " conv1d_7 (Conv1D)              (None, 1190, 100)    80100       ['embedding_9[0][0]']            \n",
      "                                                                                                  \n",
      " global_max_pooling1d_4 (Global  (None, 100)         0           ['conv1d_5[0][0]']               \n",
      " MaxPooling1D)                                                                                    \n",
      "                                                                                                  \n",
      " global_max_pooling1d_5 (Global  (None, 100)         0           ['conv1d_6[0][0]']               \n",
      " MaxPooling1D)                                                                                    \n",
      "                                                                                                  \n",
      " global_max_pooling1d_6 (Global  (None, 100)         0           ['conv1d_7[0][0]']               \n",
      " MaxPooling1D)                                                                                    \n",
      "                                                                                                  \n",
      " concatenate (Concatenate)      (None, 300)          0           ['global_max_pooling1d_4[0][0]', \n",
      "                                                                  'global_max_pooling1d_5[0][0]', \n",
      "                                                                  'global_max_pooling1d_6[0][0]'] \n",
      "                                                                                                  \n",
      " dense_14 (Dense)               (None, 256)          77056       ['concatenate[0][0]']            \n",
      "                                                                                                  \n",
      " dropout (Dropout)              (None, 256)          0           ['dense_14[0][0]']               \n",
      "                                                                                                  \n",
      " dense_15 (Dense)               (None, 1)            257         ['dropout[0][0]']                \n",
      "                                                                                                  \n",
      " activation (Activation)        (None, 1)            0           ['dense_15[0][0]']               \n",
      "                                                                                                  \n",
      "==================================================================================================\n",
      "Total params: 20,257,613\n",
      "Trainable params: 20,257,613\n",
      "Non-trainable params: 0\n",
      "__________________________________________________________________________________________________\n"
     ]
    }
   ],
   "source": [
    "tweet_input = Input(shape=(len(length) + 10,), dtype='int32')\n",
    "\n",
    "tweet_encoder = Embedding(100000, 200, weights=[embedding_matrix], input_length=len(length) + 10, trainable=True)(\n",
    "    tweet_input)\n",
    "bigram_branch = Conv1D(filters=100, kernel_size=2, padding='valid', activation='relu', strides=1)(tweet_encoder)\n",
    "bigram_branch = GlobalMaxPooling1D()(bigram_branch)\n",
    "trigram_branch = Conv1D(filters=100, kernel_size=3, padding='valid', activation='relu', strides=1)(tweet_encoder)\n",
    "trigram_branch = GlobalMaxPooling1D()(trigram_branch)\n",
    "fourgram_branch = Conv1D(filters=100, kernel_size=4, padding='valid', activation='relu', strides=1)(tweet_encoder)\n",
    "fourgram_branch = GlobalMaxPooling1D()(fourgram_branch)\n",
    "merged = concatenate([bigram_branch, trigram_branch, fourgram_branch], axis=1)\n",
    "\n",
    "merged = Dense(256, activation='relu')(merged)\n",
    "merged = Dropout(0.2)(merged)\n",
    "merged = Dense(1)(merged)\n",
    "output = Activation('sigmoid')(merged)\n",
    "model = Model(inputs=[tweet_input], outputs=[output])\n",
    "model.compile(loss='binary_crossentropy',\n",
    "              optimizer='adam',\n",
    "              metrics=['accuracy'])\n",
    "model.summary()"
   ]
  },
  {
   "cell_type": "code",
   "execution_count": 93,
   "id": "1195df98",
   "metadata": {
    "ExecuteTime": {
     "end_time": "2021-11-10T07:30:06.741964Z",
     "start_time": "2021-11-10T07:28:59.264284Z"
    }
   },
   "outputs": [
    {
     "name": "stdout",
     "output_type": "stream",
     "text": [
      "Epoch 1/5\n",
      "37/37 [==============================] - ETA: 0s - loss: 1.0906 - accuracy: 0.5266\n",
      "Epoch 00001: val_accuracy improved from -inf to 0.55743, saving model to CNN_best_weights.01-0.5574.hdf5\n",
      "37/37 [==============================] - 14s 376ms/step - loss: 1.0906 - accuracy: 0.5266 - val_loss: 0.6924 - val_accuracy: 0.5574\n",
      "Epoch 2/5\n",
      "37/37 [==============================] - ETA: 0s - loss: 0.6195 - accuracy: 0.6610\n",
      "Epoch 00002: val_accuracy did not improve from 0.55743\n",
      "37/37 [==============================] - 13s 359ms/step - loss: 0.6195 - accuracy: 0.6610 - val_loss: 0.7033 - val_accuracy: 0.5203\n",
      "Epoch 3/5\n",
      "37/37 [==============================] - ETA: 0s - loss: 0.4822 - accuracy: 0.8014\n",
      "Epoch 00003: val_accuracy did not improve from 0.55743\n",
      "37/37 [==============================] - 13s 358ms/step - loss: 0.4822 - accuracy: 0.8014 - val_loss: 0.7134 - val_accuracy: 0.5372\n",
      "Epoch 4/5\n",
      "37/37 [==============================] - ETA: 0s - loss: 0.3991 - accuracy: 0.8301\n",
      "Epoch 00004: val_accuracy did not improve from 0.55743\n",
      "37/37 [==============================] - 13s 359ms/step - loss: 0.3991 - accuracy: 0.8301 - val_loss: 0.7293 - val_accuracy: 0.5236\n",
      "Epoch 5/5\n",
      "37/37 [==============================] - ETA: 0s - loss: 0.2487 - accuracy: 0.9611\n",
      "Epoch 00005: val_accuracy did not improve from 0.55743\n",
      "37/37 [==============================] - 13s 358ms/step - loss: 0.2487 - accuracy: 0.9611 - val_loss: 0.7408 - val_accuracy: 0.5338\n"
     ]
    },
    {
     "data": {
      "text/plain": [
       "<keras.callbacks.History at 0x21e939ff2e0>"
      ]
     },
     "execution_count": 93,
     "metadata": {},
     "output_type": "execute_result"
    }
   ],
   "source": [
    "from keras.callbacks import ModelCheckpoint\n",
    "\n",
    "filepath = \"CNN_best_weights.{epoch:02d}-{val_accuracy:.4f}.hdf5\"\n",
    "checkpoint = ModelCheckpoint(filepath, monitor='val_accuracy', verbose=1, save_best_only=True, mode='max')\n",
    "\n",
    "model.fit(x_train_seq, y_train, batch_size=32, epochs=5,\n",
    "          validation_data=(x_test_seq, y_test), callbacks=[checkpoint])"
   ]
  },
  {
   "cell_type": "code",
   "execution_count": 94,
   "id": "e7b5da7f",
   "metadata": {
    "ExecuteTime": {
     "end_time": "2021-11-10T07:30:22.395450Z",
     "start_time": "2021-11-10T07:30:21.574597Z"
    }
   },
   "outputs": [
    {
     "name": "stdout",
     "output_type": "stream",
     "text": [
      "10/10 [==============================] - 0s 36ms/step - loss: 0.6924 - accuracy: 0.5574\n"
     ]
    },
    {
     "data": {
      "text/plain": [
       "[0.6924123167991638, 0.5574324131011963]"
      ]
     },
     "execution_count": 94,
     "metadata": {},
     "output_type": "execute_result"
    }
   ],
   "source": [
    "loaded_CNN_model = load_model('CNN_best_weights.01-0.5574.hdf5')\n",
    "loaded_CNN_model.evaluate(x=x_test_seq, y=y_test)"
   ]
  },
  {
   "cell_type": "code",
   "execution_count": 95,
   "id": "833c94c8",
   "metadata": {
    "ExecuteTime": {
     "end_time": "2021-11-10T07:30:45.393281Z",
     "start_time": "2021-11-10T07:30:25.071291Z"
    }
   },
   "outputs": [
    {
     "data": {
      "text/plain": [
       "TfidfVectorizer(max_features=100000, ngram_range=(1, 3))"
      ]
     },
     "execution_count": 95,
     "metadata": {},
     "output_type": "execute_result"
    }
   ],
   "source": [
    "tvec = TfidfVectorizer(max_features=100000, ngram_range=(1, 3))\n",
    "tvec.fit(x_train)"
   ]
  },
  {
   "cell_type": "code",
   "execution_count": 96,
   "id": "358624f7",
   "metadata": {
    "ExecuteTime": {
     "end_time": "2021-11-10T07:30:56.993883Z",
     "start_time": "2021-11-10T07:30:45.395269Z"
    }
   },
   "outputs": [],
   "source": [
    "x_train_tfidf = tvec.transform(x_train)\n",
    "x_test_tfidf = tvec.transform(x_test)"
   ]
  },
  {
   "cell_type": "code",
   "execution_count": 97,
   "id": "9b654995",
   "metadata": {
    "ExecuteTime": {
     "end_time": "2021-11-10T07:30:57.780787Z",
     "start_time": "2021-11-10T07:30:56.995871Z"
    }
   },
   "outputs": [
    {
     "data": {
      "text/plain": [
       "LogisticRegression()"
      ]
     },
     "execution_count": 97,
     "metadata": {},
     "output_type": "execute_result"
    }
   ],
   "source": [
    "lr_with_tfidf = LogisticRegression()\n",
    "lr_with_tfidf.fit(x_train_tfidf, y_train)"
   ]
  },
  {
   "cell_type": "code",
   "execution_count": 98,
   "id": "cd069bf5",
   "metadata": {
    "ExecuteTime": {
     "end_time": "2021-11-10T07:30:57.796810Z",
     "start_time": "2021-11-10T07:30:57.782787Z"
    }
   },
   "outputs": [
    {
     "data": {
      "text/plain": [
       "0.5168918918918919"
      ]
     },
     "execution_count": 98,
     "metadata": {},
     "output_type": "execute_result"
    }
   ],
   "source": [
    "lr_with_tfidf.score(x_test_tfidf, y_test)"
   ]
  },
  {
   "cell_type": "code",
   "execution_count": 99,
   "id": "6a9b2074",
   "metadata": {
    "ExecuteTime": {
     "end_time": "2021-11-10T07:30:57.812828Z",
     "start_time": "2021-11-10T07:30:57.798791Z"
    }
   },
   "outputs": [],
   "source": [
    "yhat_lr = lr_with_tfidf.predict_proba(x_test_tfidf)"
   ]
  },
  {
   "cell_type": "code",
   "execution_count": 100,
   "id": "b12345c4",
   "metadata": {
    "ExecuteTime": {
     "end_time": "2021-11-10T07:30:58.313374Z",
     "start_time": "2021-11-10T07:30:57.814816Z"
    }
   },
   "outputs": [],
   "source": [
    "sequences_test = tokenizer.texts_to_sequences(x_test)\n",
    "x_test_seq = pad_sequences(sequences_test, maxlen=len(length) + 10)"
   ]
  },
  {
   "cell_type": "code",
   "execution_count": 101,
   "id": "a6b444a6",
   "metadata": {
    "ExecuteTime": {
     "end_time": "2021-11-10T07:30:58.739747Z",
     "start_time": "2021-11-10T07:30:58.314374Z"
    }
   },
   "outputs": [
    {
     "name": "stdout",
     "output_type": "stream",
     "text": [
      "10/10 [==============================] - 0s 37ms/step - loss: 0.6924 - accuracy: 0.5574\n"
     ]
    },
    {
     "data": {
      "text/plain": [
       "[0.6924123167991638, 0.5574324131011963]"
      ]
     },
     "execution_count": 101,
     "metadata": {},
     "output_type": "execute_result"
    }
   ],
   "source": [
    "loaded_CNN_model.evaluate(x=x_test_seq, y=y_test)"
   ]
  },
  {
   "cell_type": "code",
   "execution_count": 102,
   "id": "f41558fb",
   "metadata": {
    "ExecuteTime": {
     "end_time": "2021-11-10T07:30:59.229594Z",
     "start_time": "2021-11-10T07:30:58.741746Z"
    }
   },
   "outputs": [],
   "source": [
    "yhat_cnn = loaded_CNN_model.predict(x_test_seq)"
   ]
  },
  {
   "cell_type": "code",
   "execution_count": 103,
   "id": "96313682",
   "metadata": {
    "ExecuteTime": {
     "end_time": "2021-11-10T07:30:59.420725Z",
     "start_time": "2021-11-10T07:30:59.231595Z"
    }
   },
   "outputs": [
    {
     "data": {
      "image/png": "[encoded data removed]",
      "text/plain": [
       "<Figure size 576x504 with 1 Axes>"
      ]
     },
     "metadata": {
      "needs_background": "light"
     },
     "output_type": "display_data"
    }
   ],
   "source": [
    "from sklearn.metrics import roc_curve, auc\n",
    "\n",
    "fpr, tpr, threshold = roc_curve(y_test, yhat_lr[:, 1])\n",
    "roc_auc = auc(fpr, tpr)\n",
    "fpr_cnn, tpr_cnn, threshold = roc_curve(y_test, yhat_cnn)\n",
    "roc_auc_nn = auc(fpr_cnn, tpr_cnn)\n",
    "plt.figure(figsize=(8, 7))\n",
    "plt.plot(fpr, tpr, label='tfidf-logit (area = %0.3f)' % roc_auc, linewidth=2)\n",
    "plt.plot(fpr_cnn, tpr_cnn, label='w2v-CNN (area = %0.3f)' % roc_auc_nn, linewidth=2)\n",
    "\n",
    "plt.plot([0, 1], [0, 1], 'k--', linewidth=2)\n",
    "plt.xlim([-0.05, 1.0])\n",
    "plt.ylim([-0.05, 1.05])\n",
    "plt.xlabel('False Positive Rate', fontsize=18)\n",
    "plt.ylabel('True Positive Rate', fontsize=18)\n",
    "plt.title('Receiver operating characteristic: is positive', fontsize=18)\n",
    "plt.legend(loc=\"lower right\")\n",
    "plt.show()"
   ]
  },
  {
   "cell_type": "markdown",
   "id": "1359c587",
   "metadata": {},
   "source": [
    "### SPY: I"
   ]
  },
  {
   "cell_type": "code",
   "execution_count": 105,
   "id": "47fd340d",
   "metadata": {
    "ExecuteTime": {
     "end_time": "2021-11-10T07:45:41.037348Z",
     "start_time": "2021-11-10T07:45:41.013356Z"
    }
   },
   "outputs": [
    {
     "name": "stdout",
     "output_type": "stream",
     "text": [
      "Train set has total 1183 entries with 45.31% negative, 54.69% positive\n",
      "Test set has total 296 entries with 49.66% negative, 50.34% positive\n"
     ]
    }
   ],
   "source": [
    "x = df_speech['full_text']\n",
    "y = df_speech['SPY']\n",
    "SEED = 2000\n",
    "x_train, x_test, y_train, y_test = train_test_split(x, y, test_size=.2, random_state=SEED)\n",
    "set_des(x_train, x_test, y_train, y_test)"
   ]
  },
  {
   "cell_type": "code",
   "execution_count": 106,
   "id": "ebfcdb24",
   "metadata": {
    "ExecuteTime": {
     "end_time": "2021-11-10T07:45:41.799192Z",
     "start_time": "2021-11-10T07:45:41.793208Z"
    }
   },
   "outputs": [],
   "source": [
    "def labelize_ug(tweets, label):\n",
    "    result = []\n",
    "    prefix = label\n",
    "    for i, t in zip(tweets.index, tweets):\n",
    "        result.append(TaggedDocument(t.split(), [prefix + '_%s' % i]))\n",
    "    return result"
   ]
  },
  {
   "cell_type": "code",
   "execution_count": 107,
   "id": "2cf541c5",
   "metadata": {
    "ExecuteTime": {
     "end_time": "2021-11-10T07:45:42.683856Z",
     "start_time": "2021-11-10T07:45:42.312763Z"
    }
   },
   "outputs": [],
   "source": [
    "all_x_w2v = labelize_ug(x, 'all')"
   ]
  },
  {
   "cell_type": "code",
   "execution_count": 108,
   "id": "f47f8af7",
   "metadata": {
    "ExecuteTime": {
     "end_time": "2021-11-10T07:45:43.874362Z",
     "start_time": "2021-11-10T07:45:42.685849Z"
    }
   },
   "outputs": [
    {
     "name": "stderr",
     "output_type": "stream",
     "text": [
      "100%|█████████████████████████████████████████████████████████████████████████| 1479/1479 [00:00<00:00, 1482996.80it/s]\n"
     ]
    }
   ],
   "source": [
    "model_ug_cbow = Word2Vec(sg=0, negative=5, window=2, min_count=2, workers=16, alpha=0.065, min_alpha=0.065)\n",
    "model_ug_cbow.build_vocab([x.words for x in tqdm(all_x_w2v)])"
   ]
  },
  {
   "cell_type": "code",
   "execution_count": 109,
   "id": "f5832215",
   "metadata": {
    "ExecuteTime": {
     "end_time": "2021-11-10T07:46:36.482606Z",
     "start_time": "2021-11-10T07:45:43.876365Z"
    }
   },
   "outputs": [
    {
     "name": "stderr",
     "output_type": "stream",
     "text": [
      "100%|█████████████████████████████████████████████████████████████████████████| 1479/1479 [00:00<00:00, 1479459.96it/s]\n",
      "100%|█████████████████████████████████████████████████████████████████████████| 1479/1479 [00:00<00:00, 1491913.33it/s]\n",
      "100%|██████████████████████████████████████████████████████████████████████████████████████| 1479/1479 [00:00<?, ?it/s]\n",
      "100%|██████████████████████████████████████████████████████████████████████████████████████| 1479/1479 [00:00<?, ?it/s]\n",
      "100%|█████████████████████████████████████████████████████████████████████████| 1479/1479 [00:00<00:00, 1476291.20it/s]\n",
      "100%|█████████████████████████████████████████████████████████████████████████| 1479/1479 [00:00<00:00, 1480165.98it/s]\n",
      "100%|██████████████████████████████████████████████████████████████████████████████████████| 1479/1479 [00:00<?, ?it/s]\n",
      "100%|██████████████████████████████████████████████████████████████████████████████████████| 1479/1479 [00:00<?, ?it/s]\n",
      "100%|█████████████████████████████████████████████████████████████████████████| 1479/1479 [00:00<00:00, 1500574.65it/s]\n",
      "100%|██████████████████████████████████████████████████████████████████████████████████████| 1479/1479 [00:00<?, ?it/s]\n",
      "100%|█████████████████████████████████████████████████████████████████████████| 1479/1479 [00:00<00:00, 1481226.27it/s]\n",
      "100%|█████████████████████████████████████████████████████████████████████████| 1479/1479 [00:00<00:00, 1481933.97it/s]\n",
      "100%|██████████████████████████████████████████████████████████████████████████████████████| 1479/1479 [00:00<?, ?it/s]\n",
      "100%|██████████████████████████████████████████████████████████████████████████████████████| 1479/1479 [00:00<?, ?it/s]\n",
      "100%|█████████████████████████████████████████████████████████████████████████| 1479/1479 [00:00<00:00, 1478754.62it/s]\n",
      "100%|██████████████████████████████████████████████████████████████████████████████████████| 1479/1479 [00:00<?, ?it/s]\n",
      "100%|█████████████████████████████████████████████████████████████████████████| 1479/1479 [00:00<00:00, 1472436.65it/s]\n",
      "100%|█████████████████████████████████████████████████████████████████████████| 1479/1479 [00:00<00:00, 1476994.19it/s]\n",
      "100%|█████████████████████████████████████████████████████████████████████████| 1479/1479 [00:00<00:00, 1489048.40it/s]\n",
      "100%|██████████████████████████████████████████████████████████████████████████████████████| 1479/1479 [00:00<?, ?it/s]\n",
      "100%|██████████████████████████████████████████████████████████████████████████████████████| 1479/1479 [00:00<?, ?it/s]\n",
      "100%|██████████████████████████████████████████████████████████████████████████████████████| 1479/1479 [00:00<?, ?it/s]\n",
      "100%|██████████████████████████████████████████████████████████████████████████████████████| 1479/1479 [00:00<?, ?it/s]\n",
      "100%|█████████████████████████████████████████████████████████████████████████| 1479/1479 [00:00<00:00, 1487976.88it/s]\n",
      "100%|██████████████████████████████████████████████████████████████████████████████████████| 1479/1479 [00:00<?, ?it/s]\n",
      "100%|██████████████████████████████████████████████████████████████████████████████████████| 1479/1479 [00:00<?, ?it/s]\n",
      "100%|█████████████████████████████████████████████████████████████████████████| 1479/1479 [00:00<00:00, 1477345.94it/s]\n",
      "100%|█████████████████████████████████████████████████████████████████████████| 1479/1479 [00:00<00:00, 1477697.86it/s]\n",
      "100%|█████████████████████████████████████████████████████████████████████████| 1479/1479 [00:00<00:00, 1475588.87it/s]\n",
      "100%|█████████████████████████████████████████████████████████████████████████| 1479/1479 [00:00<00:00, 1474186.22it/s]\n"
     ]
    },
    {
     "name": "stdout",
     "output_type": "stream",
     "text": [
      "Wall time: 53.6 s\n"
     ]
    }
   ],
   "source": [
    "% % time\n",
    "for epoch in range(30):\n",
    "    model_ug_cbow.train(utils.shuffle([x.words for x in tqdm(all_x_w2v)]), total_examples=len(all_x_w2v), epochs=1)\n",
    "    model_ug_cbow.alpha -= 0.002\n",
    "    model_ug_cbow.min_alpha = model_ug_cbow.alpha"
   ]
  },
  {
   "cell_type": "code",
   "execution_count": 110,
   "id": "2a35911d",
   "metadata": {
    "ExecuteTime": {
     "end_time": "2021-11-10T07:46:37.562997Z",
     "start_time": "2021-11-10T07:46:36.484601Z"
    }
   },
   "outputs": [
    {
     "name": "stderr",
     "output_type": "stream",
     "text": [
      "100%|█████████████████████████████████████████████████████████████████████████| 1479/1479 [00:00<00:00, 1492631.28it/s]\n"
     ]
    }
   ],
   "source": [
    "model_ug_sg = Word2Vec(sg=1, negative=5, window=2, min_count=2, workers=16, alpha=0.065, min_alpha=0.065)\n",
    "model_ug_sg.build_vocab([x.words for x in tqdm(all_x_w2v)])"
   ]
  },
  {
   "cell_type": "code",
   "execution_count": 111,
   "id": "3584dcd8",
   "metadata": {
    "ExecuteTime": {
     "end_time": "2021-11-10T07:47:38.118999Z",
     "start_time": "2021-11-10T07:46:37.565002Z"
    }
   },
   "outputs": [
    {
     "name": "stderr",
     "output_type": "stream",
     "text": [
      "100%|█████████████████████████████████████████████████████████████████████████| 1479/1479 [00:00<00:00, 1478754.62it/s]\n",
      "100%|██████████████████████████████████████████████████████████████████████████████████████| 1479/1479 [00:00<?, ?it/s]\n",
      "100%|█████████████████████████████████████████████████████████████████████████| 1479/1479 [00:00<00:00, 1482642.36it/s]\n",
      "100%|█████████████████████████████████████████████████████████████████████████| 1479/1479 [00:00<00:00, 1476994.19it/s]\n",
      "100%|█████████████████████████████████████████████████████████████████████████| 1479/1479 [00:00<00:00, 1481226.27it/s]\n",
      "100%|██████████████████████████████████████████████████████████████████████████████████████| 1479/1479 [00:00<?, ?it/s]\n",
      "100%|█████████████████████████████████████████████████████████████████████████| 1479/1479 [00:00<00:00, 1484771.57it/s]\n",
      "100%|█████████████████████████████████████████████████████████████████████████| 1479/1479 [00:00<00:00, 1479107.20it/s]\n",
      "100%|█████████████████████████████████████████████████████████████████████████| 1479/1479 [00:00<00:00, 1479812.89it/s]\n",
      "100%|█████████████████████████████████████████████████████████████████████████| 1479/1479 [00:00<00:00, 1480519.24it/s]\n",
      "100%|█████████████████████████████████████████████████████████████████████████| 1479/1479 [00:00<00:00, 1478402.20it/s]\n",
      "100%|██████████████████████████████████████████████████████████████████████████████████████| 1479/1479 [00:00<?, ?it/s]\n",
      "100%|█████████████████████████████████████████████████████████████████████████| 1479/1479 [00:00<00:00, 1477697.86it/s]\n",
      "100%|██████████████████████████████████████████████████████████████████████████████████████| 1479/1479 [00:00<?, ?it/s]\n",
      "100%|█████████████████████████████████████████████████████████████████████████| 1479/1479 [00:00<00:00, 1481933.97it/s]\n",
      "100%|█████████████████████████████████████████████████████████████████████████| 1479/1479 [00:00<00:00, 2863977.66it/s]\n",
      "100%|█████████████████████████████████████████████████████████████████████████| 1479/1479 [00:00<00:00, 1481226.27it/s]\n",
      "100%|██████████████████████████████████████████████████████████████████████████████████████| 1479/1479 [00:00<?, ?it/s]\n",
      "100%|█████████████████████████████████████████████████████████████████████████| 1479/1479 [00:00<00:00, 1478049.94it/s]\n",
      "100%|█████████████████████████████████████████████████████████████████████████| 1479/1479 [00:00<00:00, 1481580.04it/s]\n",
      "100%|█████████████████████████████████████████████████████████████████████████| 1479/1479 [00:00<00:00, 1481580.04it/s]\n",
      "100%|█████████████████████████████████████████████████████████████████████████| 1479/1479 [00:00<00:00, 1482288.08it/s]\n",
      "100%|██████████████████████████████████████████████████████████████████████████████████████| 1479/1479 [00:00<?, ?it/s]\n",
      "100%|█████████████████████████████████████████████████████████████████████████| 1479/1479 [00:00<00:00, 1481226.27it/s]\n",
      "100%|█████████████████████████████████████████████████████████████████████████| 1479/1479 [00:00<00:00, 1491913.33it/s]\n",
      "100%|█████████████████████████████████████████████████████████████████████████| 1479/1479 [00:00<00:00, 1481933.97it/s]\n",
      "100%|█████████████████████████████████████████████████████████████████████████| 1479/1479 [00:00<00:00, 1479459.96it/s]\n",
      "100%|█████████████████████████████████████████████████████████████████████████| 1479/1479 [00:00<00:00, 1481580.04it/s]\n",
      "100%|█████████████████████████████████████████████████████████████████████████| 1479/1479 [00:00<00:00, 1474887.21it/s]\n",
      "100%|█████████████████████████████████████████████████████████████████████████| 1479/1479 [00:00<00:00, 1476642.61it/s]\n"
     ]
    },
    {
     "name": "stdout",
     "output_type": "stream",
     "text": [
      "Wall time: 59.4 s\n"
     ]
    }
   ],
   "source": [
    "% % time\n",
    "for epoch in range(30):\n",
    "    model_ug_sg.train(utils.shuffle([x.words for x in tqdm(all_x_w2v)]), total_examples=len(all_x_w2v), epochs=1)\n",
    "    model_ug_sg.alpha -= 0.002\n",
    "    model_ug_sg.min_alpha = model_ug_sg.alpha"
   ]
  },
  {
   "cell_type": "code",
   "execution_count": 112,
   "id": "d14d3eb6",
   "metadata": {
    "ExecuteTime": {
     "end_time": "2021-11-10T07:47:38.183014Z",
     "start_time": "2021-11-10T07:47:38.120001Z"
    }
   },
   "outputs": [],
   "source": [
    "model_ug_cbow.save('w2v_model_ug_cbow.word2vec')\n",
    "model_ug_sg.save('w2v_model_ug_sg.word2vec')"
   ]
  },
  {
   "cell_type": "code",
   "execution_count": 113,
   "id": "aec2ac9d",
   "metadata": {
    "ExecuteTime": {
     "end_time": "2021-11-10T07:47:38.673253Z",
     "start_time": "2021-11-10T07:47:38.185018Z"
    }
   },
   "outputs": [],
   "source": [
    "model_ug_cbow = KeyedVectors.load('w2v_model_ug_cbow.word2vec')\n",
    "model_ug_sg = KeyedVectors.load('w2v_model_ug_sg.word2vec')"
   ]
  },
  {
   "cell_type": "code",
   "execution_count": 114,
   "id": "187882ee",
   "metadata": {
    "ExecuteTime": {
     "end_time": "2021-11-10T07:47:38.688266Z",
     "start_time": "2021-11-10T07:47:38.674283Z"
    }
   },
   "outputs": [
    {
     "data": {
      "text/plain": [
       "27847"
      ]
     },
     "execution_count": 114,
     "metadata": {},
     "output_type": "execute_result"
    }
   ],
   "source": [
    "len(model_ug_cbow.wv.index_to_key)"
   ]
  },
  {
   "cell_type": "code",
   "execution_count": 115,
   "id": "bf32c47e",
   "metadata": {
    "ExecuteTime": {
     "end_time": "2021-11-10T07:47:38.891397Z",
     "start_time": "2021-11-10T07:47:38.689270Z"
    }
   },
   "outputs": [
    {
     "name": "stdout",
     "output_type": "stream",
     "text": [
      "Found 27847 word vectors.\n"
     ]
    }
   ],
   "source": [
    "embeddings_index = {}\n",
    "for w in model_ug_cbow.wv.index_to_key:\n",
    "    embeddings_index[w] = np.append(model_ug_cbow.wv[w], model_ug_sg.wv[w])\n",
    "print('Found %s word vectors.' % len(embeddings_index))"
   ]
  },
  {
   "cell_type": "code",
   "execution_count": 116,
   "id": "59838497",
   "metadata": {
    "ExecuteTime": {
     "end_time": "2021-11-10T07:47:43.719976Z",
     "start_time": "2021-11-10T07:47:38.893392Z"
    }
   },
   "outputs": [],
   "source": [
    "tokenizer = Tokenizer(num_words=100000)\n",
    "tokenizer.fit_on_texts(x_train)\n",
    "sequences = tokenizer.texts_to_sequences(x_train)"
   ]
  },
  {
   "cell_type": "code",
   "execution_count": 117,
   "id": "2a594ff5",
   "metadata": {
    "ExecuteTime": {
     "end_time": "2021-11-10T07:47:43.735977Z",
     "start_time": "2021-11-10T07:47:43.721973Z"
    }
   },
   "outputs": [
    {
     "data": {
      "text/plain": [
       "27401"
      ]
     },
     "execution_count": 117,
     "metadata": {},
     "output_type": "execute_result"
    }
   ],
   "source": [
    "len(tokenizer.word_index)"
   ]
  },
  {
   "cell_type": "code",
   "execution_count": 118,
   "id": "9188b20f",
   "metadata": {
    "ExecuteTime": {
     "end_time": "2021-11-10T07:47:44.067645Z",
     "start_time": "2021-11-10T07:47:43.736976Z"
    }
   },
   "outputs": [],
   "source": [
    "length = []\n",
    "for x in x_train:\n",
    "    length.append(len(x.split()))"
   ]
  },
  {
   "cell_type": "code",
   "execution_count": 119,
   "id": "e031d5c1",
   "metadata": {
    "ExecuteTime": {
     "end_time": "2021-11-10T07:47:44.131656Z",
     "start_time": "2021-11-10T07:47:44.068644Z"
    }
   },
   "outputs": [
    {
     "name": "stdout",
     "output_type": "stream",
     "text": [
      "Shape of data tensor: (1183, 1193)\n"
     ]
    }
   ],
   "source": [
    "x_train_seq = pad_sequences(sequences, maxlen=len(length) + 10)\n",
    "print('Shape of data tensor:', x_train_seq.shape)"
   ]
  },
  {
   "cell_type": "code",
   "execution_count": 120,
   "id": "1b7dbba5",
   "metadata": {
    "ExecuteTime": {
     "end_time": "2021-11-10T07:47:44.765611Z",
     "start_time": "2021-11-10T07:47:44.132659Z"
    }
   },
   "outputs": [],
   "source": [
    "sequences_val = tokenizer.texts_to_sequences(x_test)\n",
    "x_test_seq = pad_sequences(sequences_val, maxlen=len(length) + 10)"
   ]
  },
  {
   "cell_type": "code",
   "execution_count": 121,
   "id": "87ab2e58",
   "metadata": {
    "ExecuteTime": {
     "end_time": "2021-11-10T07:47:44.813614Z",
     "start_time": "2021-11-10T07:47:44.766605Z"
    }
   },
   "outputs": [],
   "source": [
    "num_words = 100000\n",
    "embedding_matrix = np.zeros((num_words, 200))\n",
    "for word, i in tokenizer.word_index.items():\n",
    "    if i >= num_words:\n",
    "        continue\n",
    "    embedding_vector = embeddings_index.get(word)\n",
    "    if embedding_vector is not None:\n",
    "        embedding_matrix[i] = embedding_vector"
   ]
  },
  {
   "cell_type": "code",
   "execution_count": 122,
   "id": "f4f53461",
   "metadata": {
    "ExecuteTime": {
     "end_time": "2021-11-10T07:48:35.117622Z",
     "start_time": "2021-11-10T07:47:44.814615Z"
    }
   },
   "outputs": [
    {
     "name": "stdout",
     "output_type": "stream",
     "text": [
      "Epoch 1/5\n",
      "37/37 - 7s - loss: 1.5337 - accuracy: 0.5063 - val_loss: 0.6915 - val_accuracy: 0.5034 - 7s/epoch - 202ms/step\n",
      "Epoch 2/5\n",
      "37/37 - 7s - loss: 0.4884 - accuracy: 0.6965 - val_loss: 0.7190 - val_accuracy: 0.5101 - 7s/epoch - 187ms/step\n",
      "Epoch 3/5\n",
      "37/37 - 7s - loss: 0.3084 - accuracy: 0.8284 - val_loss: 0.9311 - val_accuracy: 0.5135 - 7s/epoch - 188ms/step\n",
      "Epoch 4/5\n",
      "37/37 - 7s - loss: 0.0535 - accuracy: 0.9865 - val_loss: 0.8876 - val_accuracy: 0.4932 - 7s/epoch - 188ms/step\n",
      "Epoch 5/5\n",
      "37/37 - 7s - loss: 0.0101 - accuracy: 0.9983 - val_loss: 0.9386 - val_accuracy: 0.5135 - 7s/epoch - 179ms/step\n"
     ]
    },
    {
     "data": {
      "text/plain": [
       "<keras.callbacks.History at 0x21e4e461520>"
      ]
     },
     "execution_count": 122,
     "metadata": {},
     "output_type": "execute_result"
    }
   ],
   "source": [
    "model_ptw2v = Sequential()\n",
    "e = Embedding(100000, 200, weights=[embedding_matrix], input_length=len(length) + 10, trainable=False)\n",
    "model_ptw2v.add(e)\n",
    "model_ptw2v.add(Flatten())\n",
    "model_ptw2v.add(Dense(256, activation='relu'))\n",
    "model_ptw2v.add(Dense(1, activation='sigmoid'))\n",
    "model_ptw2v.compile(loss='binary_crossentropy', optimizer='adam', metrics=['accuracy'])\n",
    "model_ptw2v.fit(x_train_seq, y_train, validation_data=(x_test_seq, y_test), epochs=5, batch_size=32, verbose=2)"
   ]
  },
  {
   "cell_type": "code",
   "execution_count": 123,
   "id": "51d54454",
   "metadata": {
    "ExecuteTime": {
     "end_time": "2021-11-10T07:49:49.158773Z",
     "start_time": "2021-11-10T07:48:35.119626Z"
    }
   },
   "outputs": [
    {
     "name": "stdout",
     "output_type": "stream",
     "text": [
      "Epoch 1/5\n",
      "37/37 - 13s - loss: 0.7190 - accuracy: 0.5165 - val_loss: 0.7045 - val_accuracy: 0.5034 - 13s/epoch - 340ms/step\n",
      "Epoch 2/5\n",
      "37/37 - 12s - loss: 0.1728 - accuracy: 0.9730 - val_loss: 0.8561 - val_accuracy: 0.5034 - 12s/epoch - 318ms/step\n",
      "Epoch 3/5\n",
      "37/37 - 12s - loss: 0.0471 - accuracy: 0.9932 - val_loss: 0.8552 - val_accuracy: 0.5169 - 12s/epoch - 315ms/step\n",
      "Epoch 4/5\n",
      "37/37 - 12s - loss: 0.0158 - accuracy: 0.9966 - val_loss: 0.8610 - val_accuracy: 0.5338 - 12s/epoch - 320ms/step\n",
      "Epoch 5/5\n",
      "37/37 - 12s - loss: 0.0174 - accuracy: 0.9975 - val_loss: 0.8503 - val_accuracy: 0.5270 - 12s/epoch - 316ms/step\n"
     ]
    },
    {
     "data": {
      "text/plain": [
       "<keras.callbacks.History at 0x21e419bb3a0>"
      ]
     },
     "execution_count": 123,
     "metadata": {},
     "output_type": "execute_result"
    }
   ],
   "source": [
    "model_ptw2v = Sequential()\n",
    "e = Embedding(100000, 200, input_length=len(length) + 10)\n",
    "model_ptw2v.add(e)\n",
    "model_ptw2v.add(Flatten())\n",
    "model_ptw2v.add(Dense(256, activation='relu'))\n",
    "model_ptw2v.add(Dense(1, activation='sigmoid'))\n",
    "model_ptw2v.compile(loss='binary_crossentropy', optimizer='adam', metrics=['accuracy'])\n",
    "model_ptw2v.fit(x_train_seq, y_train, validation_data=(x_test_seq, y_test), epochs=5, batch_size=32, verbose=2)"
   ]
  },
  {
   "cell_type": "code",
   "execution_count": 124,
   "id": "edf664b0",
   "metadata": {
    "ExecuteTime": {
     "end_time": "2021-11-10T07:51:04.572036Z",
     "start_time": "2021-11-10T07:49:49.159772Z"
    }
   },
   "outputs": [
    {
     "name": "stdout",
     "output_type": "stream",
     "text": [
      "Epoch 1/5\n",
      "37/37 - 14s - loss: 2.3511 - accuracy: 0.5292 - val_loss: 0.7001 - val_accuracy: 0.5000 - 14s/epoch - 377ms/step\n",
      "Epoch 2/5\n",
      "37/37 - 12s - loss: 0.6172 - accuracy: 0.6078 - val_loss: 0.7053 - val_accuracy: 0.5000 - 12s/epoch - 337ms/step\n",
      "Epoch 3/5\n",
      "37/37 - 13s - loss: 0.5995 - accuracy: 0.6095 - val_loss: 0.6943 - val_accuracy: 0.5034 - 13s/epoch - 338ms/step\n",
      "Epoch 4/5\n",
      "37/37 - 12s - loss: 0.5763 - accuracy: 0.6340 - val_loss: 0.7035 - val_accuracy: 0.5000 - 12s/epoch - 335ms/step\n",
      "Epoch 5/5\n",
      "37/37 - 12s - loss: 0.5632 - accuracy: 0.6534 - val_loss: 0.7045 - val_accuracy: 0.5000 - 12s/epoch - 333ms/step\n"
     ]
    },
    {
     "data": {
      "text/plain": [
       "<keras.callbacks.History at 0x21e4df6e8b0>"
      ]
     },
     "execution_count": 124,
     "metadata": {},
     "output_type": "execute_result"
    }
   ],
   "source": [
    "model_ptw2v = Sequential()\n",
    "e = Embedding(100000, 200, weights=[embedding_matrix], input_length=len(length) + 10, trainable=True)\n",
    "model_ptw2v.add(e)\n",
    "model_ptw2v.add(Flatten())\n",
    "model_ptw2v.add(Dense(256, activation='relu'))\n",
    "model_ptw2v.add(Dense(1, activation='sigmoid'))\n",
    "model_ptw2v.compile(loss='binary_crossentropy', optimizer='adam', metrics=['accuracy'])\n",
    "model_ptw2v.fit(x_train_seq, y_train, validation_data=(x_test_seq, y_test), epochs=5, batch_size=32, verbose=2)"
   ]
  },
  {
   "cell_type": "markdown",
   "id": "2831c8b5",
   "metadata": {
    "ExecuteTime": {
     "end_time": "2021-11-10T07:33:40.547840Z",
     "start_time": "2021-11-10T07:33:40.536834Z"
    }
   },
   "source": [
    "### SPY: II"
   ]
  },
  {
   "cell_type": "code",
   "execution_count": 125,
   "id": "c6817aac",
   "metadata": {
    "ExecuteTime": {
     "end_time": "2021-11-10T07:51:04.684058Z",
     "start_time": "2021-11-10T07:51:04.574037Z"
    }
   },
   "outputs": [
    {
     "name": "stdout",
     "output_type": "stream",
     "text": [
      "Model: \"sequential_12\"\n",
      "_________________________________________________________________\n",
      " Layer (type)                Output Shape              Param #   \n",
      "=================================================================\n",
      " embedding_13 (Embedding)    (None, 1193, 200)         20000000  \n",
      "                                                                 \n",
      " conv1d_8 (Conv1D)           (None, 1192, 100)         40100     \n",
      "                                                                 \n",
      "=================================================================\n",
      "Total params: 20,040,100\n",
      "Trainable params: 20,040,100\n",
      "Non-trainable params: 0\n",
      "_________________________________________________________________\n"
     ]
    }
   ],
   "source": [
    "structure_test = Sequential()\n",
    "e = Embedding(100000, 200, input_length=len(length) + 10)\n",
    "structure_test.add(e)\n",
    "structure_test.add(Conv1D(filters=100, kernel_size=2, padding='valid', activation='relu', strides=1))\n",
    "structure_test.summary()"
   ]
  },
  {
   "cell_type": "code",
   "execution_count": 126,
   "id": "c86459ba",
   "metadata": {
    "ExecuteTime": {
     "end_time": "2021-11-10T07:51:04.793950Z",
     "start_time": "2021-11-10T07:51:04.685063Z"
    }
   },
   "outputs": [
    {
     "name": "stdout",
     "output_type": "stream",
     "text": [
      "Model: \"sequential_13\"\n",
      "_________________________________________________________________\n",
      " Layer (type)                Output Shape              Param #   \n",
      "=================================================================\n",
      " embedding_14 (Embedding)    (None, 45, 200)           20000000  \n",
      "                                                                 \n",
      " conv1d_9 (Conv1D)           (None, 44, 100)           40100     \n",
      "                                                                 \n",
      " global_max_pooling1d_7 (Glo  (None, 100)              0         \n",
      " balMaxPooling1D)                                                \n",
      "                                                                 \n",
      "=================================================================\n",
      "Total params: 20,040,100\n",
      "Trainable params: 20,040,100\n",
      "Non-trainable params: 0\n",
      "_________________________________________________________________\n"
     ]
    }
   ],
   "source": [
    "structure_test = Sequential()\n",
    "e = Embedding(100000, 200, input_length=45)\n",
    "structure_test.add(e)\n",
    "structure_test.add(Conv1D(filters=100, kernel_size=2, padding='valid', activation='relu', strides=1))\n",
    "structure_test.add(GlobalMaxPooling1D())\n",
    "structure_test.summary()"
   ]
  },
  {
   "cell_type": "code",
   "execution_count": 127,
   "id": "9a8ef33e",
   "metadata": {
    "ExecuteTime": {
     "end_time": "2021-11-10T07:51:21.465083Z",
     "start_time": "2021-11-10T07:51:04.794950Z"
    }
   },
   "outputs": [
    {
     "name": "stdout",
     "output_type": "stream",
     "text": [
      "Epoch 1/5\n",
      "37/37 - 3s - loss: 0.7742 - accuracy: 0.5275 - val_loss: 0.8195 - val_accuracy: 0.4966 - 3s/epoch - 73ms/step\n",
      "Epoch 2/5\n",
      "37/37 - 2s - loss: 0.6979 - accuracy: 0.5469 - val_loss: 0.7155 - val_accuracy: 0.4696 - 2s/epoch - 60ms/step\n",
      "Epoch 3/5\n",
      "37/37 - 2s - loss: 0.6068 - accuracy: 0.6999 - val_loss: 0.8708 - val_accuracy: 0.5034 - 2s/epoch - 60ms/step\n",
      "Epoch 4/5\n",
      "37/37 - 2s - loss: 0.5553 - accuracy: 0.7498 - val_loss: 0.7287 - val_accuracy: 0.4865 - 2s/epoch - 59ms/step\n",
      "Epoch 5/5\n",
      "37/37 - 2s - loss: 0.4758 - accuracy: 0.8123 - val_loss: 0.9516 - val_accuracy: 0.5068 - 2s/epoch - 60ms/step\n"
     ]
    },
    {
     "data": {
      "text/plain": [
       "<keras.callbacks.History at 0x21e57c627c0>"
      ]
     },
     "execution_count": 127,
     "metadata": {},
     "output_type": "execute_result"
    }
   ],
   "source": [
    "model_cnn_01 = Sequential()\n",
    "e = Embedding(100000, 200, weights=[embedding_matrix], input_length=len(length) + 10, trainable=False)\n",
    "model_cnn_01.add(e)\n",
    "model_cnn_01.add(Conv1D(filters=100, kernel_size=2, padding='valid', activation='relu', strides=1))\n",
    "model_cnn_01.add(GlobalMaxPooling1D())\n",
    "model_cnn_01.add(Dense(256, activation='relu'))\n",
    "model_cnn_01.add(Dense(1, activation='sigmoid'))\n",
    "model_cnn_01.compile(loss='binary_crossentropy', optimizer='adam', metrics=['accuracy'])\n",
    "model_cnn_01.fit(x_train_seq, y_train, validation_data=(x_test_seq, y_test), epochs=5, batch_size=32, verbose=2)"
   ]
  },
  {
   "cell_type": "code",
   "execution_count": 128,
   "id": "c72783c9",
   "metadata": {
    "ExecuteTime": {
     "end_time": "2021-11-10T07:52:00.456564Z",
     "start_time": "2021-11-10T07:51:21.467084Z"
    }
   },
   "outputs": [
    {
     "name": "stdout",
     "output_type": "stream",
     "text": [
      "Epoch 1/5\n",
      "37/37 - 9s - loss: 0.6910 - accuracy: 0.5317 - val_loss: 0.7045 - val_accuracy: 0.5034 - 9s/epoch - 233ms/step\n",
      "Epoch 2/5\n",
      "37/37 - 8s - loss: 0.6618 - accuracy: 0.6061 - val_loss: 0.7079 - val_accuracy: 0.5068 - 8s/epoch - 220ms/step\n",
      "Epoch 3/5\n",
      "37/37 - 8s - loss: 0.5232 - accuracy: 0.8495 - val_loss: 0.7626 - val_accuracy: 0.5135 - 8s/epoch - 219ms/step\n",
      "Epoch 4/5\n",
      "37/37 - 8s - loss: 0.2103 - accuracy: 0.9721 - val_loss: 0.9202 - val_accuracy: 0.4865 - 8s/epoch - 218ms/step\n",
      "Epoch 5/5\n",
      "37/37 - 8s - loss: 0.0642 - accuracy: 0.9882 - val_loss: 1.2399 - val_accuracy: 0.5000 - 8s/epoch - 219ms/step\n"
     ]
    },
    {
     "data": {
      "text/plain": [
       "<keras.callbacks.History at 0x21e5ecfbf70>"
      ]
     },
     "execution_count": 128,
     "metadata": {},
     "output_type": "execute_result"
    }
   ],
   "source": [
    "model_cnn_02 = Sequential()\n",
    "e = Embedding(100000, 200, input_length=len(length) + 10)\n",
    "model_cnn_02.add(e)\n",
    "model_cnn_02.add(Conv1D(filters=100, kernel_size=2, padding='valid', activation='relu', strides=1))\n",
    "model_cnn_02.add(GlobalMaxPooling1D())\n",
    "model_cnn_02.add(Dense(256, activation='relu'))\n",
    "model_cnn_02.add(Dense(1, activation='sigmoid'))\n",
    "model_cnn_02.compile(loss='binary_crossentropy', optimizer='adam', metrics=['accuracy'])\n",
    "model_cnn_02.fit(x_train_seq, y_train, validation_data=(x_test_seq, y_test), epochs=5, batch_size=32, verbose=2)"
   ]
  },
  {
   "cell_type": "code",
   "execution_count": 129,
   "id": "5d8886f8",
   "metadata": {
    "ExecuteTime": {
     "end_time": "2021-11-10T07:52:39.550374Z",
     "start_time": "2021-11-10T07:52:00.460569Z"
    }
   },
   "outputs": [
    {
     "name": "stdout",
     "output_type": "stream",
     "text": [
      "Epoch 1/5\n",
      "37/37 - 8s - loss: 0.7387 - accuracy: 0.5224 - val_loss: 0.7274 - val_accuracy: 0.5068 - 8s/epoch - 225ms/step\n",
      "Epoch 2/5\n",
      "37/37 - 8s - loss: 0.6364 - accuracy: 0.6407 - val_loss: 0.8194 - val_accuracy: 0.5034 - 8s/epoch - 214ms/step\n",
      "Epoch 3/5\n",
      "37/37 - 8s - loss: 0.5346 - accuracy: 0.7650 - val_loss: 0.7257 - val_accuracy: 0.5169 - 8s/epoch - 222ms/step\n",
      "Epoch 4/5\n",
      "37/37 - 8s - loss: 0.4561 - accuracy: 0.8090 - val_loss: 0.7378 - val_accuracy: 0.5338 - 8s/epoch - 220ms/step\n",
      "Epoch 5/5\n",
      "37/37 - 8s - loss: 0.3176 - accuracy: 0.9189 - val_loss: 0.8406 - val_accuracy: 0.5101 - 8s/epoch - 222ms/step\n"
     ]
    },
    {
     "data": {
      "text/plain": [
       "<keras.callbacks.History at 0x21e82fde850>"
      ]
     },
     "execution_count": 129,
     "metadata": {},
     "output_type": "execute_result"
    }
   ],
   "source": [
    "model_cnn_03 = Sequential()\n",
    "e = Embedding(100000, 200, weights=[embedding_matrix], input_length=len(length) + 10, trainable=True)\n",
    "model_cnn_03.add(e)\n",
    "model_cnn_03.add(Conv1D(filters=100, kernel_size=2, padding='valid', activation='relu', strides=1))\n",
    "model_cnn_03.add(GlobalMaxPooling1D())\n",
    "model_cnn_03.add(Dense(256, activation='relu'))\n",
    "model_cnn_03.add(Dense(1, activation='sigmoid'))\n",
    "model_cnn_03.compile(loss='binary_crossentropy', optimizer='adam', metrics=['accuracy'])\n",
    "model_cnn_03.fit(x_train_seq, y_train, validation_data=(x_test_seq, y_test), epochs=5, batch_size=32, verbose=2)"
   ]
  },
  {
   "cell_type": "code",
   "execution_count": 130,
   "id": "0b6eef15",
   "metadata": {
    "ExecuteTime": {
     "end_time": "2021-11-10T07:52:39.742431Z",
     "start_time": "2021-11-10T07:52:39.551374Z"
    }
   },
   "outputs": [
    {
     "name": "stdout",
     "output_type": "stream",
     "text": [
      "Model: \"model_1\"\n",
      "__________________________________________________________________________________________________\n",
      " Layer (type)                   Output Shape         Param #     Connected to                     \n",
      "==================================================================================================\n",
      " input_2 (InputLayer)           [(None, 1193)]       0           []                               \n",
      "                                                                                                  \n",
      " embedding_18 (Embedding)       (None, 1193, 200)    20000000    ['input_2[0][0]']                \n",
      "                                                                                                  \n",
      " conv1d_13 (Conv1D)             (None, 1192, 100)    40100       ['embedding_18[0][0]']           \n",
      "                                                                                                  \n",
      " conv1d_14 (Conv1D)             (None, 1191, 100)    60100       ['embedding_18[0][0]']           \n",
      "                                                                                                  \n",
      " conv1d_15 (Conv1D)             (None, 1190, 100)    80100       ['embedding_18[0][0]']           \n",
      "                                                                                                  \n",
      " global_max_pooling1d_11 (Globa  (None, 100)         0           ['conv1d_13[0][0]']              \n",
      " lMaxPooling1D)                                                                                   \n",
      "                                                                                                  \n",
      " global_max_pooling1d_12 (Globa  (None, 100)         0           ['conv1d_14[0][0]']              \n",
      " lMaxPooling1D)                                                                                   \n",
      "                                                                                                  \n",
      " global_max_pooling1d_13 (Globa  (None, 100)         0           ['conv1d_15[0][0]']              \n",
      " lMaxPooling1D)                                                                                   \n",
      "                                                                                                  \n",
      " concatenate_1 (Concatenate)    (None, 300)          0           ['global_max_pooling1d_11[0][0]',\n",
      "                                                                  'global_max_pooling1d_12[0][0]',\n",
      "                                                                  'global_max_pooling1d_13[0][0]']\n",
      "                                                                                                  \n",
      " dense_28 (Dense)               (None, 256)          77056       ['concatenate_1[0][0]']          \n",
      "                                                                                                  \n",
      " dropout_1 (Dropout)            (None, 256)          0           ['dense_28[0][0]']               \n",
      "                                                                                                  \n",
      " dense_29 (Dense)               (None, 1)            257         ['dropout_1[0][0]']              \n",
      "                                                                                                  \n",
      " activation_1 (Activation)      (None, 1)            0           ['dense_29[0][0]']               \n",
      "                                                                                                  \n",
      "==================================================================================================\n",
      "Total params: 20,257,613\n",
      "Trainable params: 20,257,613\n",
      "Non-trainable params: 0\n",
      "__________________________________________________________________________________________________\n"
     ]
    }
   ],
   "source": [
    "tweet_input = Input(shape=(len(length) + 10,), dtype='int32')\n",
    "\n",
    "tweet_encoder = Embedding(100000, 200, weights=[embedding_matrix], input_length=len(length) + 10, trainable=True)(\n",
    "    tweet_input)\n",
    "bigram_branch = Conv1D(filters=100, kernel_size=2, padding='valid', activation='relu', strides=1)(tweet_encoder)\n",
    "bigram_branch = GlobalMaxPooling1D()(bigram_branch)\n",
    "trigram_branch = Conv1D(filters=100, kernel_size=3, padding='valid', activation='relu', strides=1)(tweet_encoder)\n",
    "trigram_branch = GlobalMaxPooling1D()(trigram_branch)\n",
    "fourgram_branch = Conv1D(filters=100, kernel_size=4, padding='valid', activation='relu', strides=1)(tweet_encoder)\n",
    "fourgram_branch = GlobalMaxPooling1D()(fourgram_branch)\n",
    "merged = concatenate([bigram_branch, trigram_branch, fourgram_branch], axis=1)\n",
    "\n",
    "merged = Dense(256, activation='relu')(merged)\n",
    "merged = Dropout(0.2)(merged)\n",
    "merged = Dense(1)(merged)\n",
    "output = Activation('sigmoid')(merged)\n",
    "model = Model(inputs=[tweet_input], outputs=[output])\n",
    "model.compile(loss='binary_crossentropy',\n",
    "              optimizer='adam',\n",
    "              metrics=['accuracy'])\n",
    "model.summary()"
   ]
  },
  {
   "cell_type": "code",
   "execution_count": 131,
   "id": "f0e475d7",
   "metadata": {
    "ExecuteTime": {
     "end_time": "2021-11-10T07:53:54.558353Z",
     "start_time": "2021-11-10T07:52:39.744425Z"
    }
   },
   "outputs": [
    {
     "name": "stdout",
     "output_type": "stream",
     "text": [
      "Epoch 1/5\n",
      "37/37 [==============================] - ETA: 0s - loss: 1.4426 - accuracy: 0.5207\n",
      "Epoch 00001: val_accuracy improved from -inf to 0.50338, saving model to CNN_best_weights.01-0.5034.hdf5\n",
      "37/37 [==============================] - 15s 376ms/step - loss: 1.4426 - accuracy: 0.5207 - val_loss: 0.8468 - val_accuracy: 0.5034\n",
      "Epoch 2/5\n",
      "37/37 [==============================] - ETA: 0s - loss: 0.6804 - accuracy: 0.6221\n",
      "Epoch 00002: val_accuracy did not improve from 0.50338\n",
      "37/37 [==============================] - 13s 364ms/step - loss: 0.6804 - accuracy: 0.6221 - val_loss: 0.8860 - val_accuracy: 0.5034\n",
      "Epoch 3/5\n",
      "37/37 [==============================] - ETA: 0s - loss: 0.5169 - accuracy: 0.7506\n",
      "Epoch 00003: val_accuracy did not improve from 0.50338\n",
      "37/37 [==============================] - 13s 362ms/step - loss: 0.5169 - accuracy: 0.7506 - val_loss: 0.7669 - val_accuracy: 0.4932\n",
      "Epoch 4/5\n",
      "37/37 [==============================] - ETA: 0s - loss: 0.3735 - accuracy: 0.8918\n",
      "Epoch 00004: val_accuracy did not improve from 0.50338\n",
      "37/37 [==============================] - 13s 358ms/step - loss: 0.3735 - accuracy: 0.8918 - val_loss: 0.7975 - val_accuracy: 0.4966\n",
      "Epoch 5/5\n",
      "37/37 [==============================] - ETA: 0s - loss: 0.2502 - accuracy: 0.9637\n",
      "Epoch 00005: val_accuracy did not improve from 0.50338\n",
      "37/37 [==============================] - 13s 358ms/step - loss: 0.2502 - accuracy: 0.9637 - val_loss: 0.9127 - val_accuracy: 0.5000\n"
     ]
    },
    {
     "data": {
      "text/plain": [
       "<keras.callbacks.History at 0x21e83530760>"
      ]
     },
     "execution_count": 131,
     "metadata": {},
     "output_type": "execute_result"
    }
   ],
   "source": [
    "from keras.callbacks import ModelCheckpoint\n",
    "\n",
    "filepath = \"CNN_best_weights.{epoch:02d}-{val_accuracy:.4f}.hdf5\"\n",
    "checkpoint = ModelCheckpoint(filepath, monitor='val_accuracy', verbose=1, save_best_only=True, mode='max')\n",
    "\n",
    "model.fit(x_train_seq, y_train, batch_size=32, epochs=5,\n",
    "          validation_data=(x_test_seq, y_test), callbacks=[checkpoint])"
   ]
  },
  {
   "cell_type": "code",
   "execution_count": 132,
   "id": "91517d9f",
   "metadata": {
    "ExecuteTime": {
     "end_time": "2021-11-10T07:54:12.564857Z",
     "start_time": "2021-11-10T07:54:11.387449Z"
    }
   },
   "outputs": [
    {
     "name": "stdout",
     "output_type": "stream",
     "text": [
      "10/10 [==============================] - 0s 36ms/step - loss: 0.8468 - accuracy: 0.5034\n"
     ]
    },
    {
     "data": {
      "text/plain": [
       "[0.846837043762207, 0.5033783912658691]"
      ]
     },
     "execution_count": 132,
     "metadata": {},
     "output_type": "execute_result"
    }
   ],
   "source": [
    "loaded_CNN_model = load_model('CNN_best_weights.01-0.5034.hdf5')\n",
    "loaded_CNN_model.evaluate(x=x_test_seq, y=y_test)"
   ]
  },
  {
   "cell_type": "code",
   "execution_count": 133,
   "id": "81743d6c",
   "metadata": {
    "ExecuteTime": {
     "end_time": "2021-11-10T07:54:32.670711Z",
     "start_time": "2021-11-10T07:54:12.567859Z"
    }
   },
   "outputs": [
    {
     "data": {
      "text/plain": [
       "TfidfVectorizer(max_features=100000, ngram_range=(1, 3))"
      ]
     },
     "execution_count": 133,
     "metadata": {},
     "output_type": "execute_result"
    }
   ],
   "source": [
    "tvec = TfidfVectorizer(max_features=100000, ngram_range=(1, 3))\n",
    "tvec.fit(x_train)"
   ]
  },
  {
   "cell_type": "code",
   "execution_count": 134,
   "id": "63835709",
   "metadata": {
    "ExecuteTime": {
     "end_time": "2021-11-10T07:54:44.057157Z",
     "start_time": "2021-11-10T07:54:32.671711Z"
    }
   },
   "outputs": [],
   "source": [
    "x_train_tfidf = tvec.transform(x_train)\n",
    "x_test_tfidf = tvec.transform(x_test)"
   ]
  },
  {
   "cell_type": "code",
   "execution_count": 135,
   "id": "67509750",
   "metadata": {
    "ExecuteTime": {
     "end_time": "2021-11-10T07:54:46.019343Z",
     "start_time": "2021-11-10T07:54:44.059151Z"
    }
   },
   "outputs": [
    {
     "data": {
      "text/plain": [
       "LogisticRegression()"
      ]
     },
     "execution_count": 135,
     "metadata": {},
     "output_type": "execute_result"
    }
   ],
   "source": [
    "lr_with_tfidf = LogisticRegression()\n",
    "lr_with_tfidf.fit(x_train_tfidf, y_train)"
   ]
  },
  {
   "cell_type": "code",
   "execution_count": 136,
   "id": "32214da7",
   "metadata": {
    "ExecuteTime": {
     "end_time": "2021-11-10T07:54:46.051366Z",
     "start_time": "2021-11-10T07:54:46.021342Z"
    }
   },
   "outputs": [
    {
     "data": {
      "text/plain": [
       "0.4966216216216216"
      ]
     },
     "execution_count": 136,
     "metadata": {},
     "output_type": "execute_result"
    }
   ],
   "source": [
    "lr_with_tfidf.score(x_test_tfidf, y_test)"
   ]
  },
  {
   "cell_type": "code",
   "execution_count": 137,
   "id": "5ae1a110",
   "metadata": {
    "ExecuteTime": {
     "end_time": "2021-11-10T07:54:46.067356Z",
     "start_time": "2021-11-10T07:54:46.053350Z"
    }
   },
   "outputs": [],
   "source": [
    "yhat_lr = lr_with_tfidf.predict_proba(x_test_tfidf)"
   ]
  },
  {
   "cell_type": "code",
   "execution_count": 138,
   "id": "70d92d1c",
   "metadata": {
    "ExecuteTime": {
     "end_time": "2021-11-10T07:54:46.657483Z",
     "start_time": "2021-11-10T07:54:46.069356Z"
    }
   },
   "outputs": [],
   "source": [
    "sequences_test = tokenizer.texts_to_sequences(x_test)\n",
    "x_test_seq = pad_sequences(sequences_test, maxlen=len(length) + 10)"
   ]
  },
  {
   "cell_type": "code",
   "execution_count": 139,
   "id": "48d7df1e",
   "metadata": {
    "ExecuteTime": {
     "end_time": "2021-11-10T07:54:47.389450Z",
     "start_time": "2021-11-10T07:54:46.659486Z"
    }
   },
   "outputs": [
    {
     "name": "stdout",
     "output_type": "stream",
     "text": [
      "10/10 [==============================] - 0s 37ms/step - loss: 0.8468 - accuracy: 0.5034\n"
     ]
    },
    {
     "data": {
      "text/plain": [
       "[0.846837043762207, 0.5033783912658691]"
      ]
     },
     "execution_count": 139,
     "metadata": {},
     "output_type": "execute_result"
    }
   ],
   "source": [
    "loaded_CNN_model.evaluate(x=x_test_seq, y=y_test)"
   ]
  },
  {
   "cell_type": "code",
   "execution_count": 140,
   "id": "a71b2d66",
   "metadata": {
    "ExecuteTime": {
     "end_time": "2021-11-10T07:54:48.116749Z",
     "start_time": "2021-11-10T07:54:47.391452Z"
    }
   },
   "outputs": [],
   "source": [
    "yhat_cnn = loaded_CNN_model.predict(x_test_seq)"
   ]
  },
  {
   "cell_type": "code",
   "execution_count": 141,
   "id": "905e2a56",
   "metadata": {
    "ExecuteTime": {
     "end_time": "2021-11-10T07:54:48.259814Z",
     "start_time": "2021-11-10T07:54:48.117752Z"
    },
    "scrolled": false
   },
   "outputs": [
    {
     "data": {
      "image/png": "[encoded data removed]",
      "text/plain": [
       "<Figure size 576x504 with 1 Axes>"
      ]
     },
     "metadata": {
      "needs_background": "light"
     },
     "output_type": "display_data"
    }
   ],
   "source": [
    "from sklearn.metrics import roc_curve, auc\n",
    "\n",
    "fpr, tpr, threshold = roc_curve(y_test, yhat_lr[:, 1])\n",
    "roc_auc = auc(fpr, tpr)\n",
    "fpr_cnn, tpr_cnn, threshold = roc_curve(y_test, yhat_cnn)\n",
    "roc_auc_nn = auc(fpr_cnn, tpr_cnn)\n",
    "plt.figure(figsize=(8, 7))\n",
    "plt.plot(fpr, tpr, label='tfidf-logit (area = %0.3f)' % roc_auc, linewidth=2)\n",
    "plt.plot(fpr_cnn, tpr_cnn, label='w2v-CNN (area = %0.3f)' % roc_auc_nn, linewidth=2)\n",
    "\n",
    "plt.plot([0, 1], [0, 1], 'k--', linewidth=2)\n",
    "plt.xlim([-0.05, 1.0])\n",
    "plt.ylim([-0.05, 1.05])\n",
    "plt.xlabel('False Positive Rate', fontsize=18)\n",
    "plt.ylabel('True Positive Rate', fontsize=18)\n",
    "plt.title('Receiver operating characteristic: is positive', fontsize=18)\n",
    "plt.legend(loc=\"lower right\")\n",
    "plt.show()"
   ]
  },
  {
   "cell_type": "markdown",
   "id": "1d4e6d81",
   "metadata": {},
   "source": [
    "### TNX: I"
   ]
  },
  {
   "cell_type": "code",
   "execution_count": 142,
   "id": "e0947ae7",
   "metadata": {
    "ExecuteTime": {
     "end_time": "2021-11-10T07:45:41.037348Z",
     "start_time": "2021-11-10T07:45:41.013356Z"
    }
   },
   "outputs": [
    {
     "name": "stdout",
     "output_type": "stream",
     "text": [
      "Train set has total 1183 entries with 51.56% negative, 48.44% positive\n",
      "Test set has total 296 entries with 52.36% negative, 47.64% positive\n"
     ]
    }
   ],
   "source": [
    "x = df_speech['full_text']\n",
    "y = df_speech['TNX']\n",
    "SEED = 2000\n",
    "x_train, x_test, y_train, y_test = train_test_split(x, y, test_size=.2, random_state=SEED)\n",
    "set_des(x_train, x_test, y_train, y_test)"
   ]
  },
  {
   "cell_type": "code",
   "execution_count": 143,
   "id": "58c541c4",
   "metadata": {
    "ExecuteTime": {
     "end_time": "2021-11-10T07:45:41.799192Z",
     "start_time": "2021-11-10T07:45:41.793208Z"
    }
   },
   "outputs": [],
   "source": [
    "def labelize_ug(tweets, label):\n",
    "    result = []\n",
    "    prefix = label\n",
    "    for i, t in zip(tweets.index, tweets):\n",
    "        result.append(TaggedDocument(t.split(), [prefix + '_%s' % i]))\n",
    "    return result"
   ]
  },
  {
   "cell_type": "code",
   "execution_count": 144,
   "id": "014b0eca",
   "metadata": {
    "ExecuteTime": {
     "end_time": "2021-11-10T07:45:42.683856Z",
     "start_time": "2021-11-10T07:45:42.312763Z"
    }
   },
   "outputs": [],
   "source": [
    "all_x_w2v = labelize_ug(x, 'all')"
   ]
  },
  {
   "cell_type": "code",
   "execution_count": 145,
   "id": "6c9cbd54",
   "metadata": {
    "ExecuteTime": {
     "end_time": "2021-11-10T07:45:43.874362Z",
     "start_time": "2021-11-10T07:45:42.685849Z"
    }
   },
   "outputs": [
    {
     "name": "stderr",
     "output_type": "stream",
     "text": [
      "100%|██████████████████████████████████████████████████████████████████████████████████████| 1479/1479 [00:00<?, ?it/s]\n"
     ]
    }
   ],
   "source": [
    "model_ug_cbow = Word2Vec(sg=0, negative=5, window=2, min_count=2, workers=16, alpha=0.065, min_alpha=0.065)\n",
    "model_ug_cbow.build_vocab([x.words for x in tqdm(all_x_w2v)])"
   ]
  },
  {
   "cell_type": "code",
   "execution_count": 146,
   "id": "b8ae24fe",
   "metadata": {
    "ExecuteTime": {
     "end_time": "2021-11-10T07:46:36.482606Z",
     "start_time": "2021-11-10T07:45:43.876365Z"
    }
   },
   "outputs": [
    {
     "name": "stderr",
     "output_type": "stream",
     "text": [
      "100%|██████████████████████████████████████████████████████████████████████████████████████| 1479/1479 [00:00<?, ?it/s]\n",
      "100%|██████████████████████████████████████████████████████████████████████████████████████| 1479/1479 [00:00<?, ?it/s]\n",
      "100%|█████████████████████████████████████████████████████████████████████████| 1479/1479 [00:00<00:00, 1478049.94it/s]\n",
      "100%|█████████████████████████████████████████████████████████████████████████| 1479/1479 [00:00<00:00, 1480165.98it/s]\n",
      "100%|█████████████████████████████████████████████████████████████████████████| 1479/1479 [00:00<00:00, 1468254.58it/s]\n",
      "100%|█████████████████████████████████████████████████████████████████████████| 1479/1479 [00:00<00:00, 1491196.06it/s]\n",
      "100%|█████████████████████████████████████████████████████████████████████████| 1479/1479 [00:00<00:00, 1478402.20it/s]\n",
      "100%|█████████████████████████████████████████████████████████████████████████| 1479/1479 [00:00<00:00, 1478754.62it/s]\n",
      "100%|█████████████████████████████████████████████████████████████████████████| 1479/1479 [00:00<00:00, 1480872.67it/s]\n",
      "100%|█████████████████████████████████████████████████████████████████████████| 1479/1479 [00:00<00:00, 1482996.80it/s]\n",
      "100%|██████████████████████████████████████████████████████████████████████████████████████| 1479/1479 [00:00<?, ?it/s]\n",
      "100%|█████████████████████████████████████████████████████████████████████████| 1479/1479 [00:00<00:00, 1483706.20it/s]\n",
      "100%|█████████████████████████████████████████████████████████████████████████| 1479/1479 [00:00<00:00, 1485838.47it/s]\n",
      "100%|█████████████████████████████████████████████████████████████████████████| 1479/1479 [00:00<00:00, 1479812.89it/s]\n",
      "100%|██████████████████████████████████████████████████████████████████████████████████████| 1479/1479 [00:00<?, ?it/s]\n",
      "100%|█████████████████████████████████████████████████████████████████████████| 1479/1479 [00:00<00:00, 1476994.19it/s]\n",
      "100%|██████████████████████████████████████████████████████████████████████████████████████| 1479/1479 [00:00<?, ?it/s]\n",
      "100%|█████████████████████████████████████████████████████████████████████████| 1479/1479 [00:00<00:00, 1474887.21it/s]\n",
      "100%|██████████████████████████████████████████████████████████████████████████████████████| 1479/1479 [00:00<?, ?it/s]\n",
      "100%|██████████████████████████████████████████████████████████████████████████████████████| 1479/1479 [00:00<?, ?it/s]\n",
      "100%|█████████████████████████████████████████████████████████████████████████| 1479/1479 [00:00<00:00, 1478754.62it/s]\n",
      "100%|█████████████████████████████████████████████████████████████████████████| 1479/1479 [00:00<00:00, 1477345.94it/s]\n",
      "100%|█████████████████████████████████████████████████████████████████████████| 1479/1479 [00:00<00:00, 1473485.89it/s]\n",
      "100%|██████████████████████████████████████████████████████████████████████████████████████| 1479/1479 [00:00<?, ?it/s]\n",
      "100%|█████████████████████████████████████████████████████████████████████████| 1479/1479 [00:00<00:00, 1484061.15it/s]\n",
      "100%|█████████████████████████████████████████████████████████████████████████| 1479/1479 [00:00<00:00, 1475237.96it/s]\n",
      "100%|█████████████████████████████████████████████████████████████████████████| 1479/1479 [00:00<00:00, 1479107.20it/s]\n",
      "100%|█████████████████████████████████████████████████████████████████████████| 1479/1479 [00:00<00:00, 1479459.96it/s]\n",
      "100%|█████████████████████████████████████████████████████████████████████████| 1479/1479 [00:00<00:00, 1481933.97it/s]\n",
      "100%|█████████████████████████████████████████████████████████████████████████| 1479/1479 [00:00<00:00, 1488333.88it/s]\n"
     ]
    },
    {
     "name": "stdout",
     "output_type": "stream",
     "text": [
      "Wall time: 52.6 s\n"
     ]
    }
   ],
   "source": [
    "% % time\n",
    "for epoch in range(30):\n",
    "    model_ug_cbow.train(utils.shuffle([x.words for x in tqdm(all_x_w2v)]), total_examples=len(all_x_w2v), epochs=1)\n",
    "    model_ug_cbow.alpha -= 0.002\n",
    "    model_ug_cbow.min_alpha = model_ug_cbow.alpha"
   ]
  },
  {
   "cell_type": "code",
   "execution_count": 147,
   "id": "26b985d4",
   "metadata": {
    "ExecuteTime": {
     "end_time": "2021-11-10T07:46:37.562997Z",
     "start_time": "2021-11-10T07:46:36.484601Z"
    }
   },
   "outputs": [
    {
     "name": "stderr",
     "output_type": "stream",
     "text": [
      "100%|█████████████████████████████████████████████████████████████████████████| 1479/1479 [00:00<00:00, 1479459.96it/s]\n"
     ]
    }
   ],
   "source": [
    "model_ug_sg = Word2Vec(sg=1, negative=5, window=2, min_count=2, workers=16, alpha=0.065, min_alpha=0.065)\n",
    "model_ug_sg.build_vocab([x.words for x in tqdm(all_x_w2v)])"
   ]
  },
  {
   "cell_type": "code",
   "execution_count": 148,
   "id": "4ce90167",
   "metadata": {
    "ExecuteTime": {
     "end_time": "2021-11-10T07:47:38.118999Z",
     "start_time": "2021-11-10T07:46:37.565002Z"
    }
   },
   "outputs": [
    {
     "name": "stderr",
     "output_type": "stream",
     "text": [
      "100%|█████████████████████████████████████████████████████████████████████████| 1479/1479 [00:00<00:00, 1480165.98it/s]\n",
      "100%|█████████████████████████████████████████████████████████████████████████| 1479/1479 [00:00<00:00, 1482996.80it/s]\n",
      "100%|█████████████████████████████████████████████████████████████████████████| 1479/1479 [00:00<00:00, 1479107.20it/s]\n",
      "100%|█████████████████████████████████████████████████████████████████████████| 1479/1479 [00:00<00:00, 1477697.86it/s]\n",
      "100%|█████████████████████████████████████████████████████████████████████████| 1479/1479 [00:00<00:00, 1476994.19it/s]\n",
      "100%|█████████████████████████████████████████████████████████████████████████| 1479/1479 [00:00<00:00, 1480519.24it/s]\n",
      "100%|█████████████████████████████████████████████████████████████████████████| 1479/1479 [00:00<00:00, 1481933.97it/s]\n",
      "100%|██████████████████████████████████████████████████████████████████████████████████████| 1479/1479 [00:00<?, ?it/s]\n",
      "100%|██████████████████████████████████████████████████████████████████████████████████████| 1479/1479 [00:00<?, ?it/s]\n",
      "100%|█████████████████████████████████████████████████████████████████████████| 1479/1479 [00:00<00:00, 1479812.89it/s]\n",
      "100%|██████████████████████████████████████████████████████████████████████████████████████| 1479/1479 [00:00<?, ?it/s]\n",
      "100%|██████████████████████████████████████████████████████████████████████████████████████| 1479/1479 [00:00<?, ?it/s]\n",
      "100%|█████████████████████████████████████████████████████████████████████████| 1479/1479 [00:00<00:00, 1481580.04it/s]\n",
      "100%|██████████████████████████████████████████████████████████████████████████████████████| 1479/1479 [00:00<?, ?it/s]\n",
      "100%|█████████████████████████████████████████████████████████████████████████| 1479/1479 [00:00<00:00, 1484416.28it/s]\n",
      "100%|█████████████████████████████████████████████████████████████████████████| 1479/1479 [00:00<00:00, 1477697.86it/s]\n",
      "100%|█████████████████████████████████████████████████████████████████████████| 1479/1479 [00:00<00:00, 1477345.94it/s]\n",
      "100%|██████████████████████████████████████████████████████████████████████████████████████| 1479/1479 [00:00<?, ?it/s]\n",
      "100%|█████████████████████████████████████████████████████████████████████████| 1479/1479 [00:00<00:00, 1478049.94it/s]\n",
      "100%|█████████████████████████████████████████████████████████████████████████| 1479/1479 [00:00<00:00, 1498038.06it/s]\n",
      "100%|█████████████████████████████████████████████████████████████████████████| 1479/1479 [00:00<00:00, 1482288.08it/s]\n",
      "100%|█████████████████████████████████████████████████████████████████████████| 1479/1479 [00:00<00:00, 1480165.98it/s]\n",
      "100%|█████████████████████████████████████████████████████████████████████████| 1479/1479 [00:00<00:00, 1476994.19it/s]\n",
      "100%|█████████████████████████████████████████████████████████████████████████| 1479/1479 [00:00<00:00, 1485127.03it/s]\n",
      "100%|█████████████████████████████████████████████████████████████████████████| 1479/1479 [00:00<00:00, 1481933.97it/s]\n",
      "100%|██████████████████████████████████████████████████████████████████████████████████████| 1479/1479 [00:00<?, ?it/s]\n",
      "100%|██████████████████████████████████████████████████████████████████████████████████████| 1479/1479 [00:00<?, ?it/s]\n",
      "100%|█████████████████████████████████████████████████████████████████████████| 1479/1479 [00:00<00:00, 1480165.98it/s]\n",
      "100%|█████████████████████████████████████████████████████████████████████████| 1479/1479 [00:00<00:00, 1478402.20it/s]\n",
      "100%|██████████████████████████████████████████████████████████████████████████████████████| 1479/1479 [00:00<?, ?it/s]\n"
     ]
    },
    {
     "name": "stdout",
     "output_type": "stream",
     "text": [
      "Wall time: 1min\n"
     ]
    }
   ],
   "source": [
    "% % time\n",
    "for epoch in range(30):\n",
    "    model_ug_sg.train(utils.shuffle([x.words for x in tqdm(all_x_w2v)]), total_examples=len(all_x_w2v), epochs=1)\n",
    "    model_ug_sg.alpha -= 0.002\n",
    "    model_ug_sg.min_alpha = model_ug_sg.alpha"
   ]
  },
  {
   "cell_type": "code",
   "execution_count": 149,
   "id": "f014746a",
   "metadata": {
    "ExecuteTime": {
     "end_time": "2021-11-10T07:47:38.183014Z",
     "start_time": "2021-11-10T07:47:38.120001Z"
    }
   },
   "outputs": [],
   "source": [
    "model_ug_cbow.save('w2v_model_ug_cbow.word2vec')\n",
    "model_ug_sg.save('w2v_model_ug_sg.word2vec')"
   ]
  },
  {
   "cell_type": "code",
   "execution_count": 150,
   "id": "2319f01e",
   "metadata": {
    "ExecuteTime": {
     "end_time": "2021-11-10T07:47:38.673253Z",
     "start_time": "2021-11-10T07:47:38.185018Z"
    }
   },
   "outputs": [],
   "source": [
    "model_ug_cbow = KeyedVectors.load('w2v_model_ug_cbow.word2vec')\n",
    "model_ug_sg = KeyedVectors.load('w2v_model_ug_sg.word2vec')"
   ]
  },
  {
   "cell_type": "code",
   "execution_count": 151,
   "id": "38156629",
   "metadata": {
    "ExecuteTime": {
     "end_time": "2021-11-10T07:47:38.688266Z",
     "start_time": "2021-11-10T07:47:38.674283Z"
    }
   },
   "outputs": [
    {
     "data": {
      "text/plain": [
       "27847"
      ]
     },
     "execution_count": 151,
     "metadata": {},
     "output_type": "execute_result"
    }
   ],
   "source": [
    "len(model_ug_cbow.wv.index_to_key)"
   ]
  },
  {
   "cell_type": "code",
   "execution_count": 152,
   "id": "e486aaf5",
   "metadata": {
    "ExecuteTime": {
     "end_time": "2021-11-10T07:47:38.891397Z",
     "start_time": "2021-11-10T07:47:38.689270Z"
    }
   },
   "outputs": [
    {
     "name": "stdout",
     "output_type": "stream",
     "text": [
      "Found 27847 word vectors.\n"
     ]
    }
   ],
   "source": [
    "embeddings_index = {}\n",
    "for w in model_ug_cbow.wv.index_to_key:\n",
    "    embeddings_index[w] = np.append(model_ug_cbow.wv[w], model_ug_sg.wv[w])\n",
    "print('Found %s word vectors.' % len(embeddings_index))"
   ]
  },
  {
   "cell_type": "code",
   "execution_count": 153,
   "id": "270e862b",
   "metadata": {
    "ExecuteTime": {
     "end_time": "2021-11-10T07:47:43.719976Z",
     "start_time": "2021-11-10T07:47:38.893392Z"
    }
   },
   "outputs": [],
   "source": [
    "tokenizer = Tokenizer(num_words=100000)\n",
    "tokenizer.fit_on_texts(x_train)\n",
    "sequences = tokenizer.texts_to_sequences(x_train)"
   ]
  },
  {
   "cell_type": "code",
   "execution_count": 154,
   "id": "65697d24",
   "metadata": {
    "ExecuteTime": {
     "end_time": "2021-11-10T07:47:43.735977Z",
     "start_time": "2021-11-10T07:47:43.721973Z"
    }
   },
   "outputs": [
    {
     "data": {
      "text/plain": [
       "27401"
      ]
     },
     "execution_count": 154,
     "metadata": {},
     "output_type": "execute_result"
    }
   ],
   "source": [
    "len(tokenizer.word_index)"
   ]
  },
  {
   "cell_type": "code",
   "execution_count": 155,
   "id": "c036d921",
   "metadata": {
    "ExecuteTime": {
     "end_time": "2021-11-10T07:47:44.067645Z",
     "start_time": "2021-11-10T07:47:43.736976Z"
    }
   },
   "outputs": [],
   "source": [
    "length = []\n",
    "for x in x_train:\n",
    "    length.append(len(x.split()))"
   ]
  },
  {
   "cell_type": "code",
   "execution_count": 156,
   "id": "fe658c4a",
   "metadata": {
    "ExecuteTime": {
     "end_time": "2021-11-10T07:47:44.131656Z",
     "start_time": "2021-11-10T07:47:44.068644Z"
    }
   },
   "outputs": [
    {
     "name": "stdout",
     "output_type": "stream",
     "text": [
      "Shape of data tensor: (1183, 1193)\n"
     ]
    }
   ],
   "source": [
    "x_train_seq = pad_sequences(sequences, maxlen=len(length) + 10)\n",
    "print('Shape of data tensor:', x_train_seq.shape)"
   ]
  },
  {
   "cell_type": "code",
   "execution_count": 157,
   "id": "84f6e2c8",
   "metadata": {
    "ExecuteTime": {
     "end_time": "2021-11-10T07:47:44.765611Z",
     "start_time": "2021-11-10T07:47:44.132659Z"
    }
   },
   "outputs": [],
   "source": [
    "sequences_val = tokenizer.texts_to_sequences(x_test)\n",
    "x_test_seq = pad_sequences(sequences_val, maxlen=len(length) + 10)"
   ]
  },
  {
   "cell_type": "code",
   "execution_count": 158,
   "id": "8851b68c",
   "metadata": {
    "ExecuteTime": {
     "end_time": "2021-11-10T07:47:44.813614Z",
     "start_time": "2021-11-10T07:47:44.766605Z"
    }
   },
   "outputs": [],
   "source": [
    "num_words = 100000\n",
    "embedding_matrix = np.zeros((num_words, 200))\n",
    "for word, i in tokenizer.word_index.items():\n",
    "    if i >= num_words:\n",
    "        continue\n",
    "    embedding_vector = embeddings_index.get(word)\n",
    "    if embedding_vector is not None:\n",
    "        embedding_matrix[i] = embedding_vector"
   ]
  },
  {
   "cell_type": "code",
   "execution_count": 159,
   "id": "12b0e606",
   "metadata": {
    "ExecuteTime": {
     "end_time": "2021-11-10T07:48:35.117622Z",
     "start_time": "2021-11-10T07:47:44.814615Z"
    }
   },
   "outputs": [
    {
     "name": "stdout",
     "output_type": "stream",
     "text": [
      "Epoch 1/5\n",
      "37/37 - 10s - loss: 1.8125 - accuracy: 0.4928 - val_loss: 0.7357 - val_accuracy: 0.4899 - 10s/epoch - 278ms/step\n",
      "Epoch 2/5\n",
      "37/37 - 10s - loss: 0.6359 - accuracy: 0.5486 - val_loss: 0.7371 - val_accuracy: 0.4696 - 10s/epoch - 268ms/step\n",
      "Epoch 3/5\n",
      "37/37 - 10s - loss: 0.6280 - accuracy: 0.5621 - val_loss: 0.7382 - val_accuracy: 0.4696 - 10s/epoch - 267ms/step\n",
      "Epoch 4/5\n",
      "37/37 - 10s - loss: 0.6270 - accuracy: 0.5613 - val_loss: 0.7387 - val_accuracy: 0.4696 - 10s/epoch - 265ms/step\n",
      "Epoch 5/5\n",
      "37/37 - 10s - loss: 0.6262 - accuracy: 0.5621 - val_loss: 0.7394 - val_accuracy: 0.4696 - 10s/epoch - 268ms/step\n"
     ]
    },
    {
     "data": {
      "text/plain": [
       "<keras.callbacks.History at 0x21f6ee2ed60>"
      ]
     },
     "execution_count": 159,
     "metadata": {},
     "output_type": "execute_result"
    }
   ],
   "source": [
    "model_ptw2v = Sequential()\n",
    "e = Embedding(100000, 200, weights=[embedding_matrix], input_length=len(length) + 10, trainable=False)\n",
    "model_ptw2v.add(e)\n",
    "model_ptw2v.add(Flatten())\n",
    "model_ptw2v.add(Dense(256, activation='relu'))\n",
    "model_ptw2v.add(Dense(1, activation='sigmoid'))\n",
    "model_ptw2v.compile(loss='binary_crossentropy', optimizer='adam', metrics=['accuracy'])\n",
    "model_ptw2v.fit(x_train_seq, y_train, validation_data=(x_test_seq, y_test), epochs=5, batch_size=32, verbose=2)"
   ]
  },
  {
   "cell_type": "code",
   "execution_count": 160,
   "id": "a546c918",
   "metadata": {
    "ExecuteTime": {
     "end_time": "2021-11-10T07:49:49.158773Z",
     "start_time": "2021-11-10T07:48:35.119626Z"
    }
   },
   "outputs": [
    {
     "name": "stdout",
     "output_type": "stream",
     "text": [
      "Epoch 1/5\n",
      "37/37 - 16s - loss: 0.7374 - accuracy: 0.5199 - val_loss: 0.7023 - val_accuracy: 0.5169 - 16s/epoch - 422ms/step\n",
      "Epoch 2/5\n",
      "37/37 - 15s - loss: 0.0996 - accuracy: 0.9890 - val_loss: 0.8386 - val_accuracy: 0.5068 - 15s/epoch - 398ms/step\n",
      "Epoch 3/5\n",
      "37/37 - 14s - loss: 0.0124 - accuracy: 0.9932 - val_loss: 0.8414 - val_accuracy: 0.5507 - 14s/epoch - 384ms/step\n",
      "Epoch 4/5\n",
      "37/37 - 14s - loss: 0.0109 - accuracy: 0.9941 - val_loss: 0.8701 - val_accuracy: 0.5000 - 14s/epoch - 389ms/step\n",
      "Epoch 5/5\n",
      "37/37 - 15s - loss: 0.0086 - accuracy: 0.9941 - val_loss: 0.8476 - val_accuracy: 0.5304 - 15s/epoch - 397ms/step\n"
     ]
    },
    {
     "data": {
      "text/plain": [
       "<keras.callbacks.History at 0x21e852a06a0>"
      ]
     },
     "execution_count": 160,
     "metadata": {},
     "output_type": "execute_result"
    }
   ],
   "source": [
    "model_ptw2v = Sequential()\n",
    "e = Embedding(100000, 200, input_length=len(length) + 10)\n",
    "model_ptw2v.add(e)\n",
    "model_ptw2v.add(Flatten())\n",
    "model_ptw2v.add(Dense(256, activation='relu'))\n",
    "model_ptw2v.add(Dense(1, activation='sigmoid'))\n",
    "model_ptw2v.compile(loss='binary_crossentropy', optimizer='adam', metrics=['accuracy'])\n",
    "model_ptw2v.fit(x_train_seq, y_train, validation_data=(x_test_seq, y_test), epochs=5, batch_size=32, verbose=2)"
   ]
  },
  {
   "cell_type": "code",
   "execution_count": 161,
   "id": "d6e0d59d",
   "metadata": {
    "ExecuteTime": {
     "end_time": "2021-11-10T07:51:04.572036Z",
     "start_time": "2021-11-10T07:49:49.159772Z"
    }
   },
   "outputs": [
    {
     "name": "stdout",
     "output_type": "stream",
     "text": [
      "Epoch 1/5\n",
      "37/37 - 16s - loss: 2.5773 - accuracy: 0.4979 - val_loss: 1.4746 - val_accuracy: 0.5304 - 16s/epoch - 445ms/step\n",
      "Epoch 2/5\n",
      "37/37 - 15s - loss: 0.2067 - accuracy: 0.9265 - val_loss: 1.6325 - val_accuracy: 0.5101 - 15s/epoch - 403ms/step\n",
      "Epoch 3/5\n",
      "37/37 - 15s - loss: 0.0189 - accuracy: 0.9932 - val_loss: 1.5772 - val_accuracy: 0.5169 - 15s/epoch - 403ms/step\n",
      "Epoch 4/5\n",
      "37/37 - 15s - loss: 0.0057 - accuracy: 0.9966 - val_loss: 1.5678 - val_accuracy: 0.5034 - 15s/epoch - 396ms/step\n",
      "Epoch 5/5\n",
      "37/37 - 14s - loss: 0.0050 - accuracy: 0.9966 - val_loss: 1.5759 - val_accuracy: 0.5068 - 14s/epoch - 379ms/step\n"
     ]
    },
    {
     "data": {
      "text/plain": [
       "<keras.callbacks.History at 0x21f40ab47c0>"
      ]
     },
     "execution_count": 161,
     "metadata": {},
     "output_type": "execute_result"
    }
   ],
   "source": [
    "model_ptw2v = Sequential()\n",
    "e = Embedding(100000, 200, weights=[embedding_matrix], input_length=len(length) + 10, trainable=True)\n",
    "model_ptw2v.add(e)\n",
    "model_ptw2v.add(Flatten())\n",
    "model_ptw2v.add(Dense(256, activation='relu'))\n",
    "model_ptw2v.add(Dense(1, activation='sigmoid'))\n",
    "model_ptw2v.compile(loss='binary_crossentropy', optimizer='adam', metrics=['accuracy'])\n",
    "model_ptw2v.fit(x_train_seq, y_train, validation_data=(x_test_seq, y_test), epochs=5, batch_size=32, verbose=2)"
   ]
  },
  {
   "cell_type": "markdown",
   "id": "7e31e0bf",
   "metadata": {
    "ExecuteTime": {
     "end_time": "2021-11-10T07:33:40.547840Z",
     "start_time": "2021-11-10T07:33:40.536834Z"
    }
   },
   "source": [
    "### TNX: II"
   ]
  },
  {
   "cell_type": "code",
   "execution_count": 162,
   "id": "2209a587",
   "metadata": {
    "ExecuteTime": {
     "end_time": "2021-11-10T07:51:04.684058Z",
     "start_time": "2021-11-10T07:51:04.574037Z"
    }
   },
   "outputs": [
    {
     "name": "stdout",
     "output_type": "stream",
     "text": [
      "Model: \"sequential_20\"\n",
      "_________________________________________________________________\n",
      " Layer (type)                Output Shape              Param #   \n",
      "=================================================================\n",
      " embedding_22 (Embedding)    (None, 1193, 200)         20000000  \n",
      "                                                                 \n",
      " conv1d_16 (Conv1D)          (None, 1192, 100)         40100     \n",
      "                                                                 \n",
      "=================================================================\n",
      "Total params: 20,040,100\n",
      "Trainable params: 20,040,100\n",
      "Non-trainable params: 0\n",
      "_________________________________________________________________\n"
     ]
    }
   ],
   "source": [
    "structure_test = Sequential()\n",
    "e = Embedding(100000, 200, input_length=len(length) + 10)\n",
    "structure_test.add(e)\n",
    "structure_test.add(Conv1D(filters=100, kernel_size=2, padding='valid', activation='relu', strides=1))\n",
    "structure_test.summary()"
   ]
  },
  {
   "cell_type": "code",
   "execution_count": 163,
   "id": "9c498146",
   "metadata": {
    "ExecuteTime": {
     "end_time": "2021-11-10T07:51:04.793950Z",
     "start_time": "2021-11-10T07:51:04.685063Z"
    }
   },
   "outputs": [
    {
     "name": "stdout",
     "output_type": "stream",
     "text": [
      "Model: \"sequential_21\"\n",
      "_________________________________________________________________\n",
      " Layer (type)                Output Shape              Param #   \n",
      "=================================================================\n",
      " embedding_23 (Embedding)    (None, 45, 200)           20000000  \n",
      "                                                                 \n",
      " conv1d_17 (Conv1D)          (None, 44, 100)           40100     \n",
      "                                                                 \n",
      " global_max_pooling1d_14 (Gl  (None, 100)              0         \n",
      " obalMaxPooling1D)                                               \n",
      "                                                                 \n",
      "=================================================================\n",
      "Total params: 20,040,100\n",
      "Trainable params: 20,040,100\n",
      "Non-trainable params: 0\n",
      "_________________________________________________________________\n"
     ]
    }
   ],
   "source": [
    "structure_test = Sequential()\n",
    "e = Embedding(100000, 200, input_length=45)\n",
    "structure_test.add(e)\n",
    "structure_test.add(Conv1D(filters=100, kernel_size=2, padding='valid', activation='relu', strides=1))\n",
    "structure_test.add(GlobalMaxPooling1D())\n",
    "structure_test.summary()"
   ]
  },
  {
   "cell_type": "code",
   "execution_count": 164,
   "id": "049e25c2",
   "metadata": {
    "ExecuteTime": {
     "end_time": "2021-11-10T07:51:21.465083Z",
     "start_time": "2021-11-10T07:51:04.794950Z"
    }
   },
   "outputs": [
    {
     "name": "stdout",
     "output_type": "stream",
     "text": [
      "Epoch 1/5\n",
      "37/37 - 4s - loss: 0.7932 - accuracy: 0.4717 - val_loss: 0.7034 - val_accuracy: 0.5101 - 4s/epoch - 99ms/step\n",
      "Epoch 2/5\n",
      "37/37 - 3s - loss: 0.6540 - accuracy: 0.6272 - val_loss: 0.7029 - val_accuracy: 0.5203 - 3s/epoch - 87ms/step\n",
      "Epoch 3/5\n",
      "37/37 - 3s - loss: 0.6069 - accuracy: 0.7092 - val_loss: 0.7096 - val_accuracy: 0.5068 - 3s/epoch - 87ms/step\n",
      "Epoch 4/5\n",
      "37/37 - 3s - loss: 0.5443 - accuracy: 0.8301 - val_loss: 0.7293 - val_accuracy: 0.4831 - 3s/epoch - 87ms/step\n",
      "Epoch 5/5\n",
      "37/37 - 3s - loss: 0.4871 - accuracy: 0.8022 - val_loss: 0.8987 - val_accuracy: 0.5169 - 3s/epoch - 87ms/step\n"
     ]
    },
    {
     "data": {
      "text/plain": [
       "<keras.callbacks.History at 0x21f78cfd340>"
      ]
     },
     "execution_count": 164,
     "metadata": {},
     "output_type": "execute_result"
    }
   ],
   "source": [
    "model_cnn_01 = Sequential()\n",
    "e = Embedding(100000, 200, weights=[embedding_matrix], input_length=len(length) + 10, trainable=False)\n",
    "model_cnn_01.add(e)\n",
    "model_cnn_01.add(Conv1D(filters=100, kernel_size=2, padding='valid', activation='relu', strides=1))\n",
    "model_cnn_01.add(GlobalMaxPooling1D())\n",
    "model_cnn_01.add(Dense(256, activation='relu'))\n",
    "model_cnn_01.add(Dense(1, activation='sigmoid'))\n",
    "model_cnn_01.compile(loss='binary_crossentropy', optimizer='adam', metrics=['accuracy'])\n",
    "model_cnn_01.fit(x_train_seq, y_train, validation_data=(x_test_seq, y_test), epochs=5, batch_size=32, verbose=2)"
   ]
  },
  {
   "cell_type": "code",
   "execution_count": 165,
   "id": "f64db8ad",
   "metadata": {
    "ExecuteTime": {
     "end_time": "2021-11-10T07:52:00.456564Z",
     "start_time": "2021-11-10T07:51:21.467084Z"
    }
   },
   "outputs": [
    {
     "name": "stdout",
     "output_type": "stream",
     "text": [
      "Epoch 1/5\n",
      "37/37 - 8s - loss: 0.6974 - accuracy: 0.4886 - val_loss: 0.7038 - val_accuracy: 0.5236 - 8s/epoch - 219ms/step\n",
      "Epoch 2/5\n",
      "37/37 - 8s - loss: 0.6806 - accuracy: 0.5461 - val_loss: 0.6928 - val_accuracy: 0.5338 - 8s/epoch - 208ms/step\n",
      "Epoch 3/5\n",
      "37/37 - 8s - loss: 0.6002 - accuracy: 0.7819 - val_loss: 0.7230 - val_accuracy: 0.4797 - 8s/epoch - 207ms/step\n",
      "Epoch 4/5\n",
      "37/37 - 8s - loss: 0.3489 - accuracy: 0.9180 - val_loss: 0.8208 - val_accuracy: 0.4696 - 8s/epoch - 207ms/step\n",
      "Epoch 5/5\n",
      "37/37 - 8s - loss: 0.1036 - accuracy: 0.9856 - val_loss: 1.0115 - val_accuracy: 0.5068 - 8s/epoch - 207ms/step\n"
     ]
    },
    {
     "data": {
      "text/plain": [
       "<keras.callbacks.History at 0x21f311b6370>"
      ]
     },
     "execution_count": 165,
     "metadata": {},
     "output_type": "execute_result"
    }
   ],
   "source": [
    "model_cnn_02 = Sequential()\n",
    "e = Embedding(100000, 200, input_length=len(length) + 10)\n",
    "model_cnn_02.add(e)\n",
    "model_cnn_02.add(Conv1D(filters=100, kernel_size=2, padding='valid', activation='relu', strides=1))\n",
    "model_cnn_02.add(GlobalMaxPooling1D())\n",
    "model_cnn_02.add(Dense(256, activation='relu'))\n",
    "model_cnn_02.add(Dense(1, activation='sigmoid'))\n",
    "model_cnn_02.compile(loss='binary_crossentropy', optimizer='adam', metrics=['accuracy'])\n",
    "model_cnn_02.fit(x_train_seq, y_train, validation_data=(x_test_seq, y_test), epochs=5, batch_size=32, verbose=2)"
   ]
  },
  {
   "cell_type": "code",
   "execution_count": 166,
   "id": "2a0181cc",
   "metadata": {
    "ExecuteTime": {
     "end_time": "2021-11-10T07:52:39.550374Z",
     "start_time": "2021-11-10T07:52:00.460569Z"
    }
   },
   "outputs": [
    {
     "name": "stdout",
     "output_type": "stream",
     "text": [
      "Epoch 1/5\n",
      "37/37 - 8s - loss: 0.7559 - accuracy: 0.5030 - val_loss: 0.7145 - val_accuracy: 0.5000 - 8s/epoch - 219ms/step\n",
      "Epoch 2/5\n",
      "37/37 - 8s - loss: 0.6312 - accuracy: 0.6484 - val_loss: 0.7056 - val_accuracy: 0.5101 - 8s/epoch - 206ms/step\n",
      "Epoch 3/5\n",
      "37/37 - 8s - loss: 0.5365 - accuracy: 0.7828 - val_loss: 0.7990 - val_accuracy: 0.5439 - 8s/epoch - 208ms/step\n",
      "Epoch 4/5\n",
      "37/37 - 8s - loss: 0.4304 - accuracy: 0.8673 - val_loss: 0.7372 - val_accuracy: 0.5000 - 8s/epoch - 207ms/step\n",
      "Epoch 5/5\n",
      "37/37 - 8s - loss: 0.3051 - accuracy: 0.9527 - val_loss: 0.7914 - val_accuracy: 0.5135 - 8s/epoch - 210ms/step\n"
     ]
    },
    {
     "data": {
      "text/plain": [
       "<keras.callbacks.History at 0x21f6ff4bf70>"
      ]
     },
     "execution_count": 166,
     "metadata": {},
     "output_type": "execute_result"
    }
   ],
   "source": [
    "model_cnn_03 = Sequential()\n",
    "e = Embedding(100000, 200, weights=[embedding_matrix], input_length=len(length) + 10, trainable=True)\n",
    "model_cnn_03.add(e)\n",
    "model_cnn_03.add(Conv1D(filters=100, kernel_size=2, padding='valid', activation='relu', strides=1))\n",
    "model_cnn_03.add(GlobalMaxPooling1D())\n",
    "model_cnn_03.add(Dense(256, activation='relu'))\n",
    "model_cnn_03.add(Dense(1, activation='sigmoid'))\n",
    "model_cnn_03.compile(loss='binary_crossentropy', optimizer='adam', metrics=['accuracy'])\n",
    "model_cnn_03.fit(x_train_seq, y_train, validation_data=(x_test_seq, y_test), epochs=5, batch_size=32, verbose=2)"
   ]
  },
  {
   "cell_type": "code",
   "execution_count": 167,
   "id": "1ff8f23a",
   "metadata": {
    "ExecuteTime": {
     "end_time": "2021-11-10T07:52:39.742431Z",
     "start_time": "2021-11-10T07:52:39.551374Z"
    }
   },
   "outputs": [
    {
     "name": "stdout",
     "output_type": "stream",
     "text": [
      "Model: \"model_2\"\n",
      "__________________________________________________________________________________________________\n",
      " Layer (type)                   Output Shape         Param #     Connected to                     \n",
      "==================================================================================================\n",
      " input_3 (InputLayer)           [(None, 1193)]       0           []                               \n",
      "                                                                                                  \n",
      " embedding_27 (Embedding)       (None, 1193, 200)    20000000    ['input_3[0][0]']                \n",
      "                                                                                                  \n",
      " conv1d_21 (Conv1D)             (None, 1192, 100)    40100       ['embedding_27[0][0]']           \n",
      "                                                                                                  \n",
      " conv1d_22 (Conv1D)             (None, 1191, 100)    60100       ['embedding_27[0][0]']           \n",
      "                                                                                                  \n",
      " conv1d_23 (Conv1D)             (None, 1190, 100)    80100       ['embedding_27[0][0]']           \n",
      "                                                                                                  \n",
      " global_max_pooling1d_18 (Globa  (None, 100)         0           ['conv1d_21[0][0]']              \n",
      " lMaxPooling1D)                                                                                   \n",
      "                                                                                                  \n",
      " global_max_pooling1d_19 (Globa  (None, 100)         0           ['conv1d_22[0][0]']              \n",
      " lMaxPooling1D)                                                                                   \n",
      "                                                                                                  \n",
      " global_max_pooling1d_20 (Globa  (None, 100)         0           ['conv1d_23[0][0]']              \n",
      " lMaxPooling1D)                                                                                   \n",
      "                                                                                                  \n",
      " concatenate_2 (Concatenate)    (None, 300)          0           ['global_max_pooling1d_18[0][0]',\n",
      "                                                                  'global_max_pooling1d_19[0][0]',\n",
      "                                                                  'global_max_pooling1d_20[0][0]']\n",
      "                                                                                                  \n",
      " dense_42 (Dense)               (None, 256)          77056       ['concatenate_2[0][0]']          \n",
      "                                                                                                  \n",
      " dropout_2 (Dropout)            (None, 256)          0           ['dense_42[0][0]']               \n",
      "                                                                                                  \n",
      " dense_43 (Dense)               (None, 1)            257         ['dropout_2[0][0]']              \n",
      "                                                                                                  \n",
      " activation_2 (Activation)      (None, 1)            0           ['dense_43[0][0]']               \n",
      "                                                                                                  \n",
      "==================================================================================================\n",
      "Total params: 20,257,613\n",
      "Trainable params: 20,257,613\n",
      "Non-trainable params: 0\n",
      "__________________________________________________________________________________________________\n"
     ]
    }
   ],
   "source": [
    "tweet_input = Input(shape=(len(length) + 10,), dtype='int32')\n",
    "\n",
    "tweet_encoder = Embedding(100000, 200, weights=[embedding_matrix], input_length=len(length) + 10, trainable=True)(\n",
    "    tweet_input)\n",
    "bigram_branch = Conv1D(filters=100, kernel_size=2, padding='valid', activation='relu', strides=1)(tweet_encoder)\n",
    "bigram_branch = GlobalMaxPooling1D()(bigram_branch)\n",
    "trigram_branch = Conv1D(filters=100, kernel_size=3, padding='valid', activation='relu', strides=1)(tweet_encoder)\n",
    "trigram_branch = GlobalMaxPooling1D()(trigram_branch)\n",
    "fourgram_branch = Conv1D(filters=100, kernel_size=4, padding='valid', activation='relu', strides=1)(tweet_encoder)\n",
    "fourgram_branch = GlobalMaxPooling1D()(fourgram_branch)\n",
    "merged = concatenate([bigram_branch, trigram_branch, fourgram_branch], axis=1)\n",
    "\n",
    "merged = Dense(256, activation='relu')(merged)\n",
    "merged = Dropout(0.2)(merged)\n",
    "merged = Dense(1)(merged)\n",
    "output = Activation('sigmoid')(merged)\n",
    "model = Model(inputs=[tweet_input], outputs=[output])\n",
    "model.compile(loss='binary_crossentropy',\n",
    "              optimizer='adam',\n",
    "              metrics=['accuracy'])\n",
    "model.summary()"
   ]
  },
  {
   "cell_type": "code",
   "execution_count": 168,
   "id": "ddd45fb2",
   "metadata": {
    "ExecuteTime": {
     "end_time": "2021-11-10T07:53:54.558353Z",
     "start_time": "2021-11-10T07:52:39.744425Z"
    }
   },
   "outputs": [
    {
     "name": "stdout",
     "output_type": "stream",
     "text": [
      "Epoch 1/5\n",
      "37/37 [==============================] - ETA: 0s - loss: 1.2066 - accuracy: 0.5013\n",
      "Epoch 00001: val_accuracy improved from -inf to 0.47973, saving model to CNN_best_weights.01-0.4797.hdf5\n",
      "37/37 [==============================] - 15s 387ms/step - loss: 1.2066 - accuracy: 0.5013 - val_loss: 0.8367 - val_accuracy: 0.4797\n",
      "Epoch 2/5\n",
      "37/37 [==============================] - ETA: 0s - loss: 0.6563 - accuracy: 0.6298\n",
      "Epoch 00002: val_accuracy improved from 0.47973 to 0.48311, saving model to CNN_best_weights.02-0.4831.hdf5\n",
      "37/37 [==============================] - 14s 382ms/step - loss: 0.6563 - accuracy: 0.6298 - val_loss: 0.7734 - val_accuracy: 0.4831\n",
      "Epoch 3/5\n",
      "37/37 [==============================] - ETA: 0s - loss: 0.5026 - accuracy: 0.7540\n",
      "Epoch 00003: val_accuracy improved from 0.48311 to 0.48986, saving model to CNN_best_weights.03-0.4899.hdf5\n",
      "37/37 [==============================] - 15s 412ms/step - loss: 0.5026 - accuracy: 0.7540 - val_loss: 0.7208 - val_accuracy: 0.4899\n",
      "Epoch 4/5\n",
      "37/37 [==============================] - ETA: 0s - loss: 0.3582 - accuracy: 0.9138\n",
      "Epoch 00004: val_accuracy improved from 0.48986 to 0.49324, saving model to CNN_best_weights.04-0.4932.hdf5\n",
      "37/37 [==============================] - 16s 423ms/step - loss: 0.3582 - accuracy: 0.9138 - val_loss: 0.7464 - val_accuracy: 0.4932\n",
      "Epoch 5/5\n",
      "37/37 [==============================] - ETA: 0s - loss: 0.2494 - accuracy: 0.9586\n",
      "Epoch 00005: val_accuracy did not improve from 0.49324\n",
      "37/37 [==============================] - 15s 404ms/step - loss: 0.2494 - accuracy: 0.9586 - val_loss: 0.8707 - val_accuracy: 0.4797\n"
     ]
    },
    {
     "data": {
      "text/plain": [
       "<keras.callbacks.History at 0x21f6feab6d0>"
      ]
     },
     "execution_count": 168,
     "metadata": {},
     "output_type": "execute_result"
    }
   ],
   "source": [
    "from keras.callbacks import ModelCheckpoint\n",
    "\n",
    "filepath = \"CNN_best_weights.{epoch:02d}-{val_accuracy:.4f}.hdf5\"\n",
    "checkpoint = ModelCheckpoint(filepath, monitor='val_accuracy', verbose=1, save_best_only=True, mode='max')\n",
    "\n",
    "model.fit(x_train_seq, y_train, batch_size=32, epochs=5,\n",
    "          validation_data=(x_test_seq, y_test), callbacks=[checkpoint])"
   ]
  },
  {
   "cell_type": "code",
   "execution_count": 169,
   "id": "7c4a09a3",
   "metadata": {
    "ExecuteTime": {
     "end_time": "2021-11-10T07:54:12.564857Z",
     "start_time": "2021-11-10T07:54:11.387449Z"
    }
   },
   "outputs": [
    {
     "name": "stdout",
     "output_type": "stream",
     "text": [
      "10/10 [==============================] - 1s 70ms/step - loss: 0.8367 - accuracy: 0.4797\n"
     ]
    },
    {
     "data": {
      "text/plain": [
       "[0.8366792798042297, 0.4797297418117523]"
      ]
     },
     "execution_count": 169,
     "metadata": {},
     "output_type": "execute_result"
    }
   ],
   "source": [
    "loaded_CNN_model = load_model('CNN_best_weights.01-0.4797.hdf5')\n",
    "loaded_CNN_model.evaluate(x=x_test_seq, y=y_test)"
   ]
  },
  {
   "cell_type": "code",
   "execution_count": 170,
   "id": "26f9418a",
   "metadata": {
    "ExecuteTime": {
     "end_time": "2021-11-10T07:54:32.670711Z",
     "start_time": "2021-11-10T07:54:12.567859Z"
    }
   },
   "outputs": [
    {
     "data": {
      "text/plain": [
       "TfidfVectorizer(max_features=100000, ngram_range=(1, 3))"
      ]
     },
     "execution_count": 170,
     "metadata": {},
     "output_type": "execute_result"
    }
   ],
   "source": [
    "tvec = TfidfVectorizer(max_features=100000, ngram_range=(1, 3))\n",
    "tvec.fit(x_train)"
   ]
  },
  {
   "cell_type": "code",
   "execution_count": 171,
   "id": "122305d5",
   "metadata": {
    "ExecuteTime": {
     "end_time": "2021-11-10T07:54:44.057157Z",
     "start_time": "2021-11-10T07:54:32.671711Z"
    }
   },
   "outputs": [],
   "source": [
    "x_train_tfidf = tvec.transform(x_train)\n",
    "x_test_tfidf = tvec.transform(x_test)"
   ]
  },
  {
   "cell_type": "code",
   "execution_count": 172,
   "id": "621ba0bf",
   "metadata": {
    "ExecuteTime": {
     "end_time": "2021-11-10T07:54:46.019343Z",
     "start_time": "2021-11-10T07:54:44.059151Z"
    }
   },
   "outputs": [
    {
     "data": {
      "text/plain": [
       "LogisticRegression()"
      ]
     },
     "execution_count": 172,
     "metadata": {},
     "output_type": "execute_result"
    }
   ],
   "source": [
    "lr_with_tfidf = LogisticRegression()\n",
    "lr_with_tfidf.fit(x_train_tfidf, y_train)"
   ]
  },
  {
   "cell_type": "code",
   "execution_count": 173,
   "id": "970acfc6",
   "metadata": {
    "ExecuteTime": {
     "end_time": "2021-11-10T07:54:46.051366Z",
     "start_time": "2021-11-10T07:54:46.021342Z"
    }
   },
   "outputs": [
    {
     "data": {
      "text/plain": [
       "0.47635135135135137"
      ]
     },
     "execution_count": 173,
     "metadata": {},
     "output_type": "execute_result"
    }
   ],
   "source": [
    "lr_with_tfidf.score(x_test_tfidf, y_test)"
   ]
  },
  {
   "cell_type": "code",
   "execution_count": 174,
   "id": "01bd5469",
   "metadata": {
    "ExecuteTime": {
     "end_time": "2021-11-10T07:54:46.067356Z",
     "start_time": "2021-11-10T07:54:46.053350Z"
    }
   },
   "outputs": [],
   "source": [
    "yhat_lr = lr_with_tfidf.predict_proba(x_test_tfidf)"
   ]
  },
  {
   "cell_type": "code",
   "execution_count": 175,
   "id": "7de4dd4e",
   "metadata": {
    "ExecuteTime": {
     "end_time": "2021-11-10T07:54:46.657483Z",
     "start_time": "2021-11-10T07:54:46.069356Z"
    }
   },
   "outputs": [],
   "source": [
    "sequences_test = tokenizer.texts_to_sequences(x_test)\n",
    "x_test_seq = pad_sequences(sequences_test, maxlen=len(length) + 10)"
   ]
  },
  {
   "cell_type": "code",
   "execution_count": 176,
   "id": "8b81b0cd",
   "metadata": {
    "ExecuteTime": {
     "end_time": "2021-11-10T07:54:47.389450Z",
     "start_time": "2021-11-10T07:54:46.659486Z"
    }
   },
   "outputs": [
    {
     "name": "stdout",
     "output_type": "stream",
     "text": [
      "10/10 [==============================] - 1s 67ms/step - loss: 0.8367 - accuracy: 0.4797\n"
     ]
    },
    {
     "data": {
      "text/plain": [
       "[0.8366792798042297, 0.4797297418117523]"
      ]
     },
     "execution_count": 176,
     "metadata": {},
     "output_type": "execute_result"
    }
   ],
   "source": [
    "loaded_CNN_model.evaluate(x=x_test_seq, y=y_test)"
   ]
  },
  {
   "cell_type": "code",
   "execution_count": 177,
   "id": "9af6ff53",
   "metadata": {
    "ExecuteTime": {
     "end_time": "2021-11-10T07:54:48.116749Z",
     "start_time": "2021-11-10T07:54:47.391452Z"
    }
   },
   "outputs": [],
   "source": [
    "yhat_cnn = loaded_CNN_model.predict(x_test_seq)"
   ]
  },
  {
   "cell_type": "code",
   "execution_count": 178,
   "id": "838b11af",
   "metadata": {
    "ExecuteTime": {
     "end_time": "2021-11-10T07:54:48.259814Z",
     "start_time": "2021-11-10T07:54:48.117752Z"
    }
   },
   "outputs": [
    {
     "data": {
      "image/png": "[encoded data removed]",
      "text/plain": [
       "<Figure size 576x504 with 1 Axes>"
      ]
     },
     "metadata": {
      "needs_background": "light"
     },
     "output_type": "display_data"
    }
   ],
   "source": [
    "from sklearn.metrics import roc_curve, auc\n",
    "\n",
    "fpr, tpr, threshold = roc_curve(y_test, yhat_lr[:, 1])\n",
    "roc_auc = auc(fpr, tpr)\n",
    "fpr_cnn, tpr_cnn, threshold = roc_curve(y_test, yhat_cnn)\n",
    "roc_auc_nn = auc(fpr_cnn, tpr_cnn)\n",
    "plt.figure(figsize=(8, 7))\n",
    "plt.plot(fpr, tpr, label='tfidf-logit (area = %0.3f)' % roc_auc, linewidth=2)\n",
    "plt.plot(fpr_cnn, tpr_cnn, label='w2v-CNN (area = %0.3f)' % roc_auc_nn, linewidth=2)\n",
    "\n",
    "plt.plot([0, 1], [0, 1], 'k--', linewidth=2)\n",
    "plt.xlim([-0.05, 1.0])\n",
    "plt.ylim([-0.05, 1.05])\n",
    "plt.xlabel('False Positive Rate', fontsize=18)\n",
    "plt.ylabel('True Positive Rate', fontsize=18)\n",
    "plt.title('Receiver operating characteristic: is positive', fontsize=18)\n",
    "plt.legend(loc=\"lower right\")\n",
    "plt.show()"
   ]
  },
  {
   "cell_type": "markdown",
   "id": "127a4a8e",
   "metadata": {},
   "source": [
    "### IRX: I"
   ]
  },
  {
   "cell_type": "code",
   "execution_count": 189,
   "id": "ccce5287",
   "metadata": {
    "ExecuteTime": {
     "end_time": "2021-11-10T08:04:16.218383Z",
     "start_time": "2021-11-10T08:04:16.201380Z"
    }
   },
   "outputs": [
    {
     "name": "stdout",
     "output_type": "stream",
     "text": [
      "Train set has total 1183 entries with 61.88% negative, 38.12% positive\n",
      "Test set has total 296 entries with 59.12% negative, 40.88% positive\n"
     ]
    }
   ],
   "source": [
    "x = df_speech['full_text']\n",
    "y = df_speech['IRX']\n",
    "SEED = 2000\n",
    "x_train, x_test, y_train, y_test = train_test_split(x, y, test_size=.2, random_state=SEED)\n",
    "set_des(x_train, x_test, y_train, y_test)"
   ]
  },
  {
   "cell_type": "code",
   "execution_count": 190,
   "id": "09978538",
   "metadata": {
    "ExecuteTime": {
     "end_time": "2021-11-10T08:04:17.039786Z",
     "start_time": "2021-11-10T08:04:17.018781Z"
    }
   },
   "outputs": [],
   "source": [
    "def labelize_ug(tweets, label):\n",
    "    result = []\n",
    "    prefix = label\n",
    "    for i, t in zip(tweets.index, tweets):\n",
    "        result.append(TaggedDocument(t.split(), [prefix + '_%s' % i]))\n",
    "    return result"
   ]
  },
  {
   "cell_type": "code",
   "execution_count": 191,
   "id": "11e587b3",
   "metadata": {
    "ExecuteTime": {
     "end_time": "2021-11-10T08:04:18.099210Z",
     "start_time": "2021-11-10T08:04:17.797860Z"
    }
   },
   "outputs": [],
   "source": [
    "all_x_w2v = labelize_ug(x, 'all')"
   ]
  },
  {
   "cell_type": "code",
   "execution_count": 192,
   "id": "bcabafb8",
   "metadata": {
    "ExecuteTime": {
     "end_time": "2021-11-10T08:04:20.308232Z",
     "start_time": "2021-11-10T08:04:19.168482Z"
    }
   },
   "outputs": [
    {
     "name": "stderr",
     "output_type": "stream",
     "text": [
      "100%|█████████████████████████████████████████████████████████████████████████| 1479/1479 [00:00<00:00, 1466519.06it/s]\n"
     ]
    }
   ],
   "source": [
    "model_ug_cbow = Word2Vec(sg=0, negative=5, window=2, min_count=2, workers=16, alpha=0.065, min_alpha=0.065)\n",
    "model_ug_cbow.build_vocab([x.words for x in tqdm(all_x_w2v)])"
   ]
  },
  {
   "cell_type": "code",
   "execution_count": 193,
   "id": "6ded8229",
   "metadata": {
    "ExecuteTime": {
     "end_time": "2021-11-10T08:05:12.016383Z",
     "start_time": "2021-11-10T08:04:20.310221Z"
    }
   },
   "outputs": [
    {
     "name": "stderr",
     "output_type": "stream",
     "text": [
      "100%|█████████████████████████████████████████████████████████████████████████| 1479/1479 [00:00<00:00, 1469297.87it/s]\n",
      "100%|██████████████████████████████████████████████████████████████████████████████████████| 1479/1479 [00:00<?, ?it/s]\n",
      "100%|█████████████████████████████████████████████████████████████████████████| 1479/1479 [00:00<00:00, 1479812.89it/s]\n",
      "100%|██████████████████████████████████████████████████████████████████████████████████████| 1479/1479 [00:00<?, ?it/s]\n",
      "100%|█████████████████████████████████████████████████████████████████████████| 1479/1479 [00:00<00:00, 1486906.91it/s]\n",
      "100%|█████████████████████████████████████████████████████████████████████████| 1479/1479 [00:00<00:00, 1479107.20it/s]\n",
      "100%|█████████████████████████████████████████████████████████████████████████| 1479/1479 [00:00<00:00, 1469297.87it/s]\n",
      "100%|██████████████████████████████████████████████████████████████████████████████████████| 1479/1479 [00:00<?, ?it/s]\n",
      "100%|█████████████████████████████████████████████████████████████████████████| 1479/1479 [00:00<00:00, 1480519.24it/s]\n",
      "100%|█████████████████████████████████████████████████████████████████████████| 1479/1479 [00:00<00:00, 1477697.86it/s]\n",
      "100%|█████████████████████████████████████████████████████████████████████████| 1479/1479 [00:00<00:00, 1479107.20it/s]\n",
      "100%|██████████████████████████████████████████████████████████████████████████████████████| 1479/1479 [00:00<?, ?it/s]\n",
      "100%|█████████████████████████████████████████████████████████████████████████| 1479/1479 [00:00<00:00, 2736380.95it/s]\n",
      "100%|█████████████████████████████████████████████████████████████████████████| 1479/1479 [00:00<00:00, 2861335.62it/s]\n",
      "100%|█████████████████████████████████████████████████████████████████████████| 1479/1479 [00:00<00:00, 1480165.98it/s]\n",
      "100%|█████████████████████████████████████████████████████████████████████████| 1479/1479 [00:00<00:00, 1491913.33it/s]\n",
      "100%|██████████████████████████████████████████████████████████████████████████████████████| 1479/1479 [00:00<?, ?it/s]\n",
      "100%|██████████████████████████████████████████████████████████████████████████████████████| 1479/1479 [00:00<?, ?it/s]\n",
      "100%|██████████████████████████████████████████████████████████████████████████████████████| 1479/1479 [00:00<?, ?it/s]\n",
      "100%|█████████████████████████████████████████████████████████████████████████| 1479/1479 [00:00<00:00, 1478049.94it/s]\n",
      "100%|█████████████████████████████████████████████████████████████████████████| 1479/1479 [00:00<00:00, 1478402.20it/s]\n",
      "100%|██████████████████████████████████████████████████████████████████████████████████████| 1479/1479 [00:00<?, ?it/s]\n",
      "100%|█████████████████████████████████████████████████████████████████████████| 1479/1479 [00:00<00:00, 1478754.62it/s]\n",
      "100%|█████████████████████████████████████████████████████████████████████████| 1479/1479 [00:00<00:00, 1485838.47it/s]\n",
      "100%|█████████████████████████████████████████████████████████████████████████| 1479/1479 [00:00<00:00, 1476291.20it/s]\n",
      "100%|█████████████████████████████████████████████████████████████████████████| 1479/1479 [00:00<00:00, 1481580.04it/s]\n",
      "100%|█████████████████████████████████████████████████████████████████████████| 1479/1479 [00:00<00:00, 1494429.20it/s]\n",
      "100%|█████████████████████████████████████████████████████████████████████████| 1479/1479 [00:00<00:00, 1478402.20it/s]\n",
      "100%|█████████████████████████████████████████████████████████████████████████| 1479/1479 [00:00<00:00, 1477345.94it/s]\n",
      "100%|█████████████████████████████████████████████████████████████████████████| 1479/1479 [00:00<00:00, 1478402.20it/s]\n"
     ]
    },
    {
     "name": "stdout",
     "output_type": "stream",
     "text": [
      "Wall time: 51.7 s\n"
     ]
    }
   ],
   "source": [
    "% % time\n",
    "for epoch in range(30):\n",
    "    model_ug_cbow.train(utils.shuffle([x.words for x in tqdm(all_x_w2v)]), total_examples=len(all_x_w2v), epochs=1)\n",
    "    model_ug_cbow.alpha -= 0.002\n",
    "    model_ug_cbow.min_alpha = model_ug_cbow.alpha"
   ]
  },
  {
   "cell_type": "code",
   "execution_count": 194,
   "id": "b64ad4b3",
   "metadata": {
    "ExecuteTime": {
     "end_time": "2021-11-10T08:05:13.097043Z",
     "start_time": "2021-11-10T08:05:12.018372Z"
    }
   },
   "outputs": [
    {
     "name": "stderr",
     "output_type": "stream",
     "text": [
      "100%|█████████████████████████████████████████████████████████████████████████| 1479/1479 [00:00<00:00, 1471039.98it/s]\n"
     ]
    }
   ],
   "source": [
    "model_ug_sg = Word2Vec(sg=1, negative=5, window=2, min_count=2, workers=16, alpha=0.065, min_alpha=0.065)\n",
    "model_ug_sg.build_vocab([x.words for x in tqdm(all_x_w2v)])"
   ]
  },
  {
   "cell_type": "code",
   "execution_count": 195,
   "id": "fcbd99e9",
   "metadata": {
    "ExecuteTime": {
     "end_time": "2021-11-10T08:06:10.861919Z",
     "start_time": "2021-11-10T08:05:13.098023Z"
    }
   },
   "outputs": [
    {
     "name": "stderr",
     "output_type": "stream",
     "text": [
      "100%|█████████████████████████████████████████████████████████████████████████| 1479/1479 [00:00<00:00, 1471039.98it/s]\n",
      "100%|█████████████████████████████████████████████████████████████████████████| 1479/1479 [00:00<00:00, 1482642.36it/s]\n",
      "100%|█████████████████████████████████████████████████████████████████████████| 1479/1479 [00:00<00:00, 1482288.08it/s]\n",
      "100%|█████████████████████████████████████████████████████████████████████████| 1479/1479 [00:00<00:00, 1482642.36it/s]\n",
      "100%|█████████████████████████████████████████████████████████████████████████| 1479/1479 [00:00<00:00, 1479459.96it/s]\n",
      "100%|██████████████████████████████████████████████████████████████████████████████████████| 1479/1479 [00:00<?, ?it/s]\n",
      "100%|█████████████████████████████████████████████████████████████████████████| 1479/1479 [00:00<00:00, 1479459.96it/s]\n",
      "100%|█████████████████████████████████████████████████████████████████████████| 1479/1479 [00:00<00:00, 1475588.87it/s]\n",
      "100%|██████████████████████████████████████████████████████████████████████████████████████| 1479/1479 [00:00<?, ?it/s]\n",
      "100%|██████████████████████████████████████████████████████████████████████████████████████| 1479/1479 [00:00<?, ?it/s]\n",
      "100%|██████████████████████████████████████████████████████████████████████████████████████| 1479/1479 [00:00<?, ?it/s]\n",
      "100%|██████████████████████████████████████████████████████████████████████████████████████| 1479/1479 [00:00<?, ?it/s]\n",
      "100%|█████████████████████████████████████████████████████████████████████████| 1479/1479 [00:00<00:00, 1481933.97it/s]\n",
      "100%|██████████████████████████████████████████████████████████████████████████████████████| 1479/1479 [00:00<?, ?it/s]\n",
      "100%|██████████████████████████████████████████████████████████████████████████████████████| 1479/1479 [00:00<?, ?it/s]\n",
      "100%|██████████████████████████████████████████████████████████████████████████████████████| 1479/1479 [00:00<?, ?it/s]\n",
      "100%|█████████████████████████████████████████████████████████████████████████| 1479/1479 [00:00<00:00, 1480165.98it/s]\n",
      "100%|█████████████████████████████████████████████████████████████████████████| 1479/1479 [00:00<00:00, 1480519.24it/s]\n",
      "100%|█████████████████████████████████████████████████████████████████████████| 1479/1479 [00:00<00:00, 1431658.35it/s]\n",
      "100%|█████████████████████████████████████████████████████████████████████████| 1479/1479 [00:00<00:00, 1478754.62it/s]\n",
      "100%|██████████████████████████████████████████████████████████████████████████████████████| 1479/1479 [00:00<?, ?it/s]\n",
      "100%|█████████████████████████████████████████████████████████████████████████| 1479/1479 [00:00<00:00, 1479812.89it/s]\n",
      "100%|█████████████████████████████████████████████████████████████████████████| 1479/1479 [00:00<00:00, 1480519.24it/s]\n",
      "100%|█████████████████████████████████████████████████████████████████████████| 1479/1479 [00:00<00:00, 1479812.89it/s]\n",
      "100%|██████████████████████████████████████████████████████████████████████████████████████| 1479/1479 [00:00<?, ?it/s]\n",
      "100%|██████████████████████████████████████████████████████████████████████████| 1479/1479 [00:00<00:00, 493035.73it/s]\n",
      "100%|█████████████████████████████████████████████████████████████████████████| 1479/1479 [00:00<00:00, 1480165.98it/s]\n",
      "100%|██████████████████████████████████████████████████████████████████████████████████████| 1479/1479 [00:00<?, ?it/s]\n",
      "100%|█████████████████████████████████████████████████████████████████████████| 1479/1479 [00:00<00:00, 1479812.89it/s]\n",
      "100%|█████████████████████████████████████████████████████████████████████████| 1479/1479 [00:00<00:00, 1481226.27it/s]\n"
     ]
    },
    {
     "name": "stdout",
     "output_type": "stream",
     "text": [
      "Wall time: 57.7 s\n"
     ]
    }
   ],
   "source": [
    "% % time\n",
    "for epoch in range(30):\n",
    "    model_ug_sg.train(utils.shuffle([x.words for x in tqdm(all_x_w2v)]), total_examples=len(all_x_w2v), epochs=1)\n",
    "    model_ug_sg.alpha -= 0.002\n",
    "    model_ug_sg.min_alpha = model_ug_sg.alpha"
   ]
  },
  {
   "cell_type": "code",
   "execution_count": 196,
   "id": "44bdfe34",
   "metadata": {
    "ExecuteTime": {
     "end_time": "2021-11-10T08:06:10.925011Z",
     "start_time": "2021-11-10T08:06:10.863920Z"
    }
   },
   "outputs": [],
   "source": [
    "model_ug_cbow.save('w2v_model_ug_cbow.word2vec')\n",
    "model_ug_sg.save('w2v_model_ug_sg.word2vec')"
   ]
  },
  {
   "cell_type": "code",
   "execution_count": 197,
   "id": "ce74b81d",
   "metadata": {
    "ExecuteTime": {
     "end_time": "2021-11-10T08:06:11.427015Z",
     "start_time": "2021-11-10T08:06:10.926135Z"
    }
   },
   "outputs": [],
   "source": [
    "model_ug_cbow = KeyedVectors.load('w2v_model_ug_cbow.word2vec')\n",
    "model_ug_sg = KeyedVectors.load('w2v_model_ug_sg.word2vec')"
   ]
  },
  {
   "cell_type": "code",
   "execution_count": 198,
   "id": "20b62ecb",
   "metadata": {
    "ExecuteTime": {
     "end_time": "2021-11-10T08:06:11.443005Z",
     "start_time": "2021-11-10T08:06:11.429010Z"
    }
   },
   "outputs": [
    {
     "data": {
      "text/plain": [
       "27847"
      ]
     },
     "execution_count": 198,
     "metadata": {},
     "output_type": "execute_result"
    }
   ],
   "source": [
    "len(model_ug_cbow.wv.index_to_key)"
   ]
  },
  {
   "cell_type": "code",
   "execution_count": 199,
   "id": "68ad80b7",
   "metadata": {
    "ExecuteTime": {
     "end_time": "2021-11-10T08:06:11.618637Z",
     "start_time": "2021-11-10T08:06:11.444999Z"
    }
   },
   "outputs": [
    {
     "name": "stdout",
     "output_type": "stream",
     "text": [
      "Found 27847 word vectors.\n"
     ]
    }
   ],
   "source": [
    "embeddings_index = {}\n",
    "for w in model_ug_cbow.wv.index_to_key:\n",
    "    embeddings_index[w] = np.append(model_ug_cbow.wv[w], model_ug_sg.wv[w])\n",
    "print('Found %s word vectors.' % len(embeddings_index))"
   ]
  },
  {
   "cell_type": "code",
   "execution_count": 200,
   "id": "86870a68",
   "metadata": {
    "ExecuteTime": {
     "end_time": "2021-11-10T08:06:15.244878Z",
     "start_time": "2021-11-10T08:06:11.620636Z"
    }
   },
   "outputs": [],
   "source": [
    "tokenizer = Tokenizer(num_words=100000)\n",
    "tokenizer.fit_on_texts(x_train)\n",
    "sequences = tokenizer.texts_to_sequences(x_train)"
   ]
  },
  {
   "cell_type": "code",
   "execution_count": 201,
   "id": "53028b50",
   "metadata": {
    "ExecuteTime": {
     "end_time": "2021-11-10T08:06:15.260867Z",
     "start_time": "2021-11-10T08:06:15.246865Z"
    }
   },
   "outputs": [
    {
     "data": {
      "text/plain": [
       "27401"
      ]
     },
     "execution_count": 201,
     "metadata": {},
     "output_type": "execute_result"
    }
   ],
   "source": [
    "len(tokenizer.word_index)"
   ]
  },
  {
   "cell_type": "code",
   "execution_count": 202,
   "id": "713678c6",
   "metadata": {
    "ExecuteTime": {
     "end_time": "2021-11-10T08:06:15.451250Z",
     "start_time": "2021-11-10T08:06:15.262867Z"
    }
   },
   "outputs": [],
   "source": [
    "length = []\n",
    "for x in x_train:\n",
    "    length.append(len(x.split()))"
   ]
  },
  {
   "cell_type": "code",
   "execution_count": 203,
   "id": "0cf80cec",
   "metadata": {
    "ExecuteTime": {
     "end_time": "2021-11-10T08:06:15.514261Z",
     "start_time": "2021-11-10T08:06:15.453058Z"
    }
   },
   "outputs": [
    {
     "name": "stdout",
     "output_type": "stream",
     "text": [
      "Shape of data tensor: (1183, 1193)\n"
     ]
    }
   ],
   "source": [
    "x_train_seq = pad_sequences(sequences, maxlen=len(length) + 10)\n",
    "print('Shape of data tensor:', x_train_seq.shape)"
   ]
  },
  {
   "cell_type": "code",
   "execution_count": 204,
   "id": "1ed57a7e",
   "metadata": {
    "ExecuteTime": {
     "end_time": "2021-11-10T08:06:15.970939Z",
     "start_time": "2021-11-10T08:06:15.515560Z"
    }
   },
   "outputs": [],
   "source": [
    "sequences_val = tokenizer.texts_to_sequences(x_test)\n",
    "x_test_seq = pad_sequences(sequences_val, maxlen=len(length) + 10)"
   ]
  },
  {
   "cell_type": "code",
   "execution_count": 205,
   "id": "45c69ace",
   "metadata": {
    "ExecuteTime": {
     "end_time": "2021-11-10T08:06:16.018163Z",
     "start_time": "2021-11-10T08:06:15.972737Z"
    }
   },
   "outputs": [],
   "source": [
    "num_words = 100000\n",
    "embedding_matrix = np.zeros((num_words, 200))\n",
    "for word, i in tokenizer.word_index.items():\n",
    "    if i >= num_words:\n",
    "        continue\n",
    "    embedding_vector = embeddings_index.get(word)\n",
    "    if embedding_vector is not None:\n",
    "        embedding_matrix[i] = embedding_vector"
   ]
  },
  {
   "cell_type": "code",
   "execution_count": 206,
   "id": "b461e305",
   "metadata": {
    "ExecuteTime": {
     "end_time": "2021-11-10T08:06:55.397437Z",
     "start_time": "2021-11-10T08:06:16.019134Z"
    }
   },
   "outputs": [
    {
     "name": "stdout",
     "output_type": "stream",
     "text": [
      "Epoch 1/5\n",
      "37/37 - 8s - loss: 3.4346 - accuracy: 0.5139 - val_loss: 0.8769 - val_accuracy: 0.4628 - 8s/epoch - 219ms/step\n",
      "Epoch 2/5\n",
      "37/37 - 8s - loss: 0.2070 - accuracy: 0.9239 - val_loss: 0.9405 - val_accuracy: 0.5541 - 8s/epoch - 210ms/step\n",
      "Epoch 3/5\n",
      "37/37 - 8s - loss: 0.0299 - accuracy: 0.9975 - val_loss: 1.0633 - val_accuracy: 0.5709 - 8s/epoch - 207ms/step\n",
      "Epoch 4/5\n",
      "37/37 - 8s - loss: 0.0170 - accuracy: 0.9975 - val_loss: 1.1726 - val_accuracy: 0.5642 - 8s/epoch - 207ms/step\n",
      "Epoch 5/5\n",
      "37/37 - 8s - loss: 0.0116 - accuracy: 0.9983 - val_loss: 1.2061 - val_accuracy: 0.5676 - 8s/epoch - 208ms/step\n"
     ]
    },
    {
     "data": {
      "text/plain": [
       "<keras.callbacks.History at 0x21e4214a490>"
      ]
     },
     "execution_count": 206,
     "metadata": {},
     "output_type": "execute_result"
    }
   ],
   "source": [
    "model_ptw2v = Sequential()\n",
    "e = Embedding(100000, 200, weights=[embedding_matrix], input_length=len(length) + 10, trainable=False)\n",
    "model_ptw2v.add(e)\n",
    "model_ptw2v.add(Flatten())\n",
    "model_ptw2v.add(Dense(256, activation='relu'))\n",
    "model_ptw2v.add(Dense(1, activation='sigmoid'))\n",
    "model_ptw2v.compile(loss='binary_crossentropy', optimizer='adam', metrics=['accuracy'])\n",
    "model_ptw2v.fit(x_train_seq, y_train, validation_data=(x_test_seq, y_test), epochs=5, batch_size=32, verbose=2)"
   ]
  },
  {
   "cell_type": "code",
   "execution_count": 207,
   "id": "4d21e020",
   "metadata": {
    "ExecuteTime": {
     "end_time": "2021-11-10T08:07:58.731192Z",
     "start_time": "2021-11-10T08:06:55.398438Z"
    },
    "slideshow": {
     "slide_type": "slide"
    }
   },
   "outputs": [
    {
     "name": "stdout",
     "output_type": "stream",
     "text": [
      "Epoch 1/5\n",
      "37/37 - 13s - loss: 0.6829 - accuracy: 0.5917 - val_loss: 0.7255 - val_accuracy: 0.5845 - 13s/epoch - 355ms/step\n",
      "Epoch 2/5\n",
      "37/37 - 13s - loss: 0.1228 - accuracy: 0.9679 - val_loss: 1.3236 - val_accuracy: 0.5777 - 13s/epoch - 341ms/step\n",
      "Epoch 3/5\n",
      "37/37 - 13s - loss: 0.0344 - accuracy: 0.9932 - val_loss: 1.1802 - val_accuracy: 0.5777 - 13s/epoch - 340ms/step\n",
      "Epoch 4/5\n",
      "37/37 - 12s - loss: 0.0145 - accuracy: 0.9975 - val_loss: 1.0696 - val_accuracy: 0.5372 - 12s/epoch - 333ms/step\n",
      "Epoch 5/5\n",
      "37/37 - 12s - loss: 0.0129 - accuracy: 0.9966 - val_loss: 0.9796 - val_accuracy: 0.5135 - 12s/epoch - 332ms/step\n"
     ]
    },
    {
     "data": {
      "text/plain": [
       "<keras.callbacks.History at 0x21e82fb84c0>"
      ]
     },
     "execution_count": 207,
     "metadata": {},
     "output_type": "execute_result"
    }
   ],
   "source": [
    "model_ptw2v = Sequential()\n",
    "e = Embedding(100000, 200, input_length=len(length) + 10)\n",
    "model_ptw2v.add(e)\n",
    "model_ptw2v.add(Flatten())\n",
    "model_ptw2v.add(Dense(256, activation='relu'))\n",
    "model_ptw2v.add(Dense(1, activation='sigmoid'))\n",
    "model_ptw2v.compile(loss='binary_crossentropy', optimizer='adam', metrics=['accuracy'])\n",
    "model_ptw2v.fit(x_train_seq, y_train, validation_data=(x_test_seq, y_test), epochs=5, batch_size=32, verbose=2)"
   ]
  },
  {
   "cell_type": "code",
   "execution_count": 208,
   "id": "1b182933",
   "metadata": {
    "ExecuteTime": {
     "end_time": "2021-11-10T08:09:02.927211Z",
     "start_time": "2021-11-10T08:07:58.732192Z"
    }
   },
   "outputs": [
    {
     "name": "stdout",
     "output_type": "stream",
     "text": [
      "Epoch 1/5\n",
      "37/37 - 13s - loss: 3.5083 - accuracy: 0.4818 - val_loss: 0.9003 - val_accuracy: 0.4324 - 13s/epoch - 357ms/step\n",
      "Epoch 2/5\n",
      "37/37 - 13s - loss: 0.2698 - accuracy: 0.9070 - val_loss: 0.9296 - val_accuracy: 0.5541 - 13s/epoch - 341ms/step\n",
      "Epoch 3/5\n",
      "37/37 - 12s - loss: 0.0687 - accuracy: 0.9949 - val_loss: 0.9497 - val_accuracy: 0.5270 - 12s/epoch - 336ms/step\n",
      "Epoch 4/5\n",
      "37/37 - 13s - loss: 0.0111 - accuracy: 0.9975 - val_loss: 1.1297 - val_accuracy: 0.5811 - 13s/epoch - 338ms/step\n",
      "Epoch 5/5\n",
      "37/37 - 13s - loss: 0.0191 - accuracy: 0.9975 - val_loss: 1.0921 - val_accuracy: 0.5574 - 13s/epoch - 351ms/step\n"
     ]
    },
    {
     "data": {
      "text/plain": [
       "<keras.callbacks.History at 0x220e0d36cd0>"
      ]
     },
     "execution_count": 208,
     "metadata": {},
     "output_type": "execute_result"
    }
   ],
   "source": [
    "model_ptw2v = Sequential()\n",
    "e = Embedding(100000, 200, weights=[embedding_matrix], input_length=len(length) + 10, trainable=True)\n",
    "model_ptw2v.add(e)\n",
    "model_ptw2v.add(Flatten())\n",
    "model_ptw2v.add(Dense(256, activation='relu'))\n",
    "model_ptw2v.add(Dense(1, activation='sigmoid'))\n",
    "model_ptw2v.compile(loss='binary_crossentropy', optimizer='adam', metrics=['accuracy'])\n",
    "model_ptw2v.fit(x_train_seq, y_train, validation_data=(x_test_seq, y_test), epochs=5, batch_size=32, verbose=2)"
   ]
  },
  {
   "cell_type": "markdown",
   "id": "4f4a88c9",
   "metadata": {
    "ExecuteTime": {
     "end_time": "2021-11-10T07:33:40.547840Z",
     "start_time": "2021-11-10T07:33:40.536834Z"
    }
   },
   "source": [
    "### IRX: II"
   ]
  },
  {
   "cell_type": "code",
   "execution_count": 209,
   "id": "e484f6ab",
   "metadata": {
    "ExecuteTime": {
     "end_time": "2021-11-10T08:09:03.021193Z",
     "start_time": "2021-11-10T08:09:02.928212Z"
    }
   },
   "outputs": [
    {
     "name": "stdout",
     "output_type": "stream",
     "text": [
      "Model: \"sequential_28\"\n",
      "_________________________________________________________________\n",
      " Layer (type)                Output Shape              Param #   \n",
      "=================================================================\n",
      " embedding_31 (Embedding)    (None, 1193, 200)         20000000  \n",
      "                                                                 \n",
      " conv1d_24 (Conv1D)          (None, 1192, 100)         40100     \n",
      "                                                                 \n",
      "=================================================================\n",
      "Total params: 20,040,100\n",
      "Trainable params: 20,040,100\n",
      "Non-trainable params: 0\n",
      "_________________________________________________________________\n"
     ]
    }
   ],
   "source": [
    "structure_test = Sequential()\n",
    "e = Embedding(100000, 200, input_length=len(length) + 10)\n",
    "structure_test.add(e)\n",
    "structure_test.add(Conv1D(filters=100, kernel_size=2, padding='valid', activation='relu', strides=1))\n",
    "structure_test.summary()"
   ]
  },
  {
   "cell_type": "code",
   "execution_count": 210,
   "id": "543f933d",
   "metadata": {
    "ExecuteTime": {
     "end_time": "2021-11-10T08:09:03.132257Z",
     "start_time": "2021-11-10T08:09:03.022194Z"
    }
   },
   "outputs": [
    {
     "name": "stdout",
     "output_type": "stream",
     "text": [
      "Model: \"sequential_29\"\n",
      "_________________________________________________________________\n",
      " Layer (type)                Output Shape              Param #   \n",
      "=================================================================\n",
      " embedding_32 (Embedding)    (None, 45, 200)           20000000  \n",
      "                                                                 \n",
      " conv1d_25 (Conv1D)          (None, 44, 100)           40100     \n",
      "                                                                 \n",
      " global_max_pooling1d_21 (Gl  (None, 100)              0         \n",
      " obalMaxPooling1D)                                               \n",
      "                                                                 \n",
      "=================================================================\n",
      "Total params: 20,040,100\n",
      "Trainable params: 20,040,100\n",
      "Non-trainable params: 0\n",
      "_________________________________________________________________\n"
     ]
    }
   ],
   "source": [
    "structure_test = Sequential()\n",
    "e = Embedding(100000, 200, input_length=45)\n",
    "structure_test.add(e)\n",
    "structure_test.add(Conv1D(filters=100, kernel_size=2, padding='valid', activation='relu', strides=1))\n",
    "structure_test.add(GlobalMaxPooling1D())\n",
    "structure_test.summary()"
   ]
  },
  {
   "cell_type": "code",
   "execution_count": 211,
   "id": "02e93f22",
   "metadata": {
    "ExecuteTime": {
     "end_time": "2021-11-10T08:09:17.508957Z",
     "start_time": "2021-11-10T08:09:03.134255Z"
    }
   },
   "outputs": [
    {
     "name": "stdout",
     "output_type": "stream",
     "text": [
      "Epoch 1/5\n",
      "37/37 - 3s - loss: 0.7674 - accuracy: 0.5503 - val_loss: 0.6895 - val_accuracy: 0.5845 - 3s/epoch - 86ms/step\n",
      "Epoch 2/5\n",
      "37/37 - 3s - loss: 0.6579 - accuracy: 0.6162 - val_loss: 0.7789 - val_accuracy: 0.5912 - 3s/epoch - 75ms/step\n",
      "Epoch 3/5\n",
      "37/37 - 3s - loss: 0.5752 - accuracy: 0.7033 - val_loss: 0.7183 - val_accuracy: 0.4831 - 3s/epoch - 74ms/step\n",
      "Epoch 4/5\n",
      "37/37 - 3s - loss: 0.5057 - accuracy: 0.7828 - val_loss: 0.7415 - val_accuracy: 0.5743 - 3s/epoch - 74ms/step\n",
      "Epoch 5/5\n",
      "37/37 - 3s - loss: 0.4290 - accuracy: 0.8555 - val_loss: 0.7257 - val_accuracy: 0.5405 - 3s/epoch - 74ms/step\n"
     ]
    },
    {
     "data": {
      "text/plain": [
       "<keras.callbacks.History at 0x220e11f0670>"
      ]
     },
     "execution_count": 211,
     "metadata": {},
     "output_type": "execute_result"
    }
   ],
   "source": [
    "model_cnn_01 = Sequential()\n",
    "e = Embedding(100000, 200, weights=[embedding_matrix], input_length=len(length) + 10, trainable=False)\n",
    "model_cnn_01.add(e)\n",
    "model_cnn_01.add(Conv1D(filters=100, kernel_size=2, padding='valid', activation='relu', strides=1))\n",
    "model_cnn_01.add(GlobalMaxPooling1D())\n",
    "model_cnn_01.add(Dense(256, activation='relu'))\n",
    "model_cnn_01.add(Dense(1, activation='sigmoid'))\n",
    "model_cnn_01.compile(loss='binary_crossentropy', optimizer='adam', metrics=['accuracy'])\n",
    "model_cnn_01.fit(x_train_seq, y_train, validation_data=(x_test_seq, y_test), epochs=5, batch_size=32, verbose=2)"
   ]
  },
  {
   "cell_type": "code",
   "execution_count": 212,
   "id": "ed876e0c",
   "metadata": {
    "ExecuteTime": {
     "end_time": "2021-11-10T08:09:57.862397Z",
     "start_time": "2021-11-10T08:09:17.510959Z"
    }
   },
   "outputs": [
    {
     "name": "stdout",
     "output_type": "stream",
     "text": [
      "Epoch 1/5\n",
      "37/37 - 8s - loss: 0.6679 - accuracy: 0.6205 - val_loss: 0.6812 - val_accuracy: 0.5912 - 8s/epoch - 228ms/step\n",
      "Epoch 2/5\n",
      "37/37 - 8s - loss: 0.6381 - accuracy: 0.6238 - val_loss: 0.6925 - val_accuracy: 0.5169 - 8s/epoch - 214ms/step\n",
      "Epoch 3/5\n",
      "37/37 - 8s - loss: 0.5477 - accuracy: 0.7278 - val_loss: 0.7013 - val_accuracy: 0.5541 - 8s/epoch - 214ms/step\n",
      "Epoch 4/5\n",
      "37/37 - 8s - loss: 0.2947 - accuracy: 0.9366 - val_loss: 0.8015 - val_accuracy: 0.5135 - 8s/epoch - 214ms/step\n",
      "Epoch 5/5\n",
      "37/37 - 8s - loss: 0.0834 - accuracy: 0.9882 - val_loss: 1.0188 - val_accuracy: 0.5439 - 8s/epoch - 216ms/step\n"
     ]
    },
    {
     "data": {
      "text/plain": [
       "<keras.callbacks.History at 0x220e12f87c0>"
      ]
     },
     "execution_count": 212,
     "metadata": {},
     "output_type": "execute_result"
    }
   ],
   "source": [
    "model_cnn_02 = Sequential()\n",
    "e = Embedding(100000, 200, input_length=len(length) + 10)\n",
    "model_cnn_02.add(e)\n",
    "model_cnn_02.add(Conv1D(filters=100, kernel_size=2, padding='valid', activation='relu', strides=1))\n",
    "model_cnn_02.add(GlobalMaxPooling1D())\n",
    "model_cnn_02.add(Dense(256, activation='relu'))\n",
    "model_cnn_02.add(Dense(1, activation='sigmoid'))\n",
    "model_cnn_02.compile(loss='binary_crossentropy', optimizer='adam', metrics=['accuracy'])\n",
    "model_cnn_02.fit(x_train_seq, y_train, validation_data=(x_test_seq, y_test), epochs=5, batch_size=32, verbose=2)"
   ]
  },
  {
   "cell_type": "code",
   "execution_count": 213,
   "id": "23f54f66",
   "metadata": {
    "ExecuteTime": {
     "end_time": "2021-11-10T08:10:37.932785Z",
     "start_time": "2021-11-10T08:09:57.864689Z"
    }
   },
   "outputs": [
    {
     "name": "stdout",
     "output_type": "stream",
     "text": [
      "Epoch 1/5\n",
      "37/37 - 8s - loss: 0.7795 - accuracy: 0.5368 - val_loss: 0.7476 - val_accuracy: 0.5912 - 8s/epoch - 227ms/step\n",
      "Epoch 2/5\n",
      "37/37 - 8s - loss: 0.6369 - accuracy: 0.6314 - val_loss: 0.7080 - val_accuracy: 0.5101 - 8s/epoch - 216ms/step\n",
      "Epoch 3/5\n",
      "37/37 - 8s - loss: 0.5549 - accuracy: 0.7405 - val_loss: 0.7731 - val_accuracy: 0.5878 - 8s/epoch - 211ms/step\n",
      "Epoch 4/5\n",
      "37/37 - 8s - loss: 0.4654 - accuracy: 0.8309 - val_loss: 0.7196 - val_accuracy: 0.5304 - 8s/epoch - 212ms/step\n",
      "Epoch 5/5\n",
      "37/37 - 8s - loss: 0.3446 - accuracy: 0.9434 - val_loss: 0.8356 - val_accuracy: 0.5777 - 8s/epoch - 212ms/step\n"
     ]
    },
    {
     "data": {
      "text/plain": [
       "<keras.callbacks.History at 0x220e14f87c0>"
      ]
     },
     "execution_count": 213,
     "metadata": {},
     "output_type": "execute_result"
    }
   ],
   "source": [
    "model_cnn_03 = Sequential()\n",
    "e = Embedding(100000, 200, weights=[embedding_matrix], input_length=len(length) + 10, trainable=True)\n",
    "model_cnn_03.add(e)\n",
    "model_cnn_03.add(Conv1D(filters=100, kernel_size=2, padding='valid', activation='relu', strides=1))\n",
    "model_cnn_03.add(GlobalMaxPooling1D())\n",
    "model_cnn_03.add(Dense(256, activation='relu'))\n",
    "model_cnn_03.add(Dense(1, activation='sigmoid'))\n",
    "model_cnn_03.compile(loss='binary_crossentropy', optimizer='adam', metrics=['accuracy'])\n",
    "model_cnn_03.fit(x_train_seq, y_train, validation_data=(x_test_seq, y_test), epochs=5, batch_size=32, verbose=2)"
   ]
  },
  {
   "cell_type": "code",
   "execution_count": 214,
   "id": "d6938997",
   "metadata": {
    "ExecuteTime": {
     "end_time": "2021-11-10T08:10:38.133377Z",
     "start_time": "2021-11-10T08:10:37.934787Z"
    }
   },
   "outputs": [
    {
     "name": "stdout",
     "output_type": "stream",
     "text": [
      "Model: \"model_3\"\n",
      "__________________________________________________________________________________________________\n",
      " Layer (type)                   Output Shape         Param #     Connected to                     \n",
      "==================================================================================================\n",
      " input_4 (InputLayer)           [(None, 1193)]       0           []                               \n",
      "                                                                                                  \n",
      " embedding_36 (Embedding)       (None, 1193, 200)    20000000    ['input_4[0][0]']                \n",
      "                                                                                                  \n",
      " conv1d_29 (Conv1D)             (None, 1192, 100)    40100       ['embedding_36[0][0]']           \n",
      "                                                                                                  \n",
      " conv1d_30 (Conv1D)             (None, 1191, 100)    60100       ['embedding_36[0][0]']           \n",
      "                                                                                                  \n",
      " conv1d_31 (Conv1D)             (None, 1190, 100)    80100       ['embedding_36[0][0]']           \n",
      "                                                                                                  \n",
      " global_max_pooling1d_25 (Globa  (None, 100)         0           ['conv1d_29[0][0]']              \n",
      " lMaxPooling1D)                                                                                   \n",
      "                                                                                                  \n",
      " global_max_pooling1d_26 (Globa  (None, 100)         0           ['conv1d_30[0][0]']              \n",
      " lMaxPooling1D)                                                                                   \n",
      "                                                                                                  \n",
      " global_max_pooling1d_27 (Globa  (None, 100)         0           ['conv1d_31[0][0]']              \n",
      " lMaxPooling1D)                                                                                   \n",
      "                                                                                                  \n",
      " concatenate_3 (Concatenate)    (None, 300)          0           ['global_max_pooling1d_25[0][0]',\n",
      "                                                                  'global_max_pooling1d_26[0][0]',\n",
      "                                                                  'global_max_pooling1d_27[0][0]']\n",
      "                                                                                                  \n",
      " dense_56 (Dense)               (None, 256)          77056       ['concatenate_3[0][0]']          \n",
      "                                                                                                  \n",
      " dropout_3 (Dropout)            (None, 256)          0           ['dense_56[0][0]']               \n",
      "                                                                                                  \n",
      " dense_57 (Dense)               (None, 1)            257         ['dropout_3[0][0]']              \n",
      "                                                                                                  \n",
      " activation_3 (Activation)      (None, 1)            0           ['dense_57[0][0]']               \n",
      "                                                                                                  \n",
      "==================================================================================================\n",
      "Total params: 20,257,613\n",
      "Trainable params: 20,257,613\n",
      "Non-trainable params: 0\n",
      "__________________________________________________________________________________________________\n"
     ]
    }
   ],
   "source": [
    "tweet_input = Input(shape=(len(length) + 10,), dtype='int32')\n",
    "\n",
    "tweet_encoder = Embedding(100000, 200, weights=[embedding_matrix], input_length=len(length) + 10, trainable=True)(\n",
    "    tweet_input)\n",
    "bigram_branch = Conv1D(filters=100, kernel_size=2, padding='valid', activation='relu', strides=1)(tweet_encoder)\n",
    "bigram_branch = GlobalMaxPooling1D()(bigram_branch)\n",
    "trigram_branch = Conv1D(filters=100, kernel_size=3, padding='valid', activation='relu', strides=1)(tweet_encoder)\n",
    "trigram_branch = GlobalMaxPooling1D()(trigram_branch)\n",
    "fourgram_branch = Conv1D(filters=100, kernel_size=4, padding='valid', activation='relu', strides=1)(tweet_encoder)\n",
    "fourgram_branch = GlobalMaxPooling1D()(fourgram_branch)\n",
    "merged = concatenate([bigram_branch, trigram_branch, fourgram_branch], axis=1)\n",
    "\n",
    "merged = Dense(256, activation='relu')(merged)\n",
    "merged = Dropout(0.2)(merged)\n",
    "merged = Dense(1)(merged)\n",
    "output = Activation('sigmoid')(merged)\n",
    "model = Model(inputs=[tweet_input], outputs=[output])\n",
    "model.compile(loss='binary_crossentropy',\n",
    "              optimizer='adam',\n",
    "              metrics=['accuracy'])\n",
    "model.summary()"
   ]
  },
  {
   "cell_type": "code",
   "execution_count": 215,
   "id": "523e3418",
   "metadata": {
    "ExecuteTime": {
     "end_time": "2021-11-10T08:11:48.956600Z",
     "start_time": "2021-11-10T08:10:38.135359Z"
    }
   },
   "outputs": [
    {
     "name": "stdout",
     "output_type": "stream",
     "text": [
      "Epoch 1/5\n",
      "37/37 [==============================] - ETA: 0s - loss: 1.3133 - accuracy: 0.5325\n",
      "Epoch 00001: val_accuracy improved from -inf to 0.40878, saving model to CNN_best_weights.01-0.4088.hdf5\n",
      "37/37 [==============================] - 15s 393ms/step - loss: 1.3133 - accuracy: 0.5325 - val_loss: 1.0846 - val_accuracy: 0.4088\n",
      "Epoch 2/5\n",
      "37/37 [==============================] - ETA: 0s - loss: 0.7150 - accuracy: 0.6281\n",
      "Epoch 00002: val_accuracy improved from 0.40878 to 0.58784, saving model to CNN_best_weights.02-0.5878.hdf5\n",
      "37/37 [==============================] - 15s 395ms/step - loss: 0.7150 - accuracy: 0.6281 - val_loss: 0.7234 - val_accuracy: 0.5878\n",
      "Epoch 3/5\n",
      "37/37 [==============================] - ETA: 0s - loss: 0.4917 - accuracy: 0.8064\n",
      "Epoch 00003: val_accuracy did not improve from 0.58784\n",
      "37/37 [==============================] - 14s 378ms/step - loss: 0.4917 - accuracy: 0.8064 - val_loss: 0.7336 - val_accuracy: 0.5811\n",
      "Epoch 4/5\n",
      "37/37 [==============================] - ETA: 0s - loss: 0.4042 - accuracy: 0.8487\n",
      "Epoch 00004: val_accuracy did not improve from 0.58784\n",
      "37/37 [==============================] - 14s 370ms/step - loss: 0.4042 - accuracy: 0.8487 - val_loss: 0.7232 - val_accuracy: 0.5676\n",
      "Epoch 5/5\n",
      "37/37 [==============================] - ETA: 0s - loss: 0.3096 - accuracy: 0.9281\n",
      "Epoch 00005: val_accuracy did not improve from 0.58784\n",
      "37/37 [==============================] - 13s 363ms/step - loss: 0.3096 - accuracy: 0.9281 - val_loss: 0.8115 - val_accuracy: 0.5811\n"
     ]
    },
    {
     "data": {
      "text/plain": [
       "<keras.callbacks.History at 0x220e17c81f0>"
      ]
     },
     "execution_count": 215,
     "metadata": {},
     "output_type": "execute_result"
    }
   ],
   "source": [
    "from keras.callbacks import ModelCheckpoint\n",
    "\n",
    "filepath = \"CNN_best_weights.{epoch:02d}-{val_accuracy:.4f}.hdf5\"\n",
    "checkpoint = ModelCheckpoint(filepath, monitor='val_accuracy', verbose=1, save_best_only=True, mode='max')\n",
    "\n",
    "model.fit(x_train_seq, y_train, batch_size=32, epochs=5,\n",
    "          validation_data=(x_test_seq, y_test), callbacks=[checkpoint])"
   ]
  },
  {
   "cell_type": "code",
   "execution_count": 231,
   "id": "64882261",
   "metadata": {
    "ExecuteTime": {
     "end_time": "2021-11-10T08:14:05.181806Z",
     "start_time": "2021-11-10T08:14:04.128084Z"
    }
   },
   "outputs": [
    {
     "name": "stdout",
     "output_type": "stream",
     "text": [
      "10/10 [==============================] - 1s 49ms/step - loss: 0.7234 - accuracy: 0.5878\n"
     ]
    },
    {
     "data": {
      "text/plain": [
       "[0.7234224081039429, 0.587837815284729]"
      ]
     },
     "execution_count": 231,
     "metadata": {},
     "output_type": "execute_result"
    }
   ],
   "source": [
    "loaded_CNN_model = load_model('CNN_best_weights.02-0.5878.hdf5')\n",
    "loaded_CNN_model.evaluate(x=x_test_seq, y=y_test)"
   ]
  },
  {
   "cell_type": "code",
   "execution_count": 232,
   "id": "f5cad225",
   "metadata": {
    "ExecuteTime": {
     "end_time": "2021-11-10T08:14:26.101176Z",
     "start_time": "2021-11-10T08:14:05.183807Z"
    }
   },
   "outputs": [
    {
     "data": {
      "text/plain": [
       "TfidfVectorizer(max_features=100000, ngram_range=(1, 3))"
      ]
     },
     "execution_count": 232,
     "metadata": {},
     "output_type": "execute_result"
    }
   ],
   "source": [
    "tvec = TfidfVectorizer(max_features=100000, ngram_range=(1, 3))\n",
    "tvec.fit(x_train)"
   ]
  },
  {
   "cell_type": "code",
   "execution_count": 233,
   "id": "6ab003c7",
   "metadata": {
    "ExecuteTime": {
     "end_time": "2021-11-10T08:14:38.426025Z",
     "start_time": "2021-11-10T08:14:26.103165Z"
    }
   },
   "outputs": [],
   "source": [
    "x_train_tfidf = tvec.transform(x_train)\n",
    "x_test_tfidf = tvec.transform(x_test)"
   ]
  },
  {
   "cell_type": "code",
   "execution_count": 234,
   "id": "7488f6a5",
   "metadata": {
    "ExecuteTime": {
     "end_time": "2021-11-10T08:14:40.324648Z",
     "start_time": "2021-11-10T08:14:38.428013Z"
    }
   },
   "outputs": [
    {
     "data": {
      "text/plain": [
       "LogisticRegression()"
      ]
     },
     "execution_count": 234,
     "metadata": {},
     "output_type": "execute_result"
    }
   ],
   "source": [
    "lr_with_tfidf = LogisticRegression()\n",
    "lr_with_tfidf.fit(x_train_tfidf, y_train)"
   ]
  },
  {
   "cell_type": "code",
   "execution_count": 235,
   "id": "642efbe3",
   "metadata": {
    "ExecuteTime": {
     "end_time": "2021-11-10T08:14:40.340646Z",
     "start_time": "2021-11-10T08:14:40.326630Z"
    }
   },
   "outputs": [
    {
     "data": {
      "text/plain": [
       "0.581081081081081"
      ]
     },
     "execution_count": 235,
     "metadata": {},
     "output_type": "execute_result"
    }
   ],
   "source": [
    "lr_with_tfidf.score(x_test_tfidf, y_test)"
   ]
  },
  {
   "cell_type": "code",
   "execution_count": 236,
   "id": "6801d687",
   "metadata": {
    "ExecuteTime": {
     "end_time": "2021-11-10T08:14:40.356643Z",
     "start_time": "2021-11-10T08:14:40.341640Z"
    }
   },
   "outputs": [],
   "source": [
    "yhat_lr = lr_with_tfidf.predict_proba(x_test_tfidf)"
   ]
  },
  {
   "cell_type": "code",
   "execution_count": 237,
   "id": "997028ce",
   "metadata": {
    "ExecuteTime": {
     "end_time": "2021-11-10T08:14:40.908250Z",
     "start_time": "2021-11-10T08:14:40.358651Z"
    }
   },
   "outputs": [],
   "source": [
    "sequences_test = tokenizer.texts_to_sequences(x_test)\n",
    "x_test_seq = pad_sequences(sequences_test, maxlen=len(length) + 10)"
   ]
  },
  {
   "cell_type": "code",
   "execution_count": 238,
   "id": "83f65fa2",
   "metadata": {
    "ExecuteTime": {
     "end_time": "2021-11-10T08:14:41.476916Z",
     "start_time": "2021-11-10T08:14:40.909237Z"
    }
   },
   "outputs": [
    {
     "name": "stdout",
     "output_type": "stream",
     "text": [
      "10/10 [==============================] - 1s 51ms/step - loss: 0.7234 - accuracy: 0.5878\n"
     ]
    },
    {
     "data": {
      "text/plain": [
       "[0.7234224081039429, 0.587837815284729]"
      ]
     },
     "execution_count": 238,
     "metadata": {},
     "output_type": "execute_result"
    }
   ],
   "source": [
    "loaded_CNN_model.evaluate(x=x_test_seq, y=y_test)"
   ]
  },
  {
   "cell_type": "code",
   "execution_count": 239,
   "id": "39053f69",
   "metadata": {
    "ExecuteTime": {
     "end_time": "2021-11-10T08:14:42.151067Z",
     "start_time": "2021-11-10T08:14:41.477921Z"
    }
   },
   "outputs": [],
   "source": [
    "yhat_cnn = loaded_CNN_model.predict(x_test_seq)"
   ]
  },
  {
   "cell_type": "code",
   "execution_count": 240,
   "id": "29c73100",
   "metadata": {
    "ExecuteTime": {
     "end_time": "2021-11-10T08:14:42.263099Z",
     "start_time": "2021-11-10T08:14:42.153068Z"
    }
   },
   "outputs": [
    {
     "data": {
      "image/png": "[encoded data removed]",
      "text/plain": [
       "<Figure size 576x504 with 1 Axes>"
      ]
     },
     "metadata": {
      "needs_background": "light"
     },
     "output_type": "display_data"
    }
   ],
   "source": [
    "from sklearn.metrics import roc_curve, auc\n",
    "\n",
    "fpr, tpr, threshold = roc_curve(y_test, yhat_lr[:, 1])\n",
    "roc_auc = auc(fpr, tpr)\n",
    "fpr_cnn, tpr_cnn, threshold = roc_curve(y_test, yhat_cnn)\n",
    "roc_auc_nn = auc(fpr_cnn, tpr_cnn)\n",
    "plt.figure(figsize=(8, 7))\n",
    "plt.plot(fpr, tpr, label='tfidf-logit (area = %0.3f)' % roc_auc, linewidth=2)\n",
    "plt.plot(fpr_cnn, tpr_cnn, label='w2v-CNN (area = %0.3f)' % roc_auc_nn, linewidth=2)\n",
    "\n",
    "plt.plot([0, 1], [0, 1], 'k--', linewidth=2)\n",
    "plt.xlim([-0.05, 1.0])\n",
    "plt.ylim([-0.05, 1.05])\n",
    "plt.xlabel('False Positive Rate', fontsize=18)\n",
    "plt.ylabel('True Positive Rate', fontsize=18)\n",
    "plt.title('Receiver operating characteristic: is positive', fontsize=18)\n",
    "plt.legend(loc=\"lower right\")\n",
    "plt.show()"
   ]
  }
 ],
 "metadata": {
  "kernelspec": {
   "display_name": "Python 3 (ipykernel)",
   "language": "python",
   "name": "python3"
  },
  "language_info": {
   "codemirror_mode": {
    "name": "ipython",
    "version": 3
   },
   "file_extension": ".py",
   "mimetype": "text/x-python",
   "name": "python",
   "nbconvert_exporter": "python",
   "pygments_lexer": "ipython3",
   "version": "3.9.5"
  },
  "toc": {
   "base_numbering": 1,
   "nav_menu": {
    "height": "293px",
    "width": "244px"
   },
   "number_sections": true,
   "sideBar": true,
   "skip_h1_title": true,
   "title_cell": "Table of Contents",
   "title_sidebar": "Contents",
   "toc_cell": true,
   "toc_position": {
    "height": "calc(100% - 180px)",
    "left": "10px",
    "top": "150px",
    "width": "291.513px"
   },
   "toc_section_display": true,
   "toc_window_display": true
  }
 },
 "nbformat": 4,
 "nbformat_minor": 5
}
