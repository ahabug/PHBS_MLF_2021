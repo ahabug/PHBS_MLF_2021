{
 "cells": [
  {
   "cell_type": "markdown",
   "id": "d48e829b",
   "metadata": {
    "toc": true
   },
   "source": [
    "<h1>Table of Contents<span class=\"tocSkip\"></span></h1>\n",
    "<div class=\"toc\"><ul class=\"toc-item\"><li><span><a href=\"#Train/Test-Split\" data-toc-modified-id=\"Train/Test-Split-1\"><span class=\"toc-item-num\">1&nbsp;&nbsp;</span>Train/Test Split</a></span><ul class=\"toc-item\"><li><span><a href=\"#SPY\" data-toc-modified-id=\"SPY-1.1\"><span class=\"toc-item-num\">1.1&nbsp;&nbsp;</span>SPY</a></span></li><li><span><a href=\"#TNX\" data-toc-modified-id=\"TNX-1.2\"><span class=\"toc-item-num\">1.2&nbsp;&nbsp;</span>TNX</a></span></li><li><span><a href=\"#VIX\" data-toc-modified-id=\"VIX-1.3\"><span class=\"toc-item-num\">1.3&nbsp;&nbsp;</span>VIX</a></span></li></ul></li><li><span><a href=\"#Preparation-for-Convolutional-Neural-Network\" data-toc-modified-id=\"Preparation-for-Convolutional-Neural-Network-2\"><span class=\"toc-item-num\">2&nbsp;&nbsp;</span>Preparation for Convolutional Neural Network</a></span></li></ul></div>"
   ]
  },
  {
   "cell_type": "markdown",
   "id": "de5c7868",
   "metadata": {},
   "source": [
    "# Fit the model"
   ]
  },
  {
   "cell_type": "markdown",
   "id": "a8b12915",
   "metadata": {},
   "source": [
    "We select three indexes to sketch the effect of the FOMC's documents on the market: S&P 500 Index(SPY), Treasury Yield 10 Years (TNX), CBOE Volatility Index (VIX). The data is from [Yahoo Finance](https://finance.yahoo.com/)"
   ]
  },
  {
   "cell_type": "code",
   "execution_count": 1,
   "id": "262af523",
   "metadata": {
    "ExecuteTime": {
     "end_time": "2021-11-10T01:52:45.605952Z",
     "start_time": "2021-11-10T01:52:41.711549Z"
    },
    "pycharm": {
     "name": "#%%\n"
    }
   },
   "outputs": [],
   "source": [
    "import datetime\n",
    "import keras\n",
    "import numpy as np\n",
    "import pandas as pd\n",
    "\n",
    "from gensim.models import KeyedVectors, Doc2Vec\n",
    "from gensim.models.word2vec import Word2Vec\n",
    "from gensim.models.doc2vec import TaggedDocument\n",
    "from gensim.models.phrases import Phrases\n",
    "from gensim.models.phrases import Phraser\n",
    "from keras.callbacks import ModelCheckpoint\n",
    "from keras.layers import Input, Dense, concatenate, Activation, Dropout, Flatten, Conv1D, GlobalMaxPooling1D\n",
    "from keras.layers.embeddings import Embedding\n",
    "from keras.models import Model, Sequential, load_model\n",
    "from keras.preprocessing.sequence import pad_sequences\n",
    "from keras.preprocessing.text import Tokenizer\n",
    "import matplotlib.pyplot as plt\n",
    "from sklearn import utils\n",
    "from sklearn.feature_extraction.text import CountVectorizer, TfidfVectorizer\n",
    "from sklearn.linear_model import LogisticRegression\n",
    "from sklearn.metrics import classification_report, confusion_matrix, roc_curve, auc, accuracy_score\n",
    "from sklearn.model_selection import train_test_split\n",
    "from sklearn.pipeline import Pipeline\n",
    "from sklearn.preprocessing import Normalizer, scale\n",
    "from textblob import TextBlob\n",
    "from time import time\n",
    "from tqdm import tqdm "
   ]
  },
  {
   "cell_type": "code",
   "execution_count": 2,
   "id": "4857a8b0",
   "metadata": {
    "ExecuteTime": {
     "end_time": "2021-11-10T01:52:45.667286Z",
     "start_time": "2021-11-10T01:52:45.607943Z"
    },
    "pycharm": {
     "name": "#%%\n"
    }
   },
   "outputs": [],
   "source": [
    "spy_df = pd.read_csv('./data/SPY.csv')\n",
    "spy_df.fillna(method='pad')\n",
    "spy_df[\"SPY\"] = spy_df[\"Adj Close\"].pct_change() * 100\n",
    "spy_df.drop(columns=[\"Open\", 'High', 'Low', 'Close', \"Adj Close\", 'Volume'], inplace=True)\n",
    "spy_df.drop(0, inplace=True)\n",
    "vix_df = pd.read_csv('./data/^VIX.csv')\n",
    "vix_df.fillna(method='pad')\n",
    "vix_df[\"VIX\"] = vix_df[\"Adj Close\"].pct_change() * 100\n",
    "vix_df.drop(columns=[\"Open\", 'High', 'Low', 'Close', \"Adj Close\", 'Volume'], inplace=True)\n",
    "vix_df.drop(0, inplace=True)\n",
    "tnx_df = pd.read_csv('./data/^TNX.csv')\n",
    "tnx_df.fillna(method='pad')\n",
    "tnx_df[\"TNX\"] = tnx_df[\"Adj Close\"].pct_change() * 100\n",
    "tnx_df.drop(columns=[\"Open\", 'High', 'Low', 'Close', \"Adj Close\", 'Volume'], inplace=True)\n",
    "tnx_df.drop(0, inplace=True)"
   ]
  },
  {
   "cell_type": "code",
   "execution_count": 3,
   "id": "922cbcbb",
   "metadata": {
    "ExecuteTime": {
     "end_time": "2021-11-10T01:52:45.697289Z",
     "start_time": "2021-11-10T01:52:45.669281Z"
    },
    "pycharm": {
     "name": "#%%\n"
    }
   },
   "outputs": [],
   "source": [
    "mkt_df = pd.merge(spy_df, vix_df, how='left', on='Date')\n",
    "mkt_df = pd.merge(mkt_df, tnx_df, how='left', on='Date')\n",
    "mkt_df.rename(columns={'Date': 'date'}, inplace=True)\n",
    "mkt_df['date'] = pd.to_datetime(mkt_df['date'])"
   ]
  },
  {
   "cell_type": "code",
   "execution_count": 4,
   "id": "e4b37c6c",
   "metadata": {
    "ExecuteTime": {
     "end_time": "2021-11-10T01:52:45.727708Z",
     "start_time": "2021-11-10T01:52:45.698288Z"
    },
    "pycharm": {
     "name": "#%%\n"
    }
   },
   "outputs": [],
   "source": [
    "data_1 = pd.read_feather(\"./data_1.feather\")\n",
    "data_2 = pd.read_feather(\"./data_2.feather\")\n",
    "data_2 = pd.concat([data_2['minutes'], data_1['date']], axis=1)"
   ]
  },
  {
   "cell_type": "code",
   "execution_count": 5,
   "id": "2c819c54",
   "metadata": {
    "ExecuteTime": {
     "end_time": "2021-11-10T01:52:45.743706Z",
     "start_time": "2021-11-10T01:52:45.728707Z"
    },
    "pycharm": {
     "name": "#%%\n"
    }
   },
   "outputs": [],
   "source": [
    "df_statements = pd.merge(data_1, mkt_df, how='left', on='date')\n",
    "mkt_df['date'] = mkt_df['date'] - datetime.timedelta(days=21)\n",
    "df_minutes = pd.merge(data_2, mkt_df, how='left', on='date')"
   ]
  },
  {
   "cell_type": "code",
   "execution_count": 6,
   "id": "42778ba5",
   "metadata": {
    "ExecuteTime": {
     "end_time": "2021-11-10T01:52:45.758699Z",
     "start_time": "2021-11-10T01:52:45.745705Z"
    },
    "pycharm": {
     "name": "#%%\n"
    }
   },
   "outputs": [],
   "source": [
    "for var in df_minutes.columns[-3:]:\n",
    "    df_minutes[var] = df_minutes[var].apply(lambda x: 1 if x > 0 else 0)"
   ]
  },
  {
   "cell_type": "markdown",
   "id": "b707833f",
   "metadata": {},
   "source": [
    "## Train/Test Split"
   ]
  },
  {
   "cell_type": "markdown",
   "id": "e9dc4f36",
   "metadata": {},
   "source": [
    "The ratio I decided to split my data is 80/20, 80% of data as the training set, and the rest 20% for the test set. Intuitively the minutes have more information than the statements, so all following experiments are based on the minutes."
   ]
  },
  {
   "cell_type": "markdown",
   "id": "493ba68b",
   "metadata": {},
   "source": [
    "### SPY"
   ]
  },
  {
   "cell_type": "code",
   "execution_count": 7,
   "id": "34385533",
   "metadata": {
    "ExecuteTime": {
     "end_time": "2021-11-10T01:52:45.773720Z",
     "start_time": "2021-11-10T01:52:45.759700Z"
    },
    "pycharm": {
     "name": "#%%\n"
    }
   },
   "outputs": [],
   "source": [
    "x = df_minutes['minutes']\n",
    "y = df_minutes['SPY']"
   ]
  },
  {
   "cell_type": "code",
   "execution_count": 8,
   "id": "7f220bed",
   "metadata": {
    "ExecuteTime": {
     "end_time": "2021-11-10T01:52:45.789716Z",
     "start_time": "2021-11-10T01:52:45.775718Z"
    },
    "pycharm": {
     "name": "#%%\n"
    }
   },
   "outputs": [],
   "source": [
    "SEED = 2000\n",
    "x_train, x_test, y_train, y_test = train_test_split(x, y, test_size=.2, random_state=SEED)"
   ]
  },
  {
   "cell_type": "code",
   "execution_count": 9,
   "id": "c3804f0e",
   "metadata": {
    "ExecuteTime": {
     "end_time": "2021-11-10T01:52:45.805719Z",
     "start_time": "2021-11-10T01:52:45.791708Z"
    },
    "pycharm": {
     "name": "#%%\n"
    }
   },
   "outputs": [
    {
     "name": "stdout",
     "output_type": "stream",
     "text": [
      "Train set has total 153 entries with 49.02% negative, 50.98% positive\n",
      "Test set has total 39 entries with 38.46% negative, 61.54% positive\n"
     ]
    }
   ],
   "source": [
    "print(\"Train set has total {0} entries with {1:.2f}% negative, {2:.2f}% positive\".format(\n",
    "    len(x_train), (len(x_train[y_train == 0]) / (len(x_train) * 1.)) * 100, (\n",
    "            len(x_train[y_train == 1]) / (len(x_train) * 1.)) * 100))\n",
    "print(\"Test set has total {0} entries with {1:.2f}% negative, {2:.2f}% positive\".format(\n",
    "    len(x_test), (len(x_test[y_test == 0]) / (len(x_test) * 1.)) * 100, (\n",
    "            len(x_test[y_test == 1]) / (len(x_test) * 1.)) * 100))"
   ]
  },
  {
   "cell_type": "markdown",
   "id": "c4c1cfa8",
   "metadata": {},
   "source": [
    "### TNX"
   ]
  },
  {
   "cell_type": "code",
   "execution_count": 10,
   "id": "a28d8c1e",
   "metadata": {
    "ExecuteTime": {
     "end_time": "2021-11-10T01:52:45.820724Z",
     "start_time": "2021-11-10T01:52:45.807720Z"
    },
    "pycharm": {
     "name": "#%%\n"
    }
   },
   "outputs": [],
   "source": [
    "x = df_minutes['minutes']\n",
    "y = df_minutes['TNX']"
   ]
  },
  {
   "cell_type": "code",
   "execution_count": 11,
   "id": "5510010f",
   "metadata": {
    "ExecuteTime": {
     "end_time": "2021-11-10T01:52:45.836724Z",
     "start_time": "2021-11-10T01:52:45.822728Z"
    },
    "pycharm": {
     "name": "#%%\n"
    }
   },
   "outputs": [],
   "source": [
    "SEED = 2000\n",
    "x_train, x_test, y_train, y_test = train_test_split(x, y, test_size=.2, random_state=SEED)"
   ]
  },
  {
   "cell_type": "code",
   "execution_count": 12,
   "id": "7ad14610",
   "metadata": {
    "ExecuteTime": {
     "end_time": "2021-11-10T01:52:45.851727Z",
     "start_time": "2021-11-10T01:52:45.837717Z"
    },
    "pycharm": {
     "name": "#%%\n"
    }
   },
   "outputs": [
    {
     "name": "stdout",
     "output_type": "stream",
     "text": [
      "Train set has total 153 entries with 49.02% negative, 50.98% positive\n",
      "Test set has total 39 entries with 38.46% negative, 61.54% positive\n"
     ]
    }
   ],
   "source": [
    "print(\"Train set has total {0} entries with {1:.2f}% negative, {2:.2f}% positive\".format(\n",
    "    len(x_train), (len(x_train[y_train == 0]) / (len(x_train) * 1.)) * 100, (\n",
    "            len(x_train[y_train == 1]) / (len(x_train) * 1.)) * 100))\n",
    "print(\"Test set has total {0} entries with {1:.2f}% negative, {2:.2f}% positive\".format(\n",
    "    len(x_test), (len(x_test[y_test == 0]) / (len(x_test) * 1.)) * 100, (\n",
    "            len(x_test[y_test == 1]) / (len(x_test) * 1.)) * 100))"
   ]
  },
  {
   "cell_type": "markdown",
   "id": "c123b8cd",
   "metadata": {},
   "source": [
    "### VIX"
   ]
  },
  {
   "cell_type": "code",
   "execution_count": 13,
   "id": "e7d8c61a",
   "metadata": {
    "ExecuteTime": {
     "end_time": "2021-11-10T01:52:45.867743Z",
     "start_time": "2021-11-10T01:52:45.852724Z"
    },
    "pycharm": {
     "name": "#%%\n"
    }
   },
   "outputs": [],
   "source": [
    "x = df_minutes['minutes']\n",
    "y = df_minutes['VIX']"
   ]
  },
  {
   "cell_type": "code",
   "execution_count": 14,
   "id": "20d7a688",
   "metadata": {
    "ExecuteTime": {
     "end_time": "2021-11-10T01:52:45.883740Z",
     "start_time": "2021-11-10T01:52:45.869732Z"
    },
    "pycharm": {
     "name": "#%%\n"
    }
   },
   "outputs": [],
   "source": [
    "SEED = 2000\n",
    "x_train, x_test, y_train, y_test = train_test_split(x, y, test_size=.2, random_state=SEED)"
   ]
  },
  {
   "cell_type": "code",
   "execution_count": 15,
   "id": "153e4afb",
   "metadata": {
    "ExecuteTime": {
     "end_time": "2021-11-10T01:52:45.899737Z",
     "start_time": "2021-11-10T01:52:45.885729Z"
    },
    "pycharm": {
     "name": "#%%\n"
    }
   },
   "outputs": [
    {
     "name": "stdout",
     "output_type": "stream",
     "text": [
      "Train set has total 153 entries with 60.13% negative, 39.87% positive\n",
      "Test set has total 39 entries with 58.97% negative, 41.03% positive\n"
     ]
    }
   ],
   "source": [
    "print(\"Train set has total {0} entries with {1:.2f}% negative, {2:.2f}% positive\".format(\n",
    "    len(x_train), (len(x_train[y_train == 0]) / (len(x_train) * 1.)) * 100, (\n",
    "            len(x_train[y_train == 1]) / (len(x_train) * 1.)) * 100))\n",
    "print(\"Test set has total {0} entries with {1:.2f}% negative, {2:.2f}% positive\".format(\n",
    "    len(x_test), (len(x_test[y_test == 0]) / (len(x_test) * 1.)) * 100, (\n",
    "            len(x_test[y_test == 1]) / (len(x_test) * 1.)) * 100))"
   ]
  },
  {
   "cell_type": "markdown",
   "id": "17dc9549",
   "metadata": {},
   "source": [
    "## Preparation for Convolutional Neural Network"
   ]
  },
  {
   "cell_type": "code",
   "execution_count": 16,
   "id": "4f93fb04",
   "metadata": {
    "ExecuteTime": {
     "end_time": "2021-11-10T01:52:45.915744Z",
     "start_time": "2021-11-10T01:52:45.901733Z"
    }
   },
   "outputs": [],
   "source": [
    "x = df_statements['statements']\n",
    "# y = df_minutes['TNX']\n",
    "# y = df_statements['SPY']\n",
    "y = df_minutes['VIX']\n",
    "\n",
    "# x = df_minutes['minutes']\n",
    "# y = df_minutes['TNX']\n",
    "# y = df_minutes['SPY']\n",
    "# y = df_minutes['VIX']\n",
    "SEED = 2000\n",
    "x_train, x_test, y_train, y_test = train_test_split(x, y, test_size=.2, random_state=SEED)"
   ]
  },
  {
   "cell_type": "code",
   "execution_count": 17,
   "id": "70e98c47",
   "metadata": {
    "ExecuteTime": {
     "end_time": "2021-11-10T01:52:45.931754Z",
     "start_time": "2021-11-10T01:52:45.916749Z"
    }
   },
   "outputs": [],
   "source": [
    "def labelize_ug(tweets,label):\n",
    "    result = []\n",
    "    prefix = label\n",
    "    for i, t in zip(tweets.index, tweets):\n",
    "        result.append(TaggedDocument(t.split(), [prefix + '_%s' % i]))\n",
    "    return result"
   ]
  },
  {
   "cell_type": "code",
   "execution_count": 18,
   "id": "a067bfd4",
   "metadata": {
    "ExecuteTime": {
     "end_time": "2021-11-10T01:52:45.947750Z",
     "start_time": "2021-11-10T01:52:45.932753Z"
    }
   },
   "outputs": [],
   "source": [
    "all_x_w2v = labelize_ug(x, 'all')"
   ]
  },
  {
   "cell_type": "code",
   "execution_count": 19,
   "id": "944f3366",
   "metadata": {
    "ExecuteTime": {
     "end_time": "2021-11-10T01:52:45.979760Z",
     "start_time": "2021-11-10T01:52:45.948742Z"
    }
   },
   "outputs": [
    {
     "name": "stderr",
     "output_type": "stream",
     "text": [
      "100%|████████████████████████████████████████████████████████████████████████████████████████| 192/192 [00:00<?, ?it/s]\n"
     ]
    }
   ],
   "source": [
    "model_ug_cbow = Word2Vec(sg=0, negative=5, window=2, min_count=2, workers=16, alpha=0.065, min_alpha=0.065)\n",
    "model_ug_cbow.build_vocab([x.words for x in tqdm(all_x_w2v)])"
   ]
  },
  {
   "cell_type": "code",
   "execution_count": 20,
   "id": "a79a5050",
   "metadata": {
    "ExecuteTime": {
     "end_time": "2021-11-10T01:52:46.776654Z",
     "start_time": "2021-11-10T01:52:45.980759Z"
    }
   },
   "outputs": [
    {
     "name": "stderr",
     "output_type": "stream",
     "text": [
      "100%|████████████████████████████████████████████████████████████████████████████████████████| 192/192 [00:00<?, ?it/s]\n",
      "100%|████████████████████████████████████████████████████████████████████████████████████████| 192/192 [00:00<?, ?it/s]\n",
      "100%|████████████████████████████████████████████████████████████████████████████████████████| 192/192 [00:00<?, ?it/s]\n",
      "100%|████████████████████████████████████████████████████████████████████████████| 192/192 [00:00<00:00, 192289.01it/s]\n",
      "100%|████████████████████████████████████████████████████████████████████████████████████████| 192/192 [00:00<?, ?it/s]\n",
      "100%|████████████████████████████████████████████████████████████████████████████████████████| 192/192 [00:00<?, ?it/s]\n",
      "100%|████████████████████████████████████████████████████████████████████████████████████████| 192/192 [00:00<?, ?it/s]\n",
      "100%|████████████████████████████████████████████████████████████████████████████████████████| 192/192 [00:00<?, ?it/s]\n",
      "100%|████████████████████████████████████████████████████████████████████████████████████████| 192/192 [00:00<?, ?it/s]\n",
      "100%|████████████████████████████████████████████████████████████████████████████████████████| 192/192 [00:00<?, ?it/s]\n",
      "100%|████████████████████████████████████████████████████████████████████████████████████████| 192/192 [00:00<?, ?it/s]\n",
      "100%|████████████████████████████████████████████████████████████████████████████████████████| 192/192 [00:00<?, ?it/s]\n",
      "100%|████████████████████████████████████████████████████████████████████████████████████████| 192/192 [00:00<?, ?it/s]\n",
      "100%|████████████████████████████████████████████████████████████████████████████████████████| 192/192 [00:00<?, ?it/s]\n",
      "100%|████████████████████████████████████████████████████████████████████████████| 192/192 [00:00<00:00, 191329.62it/s]\n",
      "100%|████████████████████████████████████████████████████████████████████████████████████████| 192/192 [00:00<?, ?it/s]\n",
      "100%|████████████████████████████████████████████████████████████████████████████████████████| 192/192 [00:00<?, ?it/s]\n",
      "100%|████████████████████████████████████████████████████████████████████████████| 192/192 [00:00<00:00, 191785.27it/s]\n",
      "100%|████████████████████████████████████████████████████████████████████████████████████████| 192/192 [00:00<?, ?it/s]\n",
      "100%|████████████████████████████████████████████████████████████████████████████████████████| 192/192 [00:00<?, ?it/s]\n",
      "100%|████████████████████████████████████████████████████████████████████████████████████████| 192/192 [00:00<?, ?it/s]\n",
      "100%|████████████████████████████████████████████████████████████████████████████████████████| 192/192 [00:00<?, ?it/s]\n",
      "100%|████████████████████████████████████████████████████████████████████████████████████████| 192/192 [00:00<?, ?it/s]\n",
      "100%|████████████████████████████████████████████████████████████████████████████████████████| 192/192 [00:00<?, ?it/s]\n",
      "100%|████████████████████████████████████████████████████████████████████████████████████████| 192/192 [00:00<?, ?it/s]\n",
      "100%|████████████████████████████████████████████████████████████████████████████████████████| 192/192 [00:00<?, ?it/s]\n",
      "100%|████████████████████████████████████████████████████████████████████████████████████████| 192/192 [00:00<?, ?it/s]\n",
      "100%|████████████████████████████████████████████████████████████████████████████████████████| 192/192 [00:00<?, ?it/s]\n",
      "100%|████████████████████████████████████████████████████████████████████████████████████████| 192/192 [00:00<?, ?it/s]\n",
      "100%|████████████████████████████████████████████████████████████████████████████████████████| 192/192 [00:00<?, ?it/s]"
     ]
    },
    {
     "name": "stdout",
     "output_type": "stream",
     "text": [
      "Wall time: 783 ms\n"
     ]
    },
    {
     "name": "stderr",
     "output_type": "stream",
     "text": [
      "\n"
     ]
    }
   ],
   "source": [
    "%%time\n",
    "for epoch in range(30):\n",
    "    model_ug_cbow.train(utils.shuffle([x.words for x in tqdm(all_x_w2v)]), total_examples=len(all_x_w2v), epochs=1)\n",
    "    model_ug_cbow.alpha -= 0.002\n",
    "    model_ug_cbow.min_alpha = model_ug_cbow.alpha"
   ]
  },
  {
   "cell_type": "code",
   "execution_count": 21,
   "id": "6d2da894",
   "metadata": {
    "ExecuteTime": {
     "end_time": "2021-11-10T01:52:46.808646Z",
     "start_time": "2021-11-10T01:52:46.778614Z"
    }
   },
   "outputs": [
    {
     "name": "stderr",
     "output_type": "stream",
     "text": [
      "100%|████████████████████████████████████████████████████████████████████████████████████████| 192/192 [00:00<?, ?it/s]\n"
     ]
    }
   ],
   "source": [
    "model_ug_sg = Word2Vec(sg=1, negative=5, window=2, min_count=2, workers=16, alpha=0.065, min_alpha=0.065)\n",
    "model_ug_sg.build_vocab([x.words for x in tqdm(all_x_w2v)])"
   ]
  },
  {
   "cell_type": "code",
   "execution_count": 22,
   "id": "e2f105b3",
   "metadata": {
    "ExecuteTime": {
     "end_time": "2021-11-10T01:52:47.841598Z",
     "start_time": "2021-11-10T01:52:46.809635Z"
    }
   },
   "outputs": [
    {
     "name": "stderr",
     "output_type": "stream",
     "text": [
      "100%|████████████████████████████████████████████████████████████████████████████| 192/192 [00:00<00:00, 192059.71it/s]\n",
      "100%|████████████████████████████████████████████████████████████████████████████| 192/192 [00:00<00:00, 190559.95it/s]\n",
      "100%|████████████████████████████████████████████████████████████████████████████████████████| 192/192 [00:00<?, ?it/s]\n",
      "100%|████████████████████████████████████████████████████████████████████████████████████████| 192/192 [00:00<?, ?it/s]\n",
      "100%|████████████████████████████████████████████████████████████████████████████████████████| 192/192 [00:00<?, ?it/s]\n",
      "100%|████████████████████████████████████████████████████████████████████████████████████████| 192/192 [00:00<?, ?it/s]\n",
      "100%|████████████████████████████████████████████████████████████████████████████████████████| 192/192 [00:00<?, ?it/s]\n",
      "100%|████████████████████████████████████████████████████████████████████████████████████████| 192/192 [00:00<?, ?it/s]\n",
      "100%|████████████████████████████████████████████████████████████████████████████| 192/192 [00:00<00:00, 191648.35it/s]\n",
      "100%|████████████████████████████████████████████████████████████████████████████████████████| 192/192 [00:00<?, ?it/s]\n",
      "100%|████████████████████████████████████████████████████████████████████████████████████████| 192/192 [00:00<?, ?it/s]\n",
      "100%|████████████████████████████████████████████████████████████████████████████████████████| 192/192 [00:00<?, ?it/s]\n",
      "100%|████████████████████████████████████████████████████████████████████████████████████████| 192/192 [00:00<?, ?it/s]\n",
      "100%|████████████████████████████████████████████████████████████████████████████████████████| 192/192 [00:00<?, ?it/s]\n",
      "100%|████████████████████████████████████████████████████████████████████████████████████████| 192/192 [00:00<?, ?it/s]\n",
      "100%|████████████████████████████████████████████████████████████████████████████████████████| 192/192 [00:00<?, ?it/s]\n",
      "100%|████████████████████████████████████████████████████████████████████████████████████████| 192/192 [00:00<?, ?it/s]\n",
      "100%|████████████████████████████████████████████████████████████████████████████████████████| 192/192 [00:00<?, ?it/s]\n",
      "100%|████████████████████████████████████████████████████████████████████████████████████████| 192/192 [00:00<?, ?it/s]\n",
      "100%|████████████████████████████████████████████████████████████████████████████████████████| 192/192 [00:00<?, ?it/s]\n",
      "100%|████████████████████████████████████████████████████████████████████████████████████████| 192/192 [00:00<?, ?it/s]\n",
      "100%|████████████████████████████████████████████████████████████████████████████████████████| 192/192 [00:00<?, ?it/s]\n",
      "100%|████████████████████████████████████████████████████████████████████████████████████████| 192/192 [00:00<?, ?it/s]\n",
      "100%|████████████████████████████████████████████████████████████████████████████████████████| 192/192 [00:00<?, ?it/s]\n",
      "100%|████████████████████████████████████████████████████████████████████████████████████████| 192/192 [00:00<?, ?it/s]\n",
      "100%|████████████████████████████████████████████████████████████████████████████████████████| 192/192 [00:00<?, ?it/s]\n",
      "100%|████████████████████████████████████████████████████████████████████████████████████████| 192/192 [00:00<?, ?it/s]\n",
      "100%|████████████████████████████████████████████████████████████████████████████████████████| 192/192 [00:00<?, ?it/s]\n",
      "100%|████████████████████████████████████████████████████████████████████████████████████████| 192/192 [00:00<?, ?it/s]\n",
      "100%|████████████████████████████████████████████████████████████████████████████████████████| 192/192 [00:00<?, ?it/s]"
     ]
    },
    {
     "name": "stdout",
     "output_type": "stream",
     "text": [
      "Wall time: 1.02 s\n"
     ]
    },
    {
     "name": "stderr",
     "output_type": "stream",
     "text": [
      "\n"
     ]
    }
   ],
   "source": [
    "%%time\n",
    "for epoch in range(30):\n",
    "    model_ug_sg.train(utils.shuffle([x.words for x in tqdm(all_x_w2v)]), total_examples=len(all_x_w2v), epochs=1)\n",
    "    model_ug_sg.alpha -= 0.002\n",
    "    model_ug_sg.min_alpha = model_ug_sg.alpha"
   ]
  },
  {
   "cell_type": "code",
   "execution_count": 23,
   "id": "b91ecc9f",
   "metadata": {
    "ExecuteTime": {
     "end_time": "2021-11-10T01:52:47.857596Z",
     "start_time": "2021-11-10T01:52:47.843593Z"
    }
   },
   "outputs": [],
   "source": [
    "model_ug_cbow.save('w2v_model_ug_cbow.word2vec')\n",
    "model_ug_sg.save('w2v_model_ug_sg.word2vec')"
   ]
  },
  {
   "cell_type": "code",
   "execution_count": 24,
   "id": "eb8ec64e",
   "metadata": {
    "ExecuteTime": {
     "end_time": "2021-11-10T01:52:47.905689Z",
     "start_time": "2021-11-10T01:52:47.858597Z"
    }
   },
   "outputs": [],
   "source": [
    "model_ug_cbow = KeyedVectors.load('w2v_model_ug_cbow.word2vec')\n",
    "model_ug_sg = KeyedVectors.load('w2v_model_ug_sg.word2vec')"
   ]
  },
  {
   "cell_type": "code",
   "execution_count": 25,
   "id": "e733df42",
   "metadata": {
    "ExecuteTime": {
     "end_time": "2021-11-10T01:52:47.920687Z",
     "start_time": "2021-11-10T01:52:47.907670Z"
    }
   },
   "outputs": [
    {
     "data": {
      "text/plain": [
       "1158"
      ]
     },
     "execution_count": 25,
     "metadata": {},
     "output_type": "execute_result"
    }
   ],
   "source": [
    "len(model_ug_cbow.wv.index_to_key)"
   ]
  },
  {
   "cell_type": "code",
   "execution_count": 26,
   "id": "c7ec1174",
   "metadata": {
    "ExecuteTime": {
     "end_time": "2021-11-10T01:52:47.935678Z",
     "start_time": "2021-11-10T01:52:47.921676Z"
    }
   },
   "outputs": [
    {
     "name": "stdout",
     "output_type": "stream",
     "text": [
      "Found 1158 word vectors.\n"
     ]
    }
   ],
   "source": [
    "embeddings_index = {}\n",
    "for w in model_ug_cbow.wv.index_to_key:\n",
    "    embeddings_index[w] = np.append(model_ug_cbow.wv[w],model_ug_sg.wv[w])\n",
    "print('Found %s word vectors.' % len(embeddings_index))"
   ]
  },
  {
   "cell_type": "code",
   "execution_count": 27,
   "id": "9eefb5d3",
   "metadata": {
    "ExecuteTime": {
     "end_time": "2021-11-10T01:52:47.967701Z",
     "start_time": "2021-11-10T01:52:47.937677Z"
    }
   },
   "outputs": [],
   "source": [
    "tokenizer = Tokenizer(num_words=100000)\n",
    "tokenizer.fit_on_texts(x_train)\n",
    "sequences = tokenizer.texts_to_sequences(x_train)"
   ]
  },
  {
   "cell_type": "code",
   "execution_count": 28,
   "id": "2e263a38",
   "metadata": {
    "ExecuteTime": {
     "end_time": "2021-11-10T01:52:47.983697Z",
     "start_time": "2021-11-10T01:52:47.970693Z"
    }
   },
   "outputs": [
    {
     "data": {
      "text/plain": [
       "1475"
      ]
     },
     "execution_count": 28,
     "metadata": {},
     "output_type": "execute_result"
    }
   ],
   "source": [
    "len(tokenizer.word_index)"
   ]
  },
  {
   "cell_type": "code",
   "execution_count": 29,
   "id": "77ea54cf",
   "metadata": {
    "ExecuteTime": {
     "end_time": "2021-11-10T01:52:47.999705Z",
     "start_time": "2021-11-10T01:52:47.985688Z"
    }
   },
   "outputs": [],
   "source": [
    "length = []\n",
    "for x in x_train:\n",
    "    length.append(len(x.split()))"
   ]
  },
  {
   "cell_type": "code",
   "execution_count": 30,
   "id": "3d55ee76",
   "metadata": {
    "ExecuteTime": {
     "end_time": "2021-11-10T01:52:48.014695Z",
     "start_time": "2021-11-10T01:52:48.000691Z"
    }
   },
   "outputs": [
    {
     "name": "stdout",
     "output_type": "stream",
     "text": [
      "Shape of data tensor: (153, 163)\n"
     ]
    }
   ],
   "source": [
    "x_train_seq = pad_sequences(sequences, maxlen=len(length)+10)\n",
    "print('Shape of data tensor:', x_train_seq.shape)"
   ]
  },
  {
   "cell_type": "code",
   "execution_count": 31,
   "id": "8b6cb7fd",
   "metadata": {
    "ExecuteTime": {
     "end_time": "2021-11-10T01:52:48.029698Z",
     "start_time": "2021-11-10T01:52:48.015694Z"
    }
   },
   "outputs": [],
   "source": [
    "sequences_val = tokenizer.texts_to_sequences(x_test)\n",
    "x_test_seq = pad_sequences(sequences_val, maxlen=len(length)+10)"
   ]
  },
  {
   "cell_type": "code",
   "execution_count": 32,
   "id": "ba691247",
   "metadata": {
    "ExecuteTime": {
     "end_time": "2021-11-10T01:52:48.045702Z",
     "start_time": "2021-11-10T01:52:48.031698Z"
    }
   },
   "outputs": [],
   "source": [
    "num_words = 100000\n",
    "embedding_matrix = np.zeros((num_words, 200))\n",
    "for word, i in tokenizer.word_index.items():\n",
    "    if i >= num_words:\n",
    "        continue\n",
    "    embedding_vector = embeddings_index.get(word)\n",
    "    if embedding_vector is not None:\n",
    "        embedding_matrix[i] = embedding_vector"
   ]
  },
  {
   "cell_type": "code",
   "execution_count": 33,
   "id": "529b1dd2",
   "metadata": {
    "ExecuteTime": {
     "end_time": "2021-11-10T01:52:49.537061Z",
     "start_time": "2021-11-10T01:52:48.046703Z"
    }
   },
   "outputs": [
    {
     "name": "stdout",
     "output_type": "stream",
     "text": [
      "Epoch 1/5\n",
      "5/5 - 1s - loss: 3.5779 - accuracy: 0.5033 - val_loss: 2.8014 - val_accuracy: 0.5385 - 562ms/epoch - 112ms/step\n",
      "Epoch 2/5\n",
      "5/5 - 0s - loss: 1.0778 - accuracy: 0.8039 - val_loss: 2.1497 - val_accuracy: 0.4872 - 139ms/epoch - 28ms/step\n",
      "Epoch 3/5\n",
      "5/5 - 0s - loss: 0.7380 - accuracy: 0.9150 - val_loss: 1.7983 - val_accuracy: 0.5128 - 141ms/epoch - 28ms/step\n",
      "Epoch 4/5\n",
      "5/5 - 0s - loss: 0.3346 - accuracy: 0.9477 - val_loss: 1.8168 - val_accuracy: 0.5128 - 165ms/epoch - 33ms/step\n",
      "Epoch 5/5\n",
      "5/5 - 0s - loss: 0.3287 - accuracy: 0.9477 - val_loss: 1.6898 - val_accuracy: 0.5128 - 140ms/epoch - 28ms/step\n"
     ]
    },
    {
     "data": {
      "text/plain": [
       "<keras.callbacks.History at 0x24d71df3970>"
      ]
     },
     "execution_count": 33,
     "metadata": {},
     "output_type": "execute_result"
    }
   ],
   "source": [
    "model_ptw2v = Sequential()\n",
    "e = Embedding(100000, 200, weights=[embedding_matrix], input_length=len(length)+10, trainable=False)\n",
    "model_ptw2v.add(e)\n",
    "model_ptw2v.add(Flatten())\n",
    "model_ptw2v.add(Dense(256, activation='relu'))\n",
    "model_ptw2v.add(Dense(1, activation='sigmoid'))\n",
    "model_ptw2v.compile(loss='binary_crossentropy', optimizer='adam', metrics=['accuracy'])\n",
    "model_ptw2v.fit(x_train_seq, y_train, validation_data=(x_test_seq ,y_test), epochs=5, batch_size=32, verbose=2)"
   ]
  },
  {
   "cell_type": "code",
   "execution_count": 34,
   "id": "efc3fa28",
   "metadata": {
    "ExecuteTime": {
     "end_time": "2021-11-10T01:52:54.521344Z",
     "start_time": "2021-11-10T01:52:49.539062Z"
    }
   },
   "outputs": [
    {
     "name": "stdout",
     "output_type": "stream",
     "text": [
      "Epoch 1/5\n",
      "5/5 - 1s - loss: 0.7221 - accuracy: 0.5490 - val_loss: 0.7236 - val_accuracy: 0.6923 - 1s/epoch - 241ms/step\n",
      "Epoch 2/5\n",
      "5/5 - 1s - loss: 0.3627 - accuracy: 0.9150 - val_loss: 0.8744 - val_accuracy: 0.5385 - 888ms/epoch - 178ms/step\n",
      "Epoch 3/5\n",
      "5/5 - 1s - loss: 0.2150 - accuracy: 0.9412 - val_loss: 1.0141 - val_accuracy: 0.5641 - 873ms/epoch - 175ms/step\n",
      "Epoch 4/5\n",
      "5/5 - 1s - loss: 0.1341 - accuracy: 0.9477 - val_loss: 1.1179 - val_accuracy: 0.5641 - 862ms/epoch - 172ms/step\n",
      "Epoch 5/5\n",
      "5/5 - 1s - loss: 0.1010 - accuracy: 0.9477 - val_loss: 1.2495 - val_accuracy: 0.5641 - 977ms/epoch - 195ms/step\n"
     ]
    },
    {
     "data": {
      "text/plain": [
       "<keras.callbacks.History at 0x24d6d1486d0>"
      ]
     },
     "execution_count": 34,
     "metadata": {},
     "output_type": "execute_result"
    }
   ],
   "source": [
    "model_ptw2v = Sequential()\n",
    "e = Embedding(100000, 200, input_length=len(length)+10)\n",
    "model_ptw2v.add(e)\n",
    "model_ptw2v.add(Flatten())\n",
    "model_ptw2v.add(Dense(256, activation='relu'))\n",
    "model_ptw2v.add(Dense(1, activation='sigmoid'))\n",
    "model_ptw2v.compile(loss='binary_crossentropy', optimizer='adam', metrics=['accuracy'])\n",
    "model_ptw2v.fit(x_train_seq, y_train, validation_data=(x_test_seq ,y_test), epochs=5, batch_size=32, verbose=2)"
   ]
  },
  {
   "cell_type": "code",
   "execution_count": 35,
   "id": "6870e6fd",
   "metadata": {
    "ExecuteTime": {
     "end_time": "2021-11-10T01:52:59.562944Z",
     "start_time": "2021-11-10T01:52:54.523339Z"
    }
   },
   "outputs": [
    {
     "name": "stdout",
     "output_type": "stream",
     "text": [
      "Epoch 1/5\n",
      "5/5 - 1s - loss: 4.3720 - accuracy: 0.4510 - val_loss: 3.7253 - val_accuracy: 0.5897 - 1s/epoch - 251ms/step\n",
      "Epoch 2/5\n",
      "5/5 - 1s - loss: 2.0764 - accuracy: 0.7190 - val_loss: 2.2914 - val_accuracy: 0.5128 - 944ms/epoch - 189ms/step\n",
      "Epoch 3/5\n",
      "5/5 - 1s - loss: 0.5515 - accuracy: 0.8758 - val_loss: 1.1386 - val_accuracy: 0.5897 - 893ms/epoch - 179ms/step\n",
      "Epoch 4/5\n",
      "5/5 - 1s - loss: 0.2607 - accuracy: 0.8954 - val_loss: 1.1688 - val_accuracy: 0.5385 - 885ms/epoch - 177ms/step\n",
      "Epoch 5/5\n",
      "5/5 - 1s - loss: 0.2006 - accuracy: 0.9412 - val_loss: 1.3657 - val_accuracy: 0.4872 - 853ms/epoch - 171ms/step\n"
     ]
    },
    {
     "data": {
      "text/plain": [
       "<keras.callbacks.History at 0x24d020e5460>"
      ]
     },
     "execution_count": 35,
     "metadata": {},
     "output_type": "execute_result"
    }
   ],
   "source": [
    "model_ptw2v = Sequential()\n",
    "e = Embedding(100000, 200, weights=[embedding_matrix], input_length=len(length)+10, trainable=True)\n",
    "model_ptw2v.add(e)\n",
    "model_ptw2v.add(Flatten())\n",
    "model_ptw2v.add(Dense(256, activation='relu'))\n",
    "model_ptw2v.add(Dense(1, activation='sigmoid'))\n",
    "model_ptw2v.compile(loss='binary_crossentropy', optimizer='adam', metrics=['accuracy'])\n",
    "model_ptw2v.fit(x_train_seq, y_train, validation_data=(x_test_seq ,y_test), epochs=5, batch_size=32, verbose=2)"
   ]
  },
  {
   "cell_type": "code",
   "execution_count": 36,
   "id": "f451ec64",
   "metadata": {
    "ExecuteTime": {
     "end_time": "2021-11-10T01:52:59.674536Z",
     "start_time": "2021-11-10T01:52:59.563946Z"
    }
   },
   "outputs": [
    {
     "name": "stdout",
     "output_type": "stream",
     "text": [
      "Model: \"sequential_3\"\n",
      "_________________________________________________________________\n",
      " Layer (type)                Output Shape              Param #   \n",
      "=================================================================\n",
      " embedding_3 (Embedding)     (None, 163, 200)          20000000  \n",
      "                                                                 \n",
      " conv1d (Conv1D)             (None, 162, 100)          40100     \n",
      "                                                                 \n",
      "=================================================================\n",
      "Total params: 20,040,100\n",
      "Trainable params: 20,040,100\n",
      "Non-trainable params: 0\n",
      "_________________________________________________________________\n"
     ]
    }
   ],
   "source": [
    "structure_test = Sequential()\n",
    "e = Embedding(100000, 200, input_length=len(length)+10)\n",
    "structure_test.add(e)\n",
    "structure_test.add(Conv1D(filters=100, kernel_size=2, padding='valid', activation='relu', strides=1))\n",
    "structure_test.summary()"
   ]
  },
  {
   "cell_type": "code",
   "execution_count": 37,
   "id": "754c0661",
   "metadata": {
    "ExecuteTime": {
     "end_time": "2021-11-10T01:52:59.786560Z",
     "start_time": "2021-11-10T01:52:59.676538Z"
    }
   },
   "outputs": [
    {
     "name": "stdout",
     "output_type": "stream",
     "text": [
      "Model: \"sequential_4\"\n",
      "_________________________________________________________________\n",
      " Layer (type)                Output Shape              Param #   \n",
      "=================================================================\n",
      " embedding_4 (Embedding)     (None, 45, 200)           20000000  \n",
      "                                                                 \n",
      " conv1d_1 (Conv1D)           (None, 44, 100)           40100     \n",
      "                                                                 \n",
      " global_max_pooling1d (Globa  (None, 100)              0         \n",
      " lMaxPooling1D)                                                  \n",
      "                                                                 \n",
      "=================================================================\n",
      "Total params: 20,040,100\n",
      "Trainable params: 20,040,100\n",
      "Non-trainable params: 0\n",
      "_________________________________________________________________\n"
     ]
    }
   ],
   "source": [
    "structure_test = Sequential()\n",
    "e = Embedding(100000, 200, input_length=45)\n",
    "structure_test.add(e)\n",
    "structure_test.add(Conv1D(filters=100, kernel_size=2, padding='valid', activation='relu', strides=1))\n",
    "structure_test.add(GlobalMaxPooling1D())\n",
    "structure_test.summary()"
   ]
  },
  {
   "cell_type": "code",
   "execution_count": 38,
   "id": "49270503",
   "metadata": {
    "ExecuteTime": {
     "end_time": "2021-11-10T01:53:00.736935Z",
     "start_time": "2021-11-10T01:52:59.787565Z"
    }
   },
   "outputs": [
    {
     "name": "stdout",
     "output_type": "stream",
     "text": [
      "Epoch 1/5\n",
      "5/5 - 0s - loss: 1.1550 - accuracy: 0.5425 - val_loss: 0.9371 - val_accuracy: 0.5897 - 494ms/epoch - 99ms/step\n",
      "Epoch 2/5\n",
      "5/5 - 0s - loss: 0.7348 - accuracy: 0.6013 - val_loss: 0.8361 - val_accuracy: 0.4872 - 67ms/epoch - 13ms/step\n",
      "Epoch 3/5\n",
      "5/5 - 0s - loss: 0.5875 - accuracy: 0.6732 - val_loss: 0.7978 - val_accuracy: 0.5897 - 68ms/epoch - 14ms/step\n",
      "Epoch 4/5\n",
      "5/5 - 0s - loss: 0.6461 - accuracy: 0.6209 - val_loss: 0.7283 - val_accuracy: 0.5641 - 66ms/epoch - 13ms/step\n",
      "Epoch 5/5\n",
      "5/5 - 0s - loss: 0.5889 - accuracy: 0.6209 - val_loss: 0.7629 - val_accuracy: 0.5128 - 66ms/epoch - 13ms/step\n"
     ]
    },
    {
     "data": {
      "text/plain": [
       "<keras.callbacks.History at 0x24d05282f10>"
      ]
     },
     "execution_count": 38,
     "metadata": {},
     "output_type": "execute_result"
    }
   ],
   "source": [
    "model_cnn_01 = Sequential()\n",
    "e = Embedding(100000, 200, weights=[embedding_matrix], input_length=len(length)+10, trainable=False)\n",
    "model_cnn_01.add(e)\n",
    "model_cnn_01.add(Conv1D(filters=100, kernel_size=2, padding='valid', activation='relu', strides=1))\n",
    "model_cnn_01.add(GlobalMaxPooling1D())\n",
    "model_cnn_01.add(Dense(256, activation='relu'))\n",
    "model_cnn_01.add(Dense(1, activation='sigmoid'))\n",
    "model_cnn_01.compile(loss='binary_crossentropy', optimizer='adam', metrics=['accuracy'])\n",
    "model_cnn_01.fit(x_train_seq, y_train, validation_data=(x_test_seq, y_test), epochs=5, batch_size=32, verbose=2)"
   ]
  },
  {
   "cell_type": "code",
   "execution_count": 39,
   "id": "98c48f38",
   "metadata": {
    "ExecuteTime": {
     "end_time": "2021-11-10T01:53:05.417402Z",
     "start_time": "2021-11-10T01:53:00.738922Z"
    }
   },
   "outputs": [
    {
     "name": "stdout",
     "output_type": "stream",
     "text": [
      "Epoch 1/5\n",
      "5/5 - 1s - loss: 0.6864 - accuracy: 0.5229 - val_loss: 0.6761 - val_accuracy: 0.5897 - 1s/epoch - 242ms/step\n",
      "Epoch 2/5\n",
      "5/5 - 1s - loss: 0.6572 - accuracy: 0.6013 - val_loss: 0.6800 - val_accuracy: 0.5897 - 860ms/epoch - 172ms/step\n",
      "Epoch 3/5\n",
      "5/5 - 1s - loss: 0.6399 - accuracy: 0.6013 - val_loss: 0.6796 - val_accuracy: 0.5897 - 834ms/epoch - 167ms/step\n",
      "Epoch 4/5\n",
      "5/5 - 1s - loss: 0.6135 - accuracy: 0.6144 - val_loss: 0.6797 - val_accuracy: 0.5385 - 848ms/epoch - 170ms/step\n",
      "Epoch 5/5\n",
      "5/5 - 1s - loss: 0.5843 - accuracy: 0.6863 - val_loss: 0.6868 - val_accuracy: 0.5641 - 785ms/epoch - 157ms/step\n"
     ]
    },
    {
     "data": {
      "text/plain": [
       "<keras.callbacks.History at 0x24d05413340>"
      ]
     },
     "execution_count": 39,
     "metadata": {},
     "output_type": "execute_result"
    }
   ],
   "source": [
    "model_cnn_02 = Sequential()\n",
    "e = Embedding(100000, 200, input_length=len(length)+10)\n",
    "model_cnn_02.add(e)\n",
    "model_cnn_02.add(Conv1D(filters=100, kernel_size=2, padding='valid', activation='relu', strides=1))\n",
    "model_cnn_02.add(GlobalMaxPooling1D())\n",
    "model_cnn_02.add(Dense(256, activation='relu'))\n",
    "model_cnn_02.add(Dense(1, activation='sigmoid'))\n",
    "model_cnn_02.compile(loss='binary_crossentropy', optimizer='adam', metrics=['accuracy'])\n",
    "model_cnn_02.fit(x_train_seq, y_train, validation_data=(x_test_seq, y_test), epochs=5, batch_size=32, verbose=2)"
   ]
  },
  {
   "cell_type": "code",
   "execution_count": 40,
   "id": "89bbacbf",
   "metadata": {
    "ExecuteTime": {
     "end_time": "2021-11-10T01:53:10.215250Z",
     "start_time": "2021-11-10T01:53:05.418915Z"
    }
   },
   "outputs": [
    {
     "name": "stdout",
     "output_type": "stream",
     "text": [
      "Epoch 1/5\n",
      "5/5 - 1s - loss: 0.7743 - accuracy: 0.5686 - val_loss: 0.7152 - val_accuracy: 0.5128 - 1s/epoch - 249ms/step\n",
      "Epoch 2/5\n",
      "5/5 - 1s - loss: 0.6386 - accuracy: 0.6013 - val_loss: 0.6925 - val_accuracy: 0.5385 - 868ms/epoch - 174ms/step\n",
      "Epoch 3/5\n",
      "5/5 - 1s - loss: 0.5952 - accuracy: 0.7059 - val_loss: 0.7102 - val_accuracy: 0.5385 - 787ms/epoch - 157ms/step\n",
      "Epoch 4/5\n",
      "5/5 - 1s - loss: 0.5509 - accuracy: 0.6863 - val_loss: 0.7206 - val_accuracy: 0.5385 - 868ms/epoch - 174ms/step\n",
      "Epoch 5/5\n",
      "5/5 - 1s - loss: 0.5168 - accuracy: 0.8039 - val_loss: 0.7389 - val_accuracy: 0.5128 - 806ms/epoch - 161ms/step\n"
     ]
    },
    {
     "data": {
      "text/plain": [
       "<keras.callbacks.History at 0x24d055bbcd0>"
      ]
     },
     "execution_count": 40,
     "metadata": {},
     "output_type": "execute_result"
    }
   ],
   "source": [
    "model_cnn_03 = Sequential()\n",
    "e = Embedding(100000, 200, weights=[embedding_matrix], input_length=len(length)+10, trainable=True)\n",
    "model_cnn_03.add(e)\n",
    "model_cnn_03.add(Conv1D(filters=100, kernel_size=2, padding='valid', activation='relu', strides=1))\n",
    "model_cnn_03.add(GlobalMaxPooling1D())\n",
    "model_cnn_03.add(Dense(256, activation='relu'))\n",
    "model_cnn_03.add(Dense(1, activation='sigmoid'))\n",
    "model_cnn_03.compile(loss='binary_crossentropy', optimizer='adam', metrics=['accuracy'])\n",
    "model_cnn_03.fit(x_train_seq, y_train, validation_data=(x_test_seq, y_test), epochs=5, batch_size=32, verbose=2)"
   ]
  },
  {
   "cell_type": "code",
   "execution_count": 41,
   "id": "7f4021f6",
   "metadata": {
    "ExecuteTime": {
     "end_time": "2021-11-10T01:53:10.407313Z",
     "start_time": "2021-11-10T01:53:10.217250Z"
    }
   },
   "outputs": [
    {
     "name": "stdout",
     "output_type": "stream",
     "text": [
      "Model: \"model\"\n",
      "__________________________________________________________________________________________________\n",
      " Layer (type)                   Output Shape         Param #     Connected to                     \n",
      "==================================================================================================\n",
      " input_1 (InputLayer)           [(None, 163)]        0           []                               \n",
      "                                                                                                  \n",
      " embedding_8 (Embedding)        (None, 163, 200)     20000000    ['input_1[0][0]']                \n",
      "                                                                                                  \n",
      " conv1d_5 (Conv1D)              (None, 162, 100)     40100       ['embedding_8[0][0]']            \n",
      "                                                                                                  \n",
      " conv1d_6 (Conv1D)              (None, 161, 100)     60100       ['embedding_8[0][0]']            \n",
      "                                                                                                  \n",
      " conv1d_7 (Conv1D)              (None, 160, 100)     80100       ['embedding_8[0][0]']            \n",
      "                                                                                                  \n",
      " global_max_pooling1d_4 (Global  (None, 100)         0           ['conv1d_5[0][0]']               \n",
      " MaxPooling1D)                                                                                    \n",
      "                                                                                                  \n",
      " global_max_pooling1d_5 (Global  (None, 100)         0           ['conv1d_6[0][0]']               \n",
      " MaxPooling1D)                                                                                    \n",
      "                                                                                                  \n",
      " global_max_pooling1d_6 (Global  (None, 100)         0           ['conv1d_7[0][0]']               \n",
      " MaxPooling1D)                                                                                    \n",
      "                                                                                                  \n",
      " concatenate (Concatenate)      (None, 300)          0           ['global_max_pooling1d_4[0][0]', \n",
      "                                                                  'global_max_pooling1d_5[0][0]', \n",
      "                                                                  'global_max_pooling1d_6[0][0]'] \n",
      "                                                                                                  \n",
      " dense_12 (Dense)               (None, 256)          77056       ['concatenate[0][0]']            \n",
      "                                                                                                  \n",
      " dropout (Dropout)              (None, 256)          0           ['dense_12[0][0]']               \n",
      "                                                                                                  \n",
      " dense_13 (Dense)               (None, 1)            257         ['dropout[0][0]']                \n",
      "                                                                                                  \n",
      " activation (Activation)        (None, 1)            0           ['dense_13[0][0]']               \n",
      "                                                                                                  \n",
      "==================================================================================================\n",
      "Total params: 20,257,613\n",
      "Trainable params: 20,257,613\n",
      "Non-trainable params: 0\n",
      "__________________________________________________________________________________________________\n"
     ]
    }
   ],
   "source": [
    "tweet_input = Input(shape=(len(length)+10,), dtype='int32')\n",
    "\n",
    "tweet_encoder = Embedding(100000, 200, weights=[embedding_matrix], input_length=len(length)+10, trainable=True)(tweet_input)\n",
    "bigram_branch = Conv1D(filters=100, kernel_size=2, padding='valid', activation='relu', strides=1)(tweet_encoder)\n",
    "bigram_branch = GlobalMaxPooling1D()(bigram_branch)\n",
    "trigram_branch = Conv1D(filters=100, kernel_size=3, padding='valid', activation='relu', strides=1)(tweet_encoder)\n",
    "trigram_branch = GlobalMaxPooling1D()(trigram_branch)\n",
    "fourgram_branch = Conv1D(filters=100, kernel_size=4, padding='valid', activation='relu', strides=1)(tweet_encoder)\n",
    "fourgram_branch = GlobalMaxPooling1D()(fourgram_branch)\n",
    "merged = concatenate([bigram_branch, trigram_branch, fourgram_branch], axis=1)\n",
    "\n",
    "merged = Dense(256, activation='relu')(merged)\n",
    "merged = Dropout(0.2)(merged)\n",
    "merged = Dense(1)(merged)\n",
    "output = Activation('sigmoid')(merged)\n",
    "model = Model(inputs=[tweet_input], outputs=[output])\n",
    "model.compile(loss='binary_crossentropy',\n",
    "                  optimizer='adam',\n",
    "                  metrics=['accuracy'])\n",
    "model.summary()"
   ]
  },
  {
   "cell_type": "code",
   "execution_count": 42,
   "id": "4b4ae0c6",
   "metadata": {
    "ExecuteTime": {
     "end_time": "2021-11-10T01:53:16.609313Z",
     "start_time": "2021-11-10T01:53:10.409301Z"
    }
   },
   "outputs": [
    {
     "name": "stdout",
     "output_type": "stream",
     "text": [
      "Epoch 1/5\n",
      "5/5 [==============================] - ETA: 0s - loss: 1.8113 - accuracy: 0.4837\n",
      "Epoch 00001: val_accuracy improved from -inf to 0.43590, saving model to CNN_best_weights.01-0.4359.hdf5\n",
      "5/5 [==============================] - 2s 296ms/step - loss: 1.8113 - accuracy: 0.4837 - val_loss: 0.9628 - val_accuracy: 0.4359\n",
      "Epoch 2/5\n",
      "5/5 [==============================] - ETA: 0s - loss: 1.2517 - accuracy: 0.5490\n",
      "Epoch 00002: val_accuracy improved from 0.43590 to 0.53846, saving model to CNN_best_weights.02-0.5385.hdf5\n",
      "5/5 [==============================] - 1s 259ms/step - loss: 1.2517 - accuracy: 0.5490 - val_loss: 0.8314 - val_accuracy: 0.5385\n",
      "Epoch 3/5\n",
      "5/5 [==============================] - ETA: 0s - loss: 0.7947 - accuracy: 0.5817\n",
      "Epoch 00003: val_accuracy did not improve from 0.53846\n",
      "5/5 [==============================] - 1s 189ms/step - loss: 0.7947 - accuracy: 0.5817 - val_loss: 0.8675 - val_accuracy: 0.5128\n",
      "Epoch 4/5\n",
      "5/5 [==============================] - ETA: 0s - loss: 0.6026 - accuracy: 0.6863\n",
      "Epoch 00004: val_accuracy improved from 0.53846 to 0.56410, saving model to CNN_best_weights.04-0.5641.hdf5\n",
      "5/5 [==============================] - 1s 259ms/step - loss: 0.6026 - accuracy: 0.6863 - val_loss: 0.8757 - val_accuracy: 0.5641\n",
      "Epoch 5/5\n",
      "5/5 [==============================] - ETA: 0s - loss: 0.5108 - accuracy: 0.7582\n",
      "Epoch 00005: val_accuracy did not improve from 0.56410\n",
      "5/5 [==============================] - 1s 193ms/step - loss: 0.5108 - accuracy: 0.7582 - val_loss: 0.8537 - val_accuracy: 0.5128\n"
     ]
    },
    {
     "data": {
      "text/plain": [
       "<keras.callbacks.History at 0x24d05771700>"
      ]
     },
     "execution_count": 42,
     "metadata": {},
     "output_type": "execute_result"
    }
   ],
   "source": [
    "from keras.callbacks import ModelCheckpoint\n",
    "\n",
    "filepath=\"CNN_best_weights.{epoch:02d}-{val_accuracy:.4f}.hdf5\"\n",
    "checkpoint = ModelCheckpoint(filepath, monitor='val_accuracy', verbose=1, save_best_only=True, mode='max')\n",
    "\n",
    "model.fit(x_train_seq, y_train, batch_size=32, epochs=5,\n",
    "                     validation_data=(x_test_seq, y_test), callbacks = [checkpoint])"
   ]
  },
  {
   "cell_type": "code",
   "execution_count": 43,
   "id": "950c8058",
   "metadata": {
    "ExecuteTime": {
     "end_time": "2021-11-10T01:53:17.098257Z",
     "start_time": "2021-11-10T01:53:16.611314Z"
    }
   },
   "outputs": [
    {
     "name": "stdout",
     "output_type": "stream",
     "text": [
      "2/2 [==============================] - 0s 10ms/step - loss: 0.8687 - accuracy: 0.5641\n"
     ]
    },
    {
     "data": {
      "text/plain": [
       "[0.8687397837638855, 0.5641025900840759]"
      ]
     },
     "execution_count": 43,
     "metadata": {},
     "output_type": "execute_result"
    }
   ],
   "source": [
    "loaded_CNN_model = load_model('CNN_best_weights.01-0.0000.hdf5')\n",
    "loaded_CNN_model.evaluate(x=x_test_seq, y=y_test)"
   ]
  },
  {
   "cell_type": "code",
   "execution_count": 44,
   "id": "ad04a354",
   "metadata": {
    "ExecuteTime": {
     "end_time": "2021-11-10T01:53:17.192287Z",
     "start_time": "2021-11-10T01:53:17.100259Z"
    }
   },
   "outputs": [
    {
     "data": {
      "text/plain": [
       "TfidfVectorizer(max_features=100000, ngram_range=(1, 3))"
      ]
     },
     "execution_count": 44,
     "metadata": {},
     "output_type": "execute_result"
    }
   ],
   "source": [
    "tvec = TfidfVectorizer(max_features=100000,ngram_range=(1, 3))\n",
    "tvec.fit(x_train)"
   ]
  },
  {
   "cell_type": "code",
   "execution_count": 45,
   "id": "bfc703df",
   "metadata": {
    "ExecuteTime": {
     "end_time": "2021-11-10T01:53:17.271308Z",
     "start_time": "2021-11-10T01:53:17.194282Z"
    }
   },
   "outputs": [],
   "source": [
    "x_train_tfidf = tvec.transform(x_train)\n",
    "x_test_tfidf = tvec.transform(x_test)"
   ]
  },
  {
   "cell_type": "code",
   "execution_count": 46,
   "id": "eabf2d36",
   "metadata": {
    "ExecuteTime": {
     "end_time": "2021-11-10T01:53:17.429450Z",
     "start_time": "2021-11-10T01:53:17.273290Z"
    }
   },
   "outputs": [
    {
     "data": {
      "text/plain": [
       "LogisticRegression()"
      ]
     },
     "execution_count": 46,
     "metadata": {},
     "output_type": "execute_result"
    }
   ],
   "source": [
    "lr_with_tfidf = LogisticRegression()\n",
    "lr_with_tfidf.fit(x_train_tfidf,y_train)"
   ]
  },
  {
   "cell_type": "code",
   "execution_count": 47,
   "id": "0c2c9be7",
   "metadata": {
    "ExecuteTime": {
     "end_time": "2021-11-10T01:53:17.445453Z",
     "start_time": "2021-11-10T01:53:17.430450Z"
    }
   },
   "outputs": [
    {
     "data": {
      "text/plain": [
       "0.5641025641025641"
      ]
     },
     "execution_count": 47,
     "metadata": {},
     "output_type": "execute_result"
    }
   ],
   "source": [
    "lr_with_tfidf.score(x_test_tfidf,y_test)"
   ]
  },
  {
   "cell_type": "code",
   "execution_count": 48,
   "id": "7dbb0f81",
   "metadata": {
    "ExecuteTime": {
     "end_time": "2021-11-10T01:53:17.461462Z",
     "start_time": "2021-11-10T01:53:17.446454Z"
    }
   },
   "outputs": [],
   "source": [
    "yhat_lr = lr_with_tfidf.predict_proba(x_test_tfidf)"
   ]
  },
  {
   "cell_type": "code",
   "execution_count": 49,
   "id": "80184b16",
   "metadata": {
    "ExecuteTime": {
     "end_time": "2021-11-10T01:53:17.477459Z",
     "start_time": "2021-11-10T01:53:17.463456Z"
    }
   },
   "outputs": [],
   "source": [
    "sequences_test = tokenizer.texts_to_sequences(x_test)\n",
    "x_test_seq = pad_sequences(sequences_test, maxlen=len(length)+10)"
   ]
  },
  {
   "cell_type": "code",
   "execution_count": 50,
   "id": "3e1e0aa4",
   "metadata": {
    "ExecuteTime": {
     "end_time": "2021-11-10T01:53:17.540389Z",
     "start_time": "2021-11-10T01:53:17.479462Z"
    }
   },
   "outputs": [
    {
     "name": "stdout",
     "output_type": "stream",
     "text": [
      "2/2 [==============================] - 0s 4ms/step - loss: 0.8687 - accuracy: 0.5641\n"
     ]
    },
    {
     "data": {
      "text/plain": [
       "[0.8687397837638855, 0.5641025900840759]"
      ]
     },
     "execution_count": 50,
     "metadata": {},
     "output_type": "execute_result"
    }
   ],
   "source": [
    "loaded_CNN_model.evaluate(x=x_test_seq, y=y_test)"
   ]
  },
  {
   "cell_type": "code",
   "execution_count": 51,
   "id": "58a7e7fe",
   "metadata": {
    "ExecuteTime": {
     "end_time": "2021-11-10T01:53:17.665915Z",
     "start_time": "2021-11-10T01:53:17.541375Z"
    }
   },
   "outputs": [],
   "source": [
    "yhat_cnn = loaded_CNN_model.predict(x_test_seq)"
   ]
  },
  {
   "cell_type": "code",
   "execution_count": 52,
   "id": "3c774256",
   "metadata": {
    "ExecuteTime": {
     "end_time": "2021-11-10T01:53:17.792948Z",
     "start_time": "2021-11-10T01:53:17.667903Z"
    }
   },
   "outputs": [
    {
     "data": {
      "image/png": "[encoded data removed]",
      "text/plain": [
       "<Figure size 576x504 with 1 Axes>"
      ]
     },
     "metadata": {
      "needs_background": "light"
     },
     "output_type": "display_data"
    }
   ],
   "source": [
    "from sklearn.metrics import roc_curve, auc\n",
    "fpr, tpr, threshold = roc_curve(y_test, yhat_lr[:,1])\n",
    "roc_auc = auc(fpr, tpr)\n",
    "fpr_cnn, tpr_cnn, threshold = roc_curve(y_test, yhat_cnn)\n",
    "roc_auc_nn = auc(fpr_cnn, tpr_cnn)\n",
    "plt.figure(figsize=(8,7))\n",
    "plt.plot(fpr, tpr, label='tfidf-logit (area = %0.3f)' % roc_auc, linewidth=2)\n",
    "plt.plot(fpr_cnn, tpr_cnn, label='w2v-CNN (area = %0.3f)' % roc_auc_nn, linewidth=2)\n",
    "\n",
    "plt.plot([0, 1], [0, 1], 'k--', linewidth=2)\n",
    "plt.xlim([-0.05, 1.0])\n",
    "plt.ylim([-0.05, 1.05])\n",
    "plt.xlabel('False Positive Rate', fontsize=18)\n",
    "plt.ylabel('True Positive Rate', fontsize=18)\n",
    "plt.title('Receiver operating characteristic: is positive', fontsize=18)\n",
    "plt.legend(loc=\"lower right\")\n",
    "plt.show()"
   ]
  },
  {
   "cell_type": "code",
   "execution_count": null,
   "id": "8a34b0ff",
   "metadata": {
    "pycharm": {
     "name": "#%%\n"
    }
   },
   "outputs": [],
   "source": []
  }
 ],
 "metadata": {
  "kernelspec": {
   "display_name": "Python 3 (ipykernel)",
   "language": "python",
   "name": "python3"
  },
  "language_info": {
   "codemirror_mode": {
    "name": "ipython",
    "version": 3
   },
   "file_extension": ".py",
   "mimetype": "text/x-python",
   "name": "python",
   "nbconvert_exporter": "python",
   "pygments_lexer": "ipython3",
   "version": "3.9.5"
  },
  "toc": {
   "base_numbering": 1,
   "nav_menu": {},
   "number_sections": true,
   "sideBar": true,
   "skip_h1_title": true,
   "title_cell": "Table of Contents",
   "title_sidebar": "Contents",
   "toc_cell": true,
   "toc_position": {
    "height": "calc(100% - 180px)",
    "left": "10px",
    "top": "150px",
    "width": "291.513px"
   },
   "toc_section_display": true,
   "toc_window_display": true
  }
 },
 "nbformat": 4,
 "nbformat_minor": 5
}
